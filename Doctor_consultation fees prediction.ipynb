{
 "cells": [
  {
   "cell_type": "markdown",
   "id": "8977a25f",
   "metadata": {},
   "source": [
    "# Doctor's Consultation Fees Prediction"
   ]
  },
  {
   "cell_type": "code",
   "execution_count": 1,
   "id": "32f6890e",
   "metadata": {},
   "outputs": [],
   "source": [
    "import numpy as np\n",
    "import pandas as pd\n",
    "import matplotlib.pyplot as plt\n",
    "import seaborn as sns\n",
    "import warnings\n",
    "warnings.filterwarnings(\"ignore\")"
   ]
  },
  {
   "cell_type": "code",
   "execution_count": 2,
   "id": "b62a5d7b",
   "metadata": {},
   "outputs": [
    {
     "data": {
      "text/html": [
       "<div>\n",
       "<style scoped>\n",
       "    .dataframe tbody tr th:only-of-type {\n",
       "        vertical-align: middle;\n",
       "    }\n",
       "\n",
       "    .dataframe tbody tr th {\n",
       "        vertical-align: top;\n",
       "    }\n",
       "\n",
       "    .dataframe thead th {\n",
       "        text-align: right;\n",
       "    }\n",
       "</style>\n",
       "<table border=\"1\" class=\"dataframe\">\n",
       "  <thead>\n",
       "    <tr style=\"text-align: right;\">\n",
       "      <th></th>\n",
       "      <th>Qualification</th>\n",
       "      <th>Experience</th>\n",
       "      <th>Rating</th>\n",
       "      <th>Place</th>\n",
       "      <th>Profile</th>\n",
       "      <th>Miscellaneous_Info</th>\n",
       "      <th>Fees</th>\n",
       "    </tr>\n",
       "  </thead>\n",
       "  <tbody>\n",
       "    <tr>\n",
       "      <th>0</th>\n",
       "      <td>BHMS, MD - Homeopathy</td>\n",
       "      <td>24 years experience</td>\n",
       "      <td>100%</td>\n",
       "      <td>Kakkanad, Ernakulam</td>\n",
       "      <td>Homeopath</td>\n",
       "      <td>100% 16 Feedback Kakkanad, Ernakulam</td>\n",
       "      <td>100</td>\n",
       "    </tr>\n",
       "    <tr>\n",
       "      <th>1</th>\n",
       "      <td>BAMS, MD - Ayurveda Medicine</td>\n",
       "      <td>12 years experience</td>\n",
       "      <td>98%</td>\n",
       "      <td>Whitefield, Bangalore</td>\n",
       "      <td>Ayurveda</td>\n",
       "      <td>98% 76 Feedback Whitefield, Bangalore</td>\n",
       "      <td>350</td>\n",
       "    </tr>\n",
       "    <tr>\n",
       "      <th>2</th>\n",
       "      <td>MBBS, MS - Otorhinolaryngology</td>\n",
       "      <td>9 years experience</td>\n",
       "      <td>NaN</td>\n",
       "      <td>Mathikere - BEL, Bangalore</td>\n",
       "      <td>ENT Specialist</td>\n",
       "      <td>NaN</td>\n",
       "      <td>300</td>\n",
       "    </tr>\n",
       "    <tr>\n",
       "      <th>3</th>\n",
       "      <td>BSc - Zoology, BAMS</td>\n",
       "      <td>12 years experience</td>\n",
       "      <td>NaN</td>\n",
       "      <td>Bannerghatta Road, Bangalore</td>\n",
       "      <td>Ayurveda</td>\n",
       "      <td>Bannerghatta Road, Bangalore ?250 Available on...</td>\n",
       "      <td>250</td>\n",
       "    </tr>\n",
       "    <tr>\n",
       "      <th>4</th>\n",
       "      <td>BAMS</td>\n",
       "      <td>20 years experience</td>\n",
       "      <td>100%</td>\n",
       "      <td>Keelkattalai, Chennai</td>\n",
       "      <td>Ayurveda</td>\n",
       "      <td>100% 4 Feedback Keelkattalai, Chennai</td>\n",
       "      <td>250</td>\n",
       "    </tr>\n",
       "  </tbody>\n",
       "</table>\n",
       "</div>"
      ],
      "text/plain": [
       "                    Qualification           Experience Rating  \\\n",
       "0           BHMS, MD - Homeopathy  24 years experience   100%   \n",
       "1    BAMS, MD - Ayurveda Medicine  12 years experience    98%   \n",
       "2  MBBS, MS - Otorhinolaryngology   9 years experience    NaN   \n",
       "3             BSc - Zoology, BAMS  12 years experience    NaN   \n",
       "4                            BAMS  20 years experience   100%   \n",
       "\n",
       "                          Place         Profile  \\\n",
       "0           Kakkanad, Ernakulam       Homeopath   \n",
       "1         Whitefield, Bangalore        Ayurveda   \n",
       "2    Mathikere - BEL, Bangalore  ENT Specialist   \n",
       "3  Bannerghatta Road, Bangalore        Ayurveda   \n",
       "4         Keelkattalai, Chennai        Ayurveda   \n",
       "\n",
       "                                  Miscellaneous_Info  Fees  \n",
       "0               100% 16 Feedback Kakkanad, Ernakulam   100  \n",
       "1              98% 76 Feedback Whitefield, Bangalore   350  \n",
       "2                                                NaN   300  \n",
       "3  Bannerghatta Road, Bangalore ?250 Available on...   250  \n",
       "4              100% 4 Feedback Keelkattalai, Chennai   250  "
      ]
     },
     "execution_count": 2,
     "metadata": {},
     "output_type": "execute_result"
    }
   ],
   "source": [
    "#Importing the train dataset.\n",
    "df1=pd.read_csv(\"Doctor_Final_Train.csv\",encoding='unicode_escape')\n",
    "df1.head()"
   ]
  },
  {
   "cell_type": "code",
   "execution_count": 3,
   "id": "89b13028",
   "metadata": {},
   "outputs": [
    {
     "data": {
      "text/plain": [
       "Qualification         object\n",
       "Experience            object\n",
       "Rating                object\n",
       "Place                 object\n",
       "Profile               object\n",
       "Miscellaneous_Info    object\n",
       "Fees                   int64\n",
       "dtype: object"
      ]
     },
     "execution_count": 3,
     "metadata": {},
     "output_type": "execute_result"
    }
   ],
   "source": [
    "#cheking datatype of each column of the dataset\n",
    "df1.dtypes"
   ]
  },
  {
   "cell_type": "code",
   "execution_count": 4,
   "id": "8d02ed3e",
   "metadata": {},
   "outputs": [
    {
     "data": {
      "text/plain": [
       "(5961, 7)"
      ]
     },
     "execution_count": 4,
     "metadata": {},
     "output_type": "execute_result"
    }
   ],
   "source": [
    "#cheking shape of the dataset\n",
    "df1.shape"
   ]
  },
  {
   "cell_type": "markdown",
   "id": "c7be0e53",
   "metadata": {},
   "source": [
    "We have 5961 rows and 7 columns."
   ]
  },
  {
   "cell_type": "code",
   "execution_count": 5,
   "id": "ab2ec49a",
   "metadata": {},
   "outputs": [
    {
     "data": {
      "text/plain": [
       "Index(['Qualification', 'Experience', 'Rating', 'Place', 'Profile',\n",
       "       'Miscellaneous_Info', 'Fees'],\n",
       "      dtype='object')"
      ]
     },
     "execution_count": 5,
     "metadata": {},
     "output_type": "execute_result"
    }
   ],
   "source": [
    "#cheking column names\n",
    "df1.columns"
   ]
  },
  {
   "cell_type": "markdown",
   "id": "b8b6c130",
   "metadata": {},
   "source": [
    "Target column:\n",
    "Fees: Fees charged by the doctor\n",
    "    \n",
    "Independent columns:\n",
    "Remaining columns"
   ]
  },
  {
   "cell_type": "code",
   "execution_count": 6,
   "id": "7151d12f",
   "metadata": {},
   "outputs": [
    {
     "data": {
      "text/plain": [
       "Qualification            0\n",
       "Experience               0\n",
       "Rating                3302\n",
       "Place                   25\n",
       "Profile                  0\n",
       "Miscellaneous_Info    2620\n",
       "Fees                     0\n",
       "dtype: int64"
      ]
     },
     "execution_count": 6,
     "metadata": {},
     "output_type": "execute_result"
    }
   ],
   "source": [
    "df1.isnull().sum()"
   ]
  },
  {
   "cell_type": "code",
   "execution_count": 7,
   "id": "6bb9d0a6",
   "metadata": {},
   "outputs": [
    {
     "data": {
      "image/png": "[encoded data removed]",
      "text/plain": [
       "<Figure size 1440x648 with 2 Axes>"
      ]
     },
     "metadata": {
      "needs_background": "light"
     },
     "output_type": "display_data"
    }
   ],
   "source": [
    "plt.figure(figsize=[20,9])\n",
    "sns.heatmap(df1.isnull())\n",
    "plt.show()"
   ]
  },
  {
   "cell_type": "markdown",
   "id": "5accfb67",
   "metadata": {},
   "source": [
    "Rating, place and miscellaneous info have null values in them."
   ]
  },
  {
   "cell_type": "code",
   "execution_count": 8,
   "id": "aa72263f",
   "metadata": {},
   "outputs": [
    {
     "data": {
      "text/html": [
       "<div>\n",
       "<style scoped>\n",
       "    .dataframe tbody tr th:only-of-type {\n",
       "        vertical-align: middle;\n",
       "    }\n",
       "\n",
       "    .dataframe tbody tr th {\n",
       "        vertical-align: top;\n",
       "    }\n",
       "\n",
       "    .dataframe thead th {\n",
       "        text-align: right;\n",
       "    }\n",
       "</style>\n",
       "<table border=\"1\" class=\"dataframe\">\n",
       "  <thead>\n",
       "    <tr style=\"text-align: right;\">\n",
       "      <th></th>\n",
       "      <th>Fees</th>\n",
       "    </tr>\n",
       "  </thead>\n",
       "  <tbody>\n",
       "    <tr>\n",
       "      <th>count</th>\n",
       "      <td>5961.000000</td>\n",
       "    </tr>\n",
       "    <tr>\n",
       "      <th>mean</th>\n",
       "      <td>307.944640</td>\n",
       "    </tr>\n",
       "    <tr>\n",
       "      <th>std</th>\n",
       "      <td>190.920373</td>\n",
       "    </tr>\n",
       "    <tr>\n",
       "      <th>min</th>\n",
       "      <td>5.000000</td>\n",
       "    </tr>\n",
       "    <tr>\n",
       "      <th>25%</th>\n",
       "      <td>150.000000</td>\n",
       "    </tr>\n",
       "    <tr>\n",
       "      <th>50%</th>\n",
       "      <td>300.000000</td>\n",
       "    </tr>\n",
       "    <tr>\n",
       "      <th>75%</th>\n",
       "      <td>500.000000</td>\n",
       "    </tr>\n",
       "    <tr>\n",
       "      <th>max</th>\n",
       "      <td>950.000000</td>\n",
       "    </tr>\n",
       "  </tbody>\n",
       "</table>\n",
       "</div>"
      ],
      "text/plain": [
       "              Fees\n",
       "count  5961.000000\n",
       "mean    307.944640\n",
       "std     190.920373\n",
       "min       5.000000\n",
       "25%     150.000000\n",
       "50%     300.000000\n",
       "75%     500.000000\n",
       "max     950.000000"
      ]
     },
     "execution_count": 8,
     "metadata": {},
     "output_type": "execute_result"
    }
   ],
   "source": [
    "df1.describe()"
   ]
  },
  {
   "cell_type": "markdown",
   "id": "d4337f1b",
   "metadata": {},
   "source": [
    "Minimum fee is 5 and maximum fee is 950\n",
    "Describe function is not able to provide details for each column as the data is not in the presentable format.\n",
    "We will solve this issue in further steps."
   ]
  },
  {
   "cell_type": "markdown",
   "id": "79bd23a9",
   "metadata": {},
   "source": [
    "Experience column has string data, cannot be accpted by ML model.\n",
    "We will convert it into integer data type by converting its values."
   ]
  },
  {
   "cell_type": "code",
   "execution_count": 9,
   "id": "c89cd25c",
   "metadata": {},
   "outputs": [],
   "source": [
    "# Extracting only experience Year from Experience column and converting it to Numeric.\n",
    "df1['Experience'] = df1['Experience'].str.split().str[0]\n",
    "df1['Experience'] = df1['Experience'].astype(int)"
   ]
  },
  {
   "cell_type": "code",
   "execution_count": 10,
   "id": "ec7f3fb6",
   "metadata": {},
   "outputs": [
    {
     "data": {
      "text/html": [
       "<div>\n",
       "<style scoped>\n",
       "    .dataframe tbody tr th:only-of-type {\n",
       "        vertical-align: middle;\n",
       "    }\n",
       "\n",
       "    .dataframe tbody tr th {\n",
       "        vertical-align: top;\n",
       "    }\n",
       "\n",
       "    .dataframe thead th {\n",
       "        text-align: right;\n",
       "    }\n",
       "</style>\n",
       "<table border=\"1\" class=\"dataframe\">\n",
       "  <thead>\n",
       "    <tr style=\"text-align: right;\">\n",
       "      <th></th>\n",
       "      <th>Qualification</th>\n",
       "      <th>Experience</th>\n",
       "      <th>Rating</th>\n",
       "      <th>Place</th>\n",
       "      <th>Profile</th>\n",
       "      <th>Miscellaneous_Info</th>\n",
       "      <th>Fees</th>\n",
       "    </tr>\n",
       "  </thead>\n",
       "  <tbody>\n",
       "    <tr>\n",
       "      <th>0</th>\n",
       "      <td>BHMS, MD - Homeopathy</td>\n",
       "      <td>24</td>\n",
       "      <td>100%</td>\n",
       "      <td>Kakkanad, Ernakulam</td>\n",
       "      <td>Homeopath</td>\n",
       "      <td>100% 16 Feedback Kakkanad, Ernakulam</td>\n",
       "      <td>100</td>\n",
       "    </tr>\n",
       "    <tr>\n",
       "      <th>1</th>\n",
       "      <td>BAMS, MD - Ayurveda Medicine</td>\n",
       "      <td>12</td>\n",
       "      <td>98%</td>\n",
       "      <td>Whitefield, Bangalore</td>\n",
       "      <td>Ayurveda</td>\n",
       "      <td>98% 76 Feedback Whitefield, Bangalore</td>\n",
       "      <td>350</td>\n",
       "    </tr>\n",
       "    <tr>\n",
       "      <th>2</th>\n",
       "      <td>MBBS, MS - Otorhinolaryngology</td>\n",
       "      <td>9</td>\n",
       "      <td>NaN</td>\n",
       "      <td>Mathikere - BEL, Bangalore</td>\n",
       "      <td>ENT Specialist</td>\n",
       "      <td>NaN</td>\n",
       "      <td>300</td>\n",
       "    </tr>\n",
       "    <tr>\n",
       "      <th>3</th>\n",
       "      <td>BSc - Zoology, BAMS</td>\n",
       "      <td>12</td>\n",
       "      <td>NaN</td>\n",
       "      <td>Bannerghatta Road, Bangalore</td>\n",
       "      <td>Ayurveda</td>\n",
       "      <td>Bannerghatta Road, Bangalore ?250 Available on...</td>\n",
       "      <td>250</td>\n",
       "    </tr>\n",
       "    <tr>\n",
       "      <th>4</th>\n",
       "      <td>BAMS</td>\n",
       "      <td>20</td>\n",
       "      <td>100%</td>\n",
       "      <td>Keelkattalai, Chennai</td>\n",
       "      <td>Ayurveda</td>\n",
       "      <td>100% 4 Feedback Keelkattalai, Chennai</td>\n",
       "      <td>250</td>\n",
       "    </tr>\n",
       "  </tbody>\n",
       "</table>\n",
       "</div>"
      ],
      "text/plain": [
       "                    Qualification  Experience Rating  \\\n",
       "0           BHMS, MD - Homeopathy          24   100%   \n",
       "1    BAMS, MD - Ayurveda Medicine          12    98%   \n",
       "2  MBBS, MS - Otorhinolaryngology           9    NaN   \n",
       "3             BSc - Zoology, BAMS          12    NaN   \n",
       "4                            BAMS          20   100%   \n",
       "\n",
       "                          Place         Profile  \\\n",
       "0           Kakkanad, Ernakulam       Homeopath   \n",
       "1         Whitefield, Bangalore        Ayurveda   \n",
       "2    Mathikere - BEL, Bangalore  ENT Specialist   \n",
       "3  Bannerghatta Road, Bangalore        Ayurveda   \n",
       "4         Keelkattalai, Chennai        Ayurveda   \n",
       "\n",
       "                                  Miscellaneous_Info  Fees  \n",
       "0               100% 16 Feedback Kakkanad, Ernakulam   100  \n",
       "1              98% 76 Feedback Whitefield, Bangalore   350  \n",
       "2                                                NaN   300  \n",
       "3  Bannerghatta Road, Bangalore ?250 Available on...   250  \n",
       "4              100% 4 Feedback Keelkattalai, Chennai   250  "
      ]
     },
     "execution_count": 10,
     "metadata": {},
     "output_type": "execute_result"
    }
   ],
   "source": [
    "df1.head()"
   ]
  },
  {
   "cell_type": "code",
   "execution_count": 11,
   "id": "15158704",
   "metadata": {},
   "outputs": [
    {
     "data": {
      "text/plain": [
       "2     2628\n",
       "1     1962\n",
       "3      995\n",
       "4      257\n",
       "5       84\n",
       "6       23\n",
       "7        6\n",
       "9        3\n",
       "8        2\n",
       "10       1\n",
       "Name: Qualification_count, dtype: int64"
      ]
     },
     "execution_count": 11,
     "metadata": {},
     "output_type": "execute_result"
    }
   ],
   "source": [
    "#Creating a new column qualification count to see how many qualification each doctor have\n",
    "df1['Qualification_count']=df1['Qualification'].apply(lambda x: len(x.split(\",\")))\n",
    "\n",
    "df1['Qualification_count'].value_counts()"
   ]
  },
  {
   "cell_type": "code",
   "execution_count": 12,
   "id": "db692fed",
   "metadata": {},
   "outputs": [
    {
     "data": {
      "text/plain": [
       "array(['BHMS, MD - Homeopathy', 'BAMS, MD - Ayurveda Medicine',\n",
       "       'MBBS, MS - Otorhinolaryngology', ...,\n",
       "       'MD - Dermatology , Venereology & Leprosy, MBBS, Fellowship In Dermatosurgery',\n",
       "       'BDS, certification in smile designing',\n",
       "       'MD - Homeopathy, Post Graduate Diploma in Healthcare Management(PGDHM), DHMS (Diploma in Homeopathic Medicine and Surgery)'],\n",
       "      dtype=object)"
      ]
     },
     "execution_count": 12,
     "metadata": {},
     "output_type": "execute_result"
    }
   ],
   "source": [
    "df1['Qualification'].unique()"
   ]
  },
  {
   "cell_type": "markdown",
   "id": "dbb8c94c",
   "metadata": {},
   "source": [
    "There are a number of Qualifications but most of doctors only has 1 or 2 qualification. \n",
    "\n",
    "In order to make our Machine learning train better, we will just target the most frequent 10 Qualifications."
   ]
  },
  {
   "cell_type": "code",
   "execution_count": 13,
   "id": "f6f7ac84",
   "metadata": {},
   "outputs": [],
   "source": [
    "# creating dict of qualification with there counts\n",
    "df1[\"Qualification\"]=df1[\"Qualification\"].str.split(',')\n",
    "Qualification ={}\n",
    "for x in df1[\"Qualification\"].values:\n",
    "    for i in x:\n",
    "        i=i.strip()\n",
    "        if i in Qualification:\n",
    "            Qualification[i]+=1\n",
    "        else:\n",
    "            Qualification[i]=1"
   ]
  },
  {
   "cell_type": "code",
   "execution_count": 14,
   "id": "eafca6c2",
   "metadata": {},
   "outputs": [
    {
     "name": "stdout",
     "output_type": "stream",
     "text": [
      "['MBBS', 'BDS', 'BAMS', 'BHMS', 'MD - Dermatology', 'MS - ENT', 'Venereology & Leprosy', 'MD - General Medicine', 'Diploma in Otorhinolaryngology (DLO)', 'MD - Homeopathy']\n"
     ]
    }
   ],
   "source": [
    "#Extracting top 10 qualification\n",
    "qual10=sorted(Qualification.items(),key=lambda x:x[1],reverse=True)[:10]\n",
    "final=[]\n",
    "for j in qual10:\n",
    "    final.append(j[0])\n",
    "    \n",
    "print(final)"
   ]
  },
  {
   "cell_type": "code",
   "execution_count": 15,
   "id": "92e64147",
   "metadata": {},
   "outputs": [],
   "source": [
    "#Encoding extracted top 10 qualification into the dataset as new columns.\n",
    "\n",
    "for qual in final:\n",
    "    df1[qual]=0\n",
    "\n",
    "for x,y in zip(df1['Qualification'].values, np.array([i for i in range(len(df1))])):\n",
    "    for c in x:\n",
    "        c=c.strip()\n",
    "        if c in final:\n",
    "            df1[c][y]=1"
   ]
  },
  {
   "cell_type": "code",
   "execution_count": 16,
   "id": "0d8c2a7a",
   "metadata": {},
   "outputs": [
    {
     "data": {
      "text/html": [
       "<div>\n",
       "<style scoped>\n",
       "    .dataframe tbody tr th:only-of-type {\n",
       "        vertical-align: middle;\n",
       "    }\n",
       "\n",
       "    .dataframe tbody tr th {\n",
       "        vertical-align: top;\n",
       "    }\n",
       "\n",
       "    .dataframe thead th {\n",
       "        text-align: right;\n",
       "    }\n",
       "</style>\n",
       "<table border=\"1\" class=\"dataframe\">\n",
       "  <thead>\n",
       "    <tr style=\"text-align: right;\">\n",
       "      <th></th>\n",
       "      <th>Qualification</th>\n",
       "      <th>Experience</th>\n",
       "      <th>Rating</th>\n",
       "      <th>Place</th>\n",
       "      <th>Profile</th>\n",
       "      <th>Miscellaneous_Info</th>\n",
       "      <th>Fees</th>\n",
       "      <th>Qualification_count</th>\n",
       "      <th>MBBS</th>\n",
       "      <th>BDS</th>\n",
       "      <th>BAMS</th>\n",
       "      <th>BHMS</th>\n",
       "      <th>MD - Dermatology</th>\n",
       "      <th>MS - ENT</th>\n",
       "      <th>Venereology &amp; Leprosy</th>\n",
       "      <th>MD - General Medicine</th>\n",
       "      <th>Diploma in Otorhinolaryngology (DLO)</th>\n",
       "      <th>MD - Homeopathy</th>\n",
       "    </tr>\n",
       "  </thead>\n",
       "  <tbody>\n",
       "    <tr>\n",
       "      <th>0</th>\n",
       "      <td>[BHMS,  MD - Homeopathy]</td>\n",
       "      <td>24</td>\n",
       "      <td>100%</td>\n",
       "      <td>Kakkanad, Ernakulam</td>\n",
       "      <td>Homeopath</td>\n",
       "      <td>100% 16 Feedback Kakkanad, Ernakulam</td>\n",
       "      <td>100</td>\n",
       "      <td>2</td>\n",
       "      <td>0</td>\n",
       "      <td>0</td>\n",
       "      <td>0</td>\n",
       "      <td>1</td>\n",
       "      <td>0</td>\n",
       "      <td>0</td>\n",
       "      <td>0</td>\n",
       "      <td>0</td>\n",
       "      <td>0</td>\n",
       "      <td>1</td>\n",
       "    </tr>\n",
       "    <tr>\n",
       "      <th>1</th>\n",
       "      <td>[BAMS,  MD - Ayurveda Medicine]</td>\n",
       "      <td>12</td>\n",
       "      <td>98%</td>\n",
       "      <td>Whitefield, Bangalore</td>\n",
       "      <td>Ayurveda</td>\n",
       "      <td>98% 76 Feedback Whitefield, Bangalore</td>\n",
       "      <td>350</td>\n",
       "      <td>2</td>\n",
       "      <td>0</td>\n",
       "      <td>0</td>\n",
       "      <td>1</td>\n",
       "      <td>0</td>\n",
       "      <td>0</td>\n",
       "      <td>0</td>\n",
       "      <td>0</td>\n",
       "      <td>0</td>\n",
       "      <td>0</td>\n",
       "      <td>0</td>\n",
       "    </tr>\n",
       "    <tr>\n",
       "      <th>2</th>\n",
       "      <td>[MBBS,  MS - Otorhinolaryngology]</td>\n",
       "      <td>9</td>\n",
       "      <td>NaN</td>\n",
       "      <td>Mathikere - BEL, Bangalore</td>\n",
       "      <td>ENT Specialist</td>\n",
       "      <td>NaN</td>\n",
       "      <td>300</td>\n",
       "      <td>2</td>\n",
       "      <td>1</td>\n",
       "      <td>0</td>\n",
       "      <td>0</td>\n",
       "      <td>0</td>\n",
       "      <td>0</td>\n",
       "      <td>0</td>\n",
       "      <td>0</td>\n",
       "      <td>0</td>\n",
       "      <td>0</td>\n",
       "      <td>0</td>\n",
       "    </tr>\n",
       "  </tbody>\n",
       "</table>\n",
       "</div>"
      ],
      "text/plain": [
       "                       Qualification  Experience Rating  \\\n",
       "0           [BHMS,  MD - Homeopathy]          24   100%   \n",
       "1    [BAMS,  MD - Ayurveda Medicine]          12    98%   \n",
       "2  [MBBS,  MS - Otorhinolaryngology]           9    NaN   \n",
       "\n",
       "                        Place         Profile  \\\n",
       "0         Kakkanad, Ernakulam       Homeopath   \n",
       "1       Whitefield, Bangalore        Ayurveda   \n",
       "2  Mathikere - BEL, Bangalore  ENT Specialist   \n",
       "\n",
       "                      Miscellaneous_Info  Fees  Qualification_count  MBBS  \\\n",
       "0   100% 16 Feedback Kakkanad, Ernakulam   100                    2     0   \n",
       "1  98% 76 Feedback Whitefield, Bangalore   350                    2     0   \n",
       "2                                    NaN   300                    2     1   \n",
       "\n",
       "   BDS  BAMS  BHMS  MD - Dermatology  MS - ENT  Venereology & Leprosy  \\\n",
       "0    0     0     1                 0         0                      0   \n",
       "1    0     1     0                 0         0                      0   \n",
       "2    0     0     0                 0         0                      0   \n",
       "\n",
       "   MD - General Medicine  Diploma in Otorhinolaryngology (DLO)  \\\n",
       "0                      0                                     0   \n",
       "1                      0                                     0   \n",
       "2                      0                                     0   \n",
       "\n",
       "   MD - Homeopathy  \n",
       "0                1  \n",
       "1                0  \n",
       "2                0  "
      ]
     },
     "execution_count": 16,
     "metadata": {},
     "output_type": "execute_result"
    }
   ],
   "source": [
    "df1.head(3)"
   ]
  },
  {
   "cell_type": "code",
   "execution_count": 17,
   "id": "34e43611",
   "metadata": {},
   "outputs": [],
   "source": [
    "# Now we can drop the qualification and qualification count columns \n",
    "df1.drop(['Qualification','Qualification_count'],axis=1,inplace=True)"
   ]
  },
  {
   "cell_type": "code",
   "execution_count": 18,
   "id": "91c51c40",
   "metadata": {},
   "outputs": [
    {
     "data": {
      "text/html": [
       "<div>\n",
       "<style scoped>\n",
       "    .dataframe tbody tr th:only-of-type {\n",
       "        vertical-align: middle;\n",
       "    }\n",
       "\n",
       "    .dataframe tbody tr th {\n",
       "        vertical-align: top;\n",
       "    }\n",
       "\n",
       "    .dataframe thead th {\n",
       "        text-align: right;\n",
       "    }\n",
       "</style>\n",
       "<table border=\"1\" class=\"dataframe\">\n",
       "  <thead>\n",
       "    <tr style=\"text-align: right;\">\n",
       "      <th></th>\n",
       "      <th>Experience</th>\n",
       "      <th>Rating</th>\n",
       "      <th>Place</th>\n",
       "      <th>Profile</th>\n",
       "      <th>Miscellaneous_Info</th>\n",
       "      <th>Fees</th>\n",
       "      <th>MBBS</th>\n",
       "      <th>BDS</th>\n",
       "      <th>BAMS</th>\n",
       "      <th>BHMS</th>\n",
       "      <th>MD - Dermatology</th>\n",
       "      <th>MS - ENT</th>\n",
       "      <th>Venereology &amp; Leprosy</th>\n",
       "      <th>MD - General Medicine</th>\n",
       "      <th>Diploma in Otorhinolaryngology (DLO)</th>\n",
       "      <th>MD - Homeopathy</th>\n",
       "    </tr>\n",
       "  </thead>\n",
       "  <tbody>\n",
       "    <tr>\n",
       "      <th>0</th>\n",
       "      <td>24</td>\n",
       "      <td>100%</td>\n",
       "      <td>Kakkanad, Ernakulam</td>\n",
       "      <td>Homeopath</td>\n",
       "      <td>100% 16 Feedback Kakkanad, Ernakulam</td>\n",
       "      <td>100</td>\n",
       "      <td>0</td>\n",
       "      <td>0</td>\n",
       "      <td>0</td>\n",
       "      <td>1</td>\n",
       "      <td>0</td>\n",
       "      <td>0</td>\n",
       "      <td>0</td>\n",
       "      <td>0</td>\n",
       "      <td>0</td>\n",
       "      <td>1</td>\n",
       "    </tr>\n",
       "    <tr>\n",
       "      <th>1</th>\n",
       "      <td>12</td>\n",
       "      <td>98%</td>\n",
       "      <td>Whitefield, Bangalore</td>\n",
       "      <td>Ayurveda</td>\n",
       "      <td>98% 76 Feedback Whitefield, Bangalore</td>\n",
       "      <td>350</td>\n",
       "      <td>0</td>\n",
       "      <td>0</td>\n",
       "      <td>1</td>\n",
       "      <td>0</td>\n",
       "      <td>0</td>\n",
       "      <td>0</td>\n",
       "      <td>0</td>\n",
       "      <td>0</td>\n",
       "      <td>0</td>\n",
       "      <td>0</td>\n",
       "    </tr>\n",
       "    <tr>\n",
       "      <th>2</th>\n",
       "      <td>9</td>\n",
       "      <td>NaN</td>\n",
       "      <td>Mathikere - BEL, Bangalore</td>\n",
       "      <td>ENT Specialist</td>\n",
       "      <td>NaN</td>\n",
       "      <td>300</td>\n",
       "      <td>1</td>\n",
       "      <td>0</td>\n",
       "      <td>0</td>\n",
       "      <td>0</td>\n",
       "      <td>0</td>\n",
       "      <td>0</td>\n",
       "      <td>0</td>\n",
       "      <td>0</td>\n",
       "      <td>0</td>\n",
       "      <td>0</td>\n",
       "    </tr>\n",
       "    <tr>\n",
       "      <th>3</th>\n",
       "      <td>12</td>\n",
       "      <td>NaN</td>\n",
       "      <td>Bannerghatta Road, Bangalore</td>\n",
       "      <td>Ayurveda</td>\n",
       "      <td>Bannerghatta Road, Bangalore ?250 Available on...</td>\n",
       "      <td>250</td>\n",
       "      <td>0</td>\n",
       "      <td>0</td>\n",
       "      <td>1</td>\n",
       "      <td>0</td>\n",
       "      <td>0</td>\n",
       "      <td>0</td>\n",
       "      <td>0</td>\n",
       "      <td>0</td>\n",
       "      <td>0</td>\n",
       "      <td>0</td>\n",
       "    </tr>\n",
       "    <tr>\n",
       "      <th>4</th>\n",
       "      <td>20</td>\n",
       "      <td>100%</td>\n",
       "      <td>Keelkattalai, Chennai</td>\n",
       "      <td>Ayurveda</td>\n",
       "      <td>100% 4 Feedback Keelkattalai, Chennai</td>\n",
       "      <td>250</td>\n",
       "      <td>0</td>\n",
       "      <td>0</td>\n",
       "      <td>1</td>\n",
       "      <td>0</td>\n",
       "      <td>0</td>\n",
       "      <td>0</td>\n",
       "      <td>0</td>\n",
       "      <td>0</td>\n",
       "      <td>0</td>\n",
       "      <td>0</td>\n",
       "    </tr>\n",
       "  </tbody>\n",
       "</table>\n",
       "</div>"
      ],
      "text/plain": [
       "   Experience Rating                         Place         Profile  \\\n",
       "0          24   100%           Kakkanad, Ernakulam       Homeopath   \n",
       "1          12    98%         Whitefield, Bangalore        Ayurveda   \n",
       "2           9    NaN    Mathikere - BEL, Bangalore  ENT Specialist   \n",
       "3          12    NaN  Bannerghatta Road, Bangalore        Ayurveda   \n",
       "4          20   100%         Keelkattalai, Chennai        Ayurveda   \n",
       "\n",
       "                                  Miscellaneous_Info  Fees  MBBS  BDS  BAMS  \\\n",
       "0               100% 16 Feedback Kakkanad, Ernakulam   100     0    0     0   \n",
       "1              98% 76 Feedback Whitefield, Bangalore   350     0    0     1   \n",
       "2                                                NaN   300     1    0     0   \n",
       "3  Bannerghatta Road, Bangalore ?250 Available on...   250     0    0     1   \n",
       "4              100% 4 Feedback Keelkattalai, Chennai   250     0    0     1   \n",
       "\n",
       "   BHMS  MD - Dermatology  MS - ENT  Venereology & Leprosy  \\\n",
       "0     1                 0         0                      0   \n",
       "1     0                 0         0                      0   \n",
       "2     0                 0         0                      0   \n",
       "3     0                 0         0                      0   \n",
       "4     0                 0         0                      0   \n",
       "\n",
       "   MD - General Medicine  Diploma in Otorhinolaryngology (DLO)  \\\n",
       "0                      0                                     0   \n",
       "1                      0                                     0   \n",
       "2                      0                                     0   \n",
       "3                      0                                     0   \n",
       "4                      0                                     0   \n",
       "\n",
       "   MD - Homeopathy  \n",
       "0                1  \n",
       "1                0  \n",
       "2                0  \n",
       "3                0  \n",
       "4                0  "
      ]
     },
     "execution_count": 18,
     "metadata": {},
     "output_type": "execute_result"
    }
   ],
   "source": [
    "df1.head()"
   ]
  },
  {
   "cell_type": "code",
   "execution_count": 19,
   "id": "c81f1c49",
   "metadata": {},
   "outputs": [],
   "source": [
    "#As, there are missing values in Place column so we will replace them with Unknown, Unknown(locality,city) to represent them. So that we can easily extract city and locality from Place variable.\n",
    "df1.Place.fillna('Unknown,Unknown',inplace=True)\n",
    "\n",
    "#Separating locality and city in individual columns.\n",
    "df1['locality']=df1['Place'].str.split(\",\").str[0]\n",
    "df1['city']=df1['Place'].str.split(\",\").str[1]"
   ]
  },
  {
   "cell_type": "code",
   "execution_count": 20,
   "id": "2fc3bf41",
   "metadata": {},
   "outputs": [],
   "source": [
    "#Now we can drop the place variable\n",
    "df1.drop('Place',axis=1,inplace=True)"
   ]
  },
  {
   "cell_type": "code",
   "execution_count": 21,
   "id": "9df42520",
   "metadata": {},
   "outputs": [],
   "source": [
    "#Dropping the locality column\n",
    "df1.drop('locality',axis=1,inplace=True)"
   ]
  },
  {
   "cell_type": "markdown",
   "id": "18683d63",
   "metadata": {},
   "source": [
    "we have dropped \"locality\" column as we already have city column which works as same.\n",
    "\n",
    "It will help in training our ML model in ease way."
   ]
  },
  {
   "cell_type": "code",
   "execution_count": 22,
   "id": "8eca4ac0",
   "metadata": {},
   "outputs": [
    {
     "data": {
      "text/html": [
       "<div>\n",
       "<style scoped>\n",
       "    .dataframe tbody tr th:only-of-type {\n",
       "        vertical-align: middle;\n",
       "    }\n",
       "\n",
       "    .dataframe tbody tr th {\n",
       "        vertical-align: top;\n",
       "    }\n",
       "\n",
       "    .dataframe thead th {\n",
       "        text-align: right;\n",
       "    }\n",
       "</style>\n",
       "<table border=\"1\" class=\"dataframe\">\n",
       "  <thead>\n",
       "    <tr style=\"text-align: right;\">\n",
       "      <th></th>\n",
       "      <th>Experience</th>\n",
       "      <th>Rating</th>\n",
       "      <th>Profile</th>\n",
       "      <th>Miscellaneous_Info</th>\n",
       "      <th>Fees</th>\n",
       "      <th>MBBS</th>\n",
       "      <th>BDS</th>\n",
       "      <th>BAMS</th>\n",
       "      <th>BHMS</th>\n",
       "      <th>MD - Dermatology</th>\n",
       "      <th>MS - ENT</th>\n",
       "      <th>Venereology &amp; Leprosy</th>\n",
       "      <th>MD - General Medicine</th>\n",
       "      <th>Diploma in Otorhinolaryngology (DLO)</th>\n",
       "      <th>MD - Homeopathy</th>\n",
       "      <th>city</th>\n",
       "    </tr>\n",
       "  </thead>\n",
       "  <tbody>\n",
       "    <tr>\n",
       "      <th>0</th>\n",
       "      <td>24</td>\n",
       "      <td>100%</td>\n",
       "      <td>Homeopath</td>\n",
       "      <td>100% 16 Feedback Kakkanad, Ernakulam</td>\n",
       "      <td>100</td>\n",
       "      <td>0</td>\n",
       "      <td>0</td>\n",
       "      <td>0</td>\n",
       "      <td>1</td>\n",
       "      <td>0</td>\n",
       "      <td>0</td>\n",
       "      <td>0</td>\n",
       "      <td>0</td>\n",
       "      <td>0</td>\n",
       "      <td>1</td>\n",
       "      <td>Ernakulam</td>\n",
       "    </tr>\n",
       "    <tr>\n",
       "      <th>1</th>\n",
       "      <td>12</td>\n",
       "      <td>98%</td>\n",
       "      <td>Ayurveda</td>\n",
       "      <td>98% 76 Feedback Whitefield, Bangalore</td>\n",
       "      <td>350</td>\n",
       "      <td>0</td>\n",
       "      <td>0</td>\n",
       "      <td>1</td>\n",
       "      <td>0</td>\n",
       "      <td>0</td>\n",
       "      <td>0</td>\n",
       "      <td>0</td>\n",
       "      <td>0</td>\n",
       "      <td>0</td>\n",
       "      <td>0</td>\n",
       "      <td>Bangalore</td>\n",
       "    </tr>\n",
       "    <tr>\n",
       "      <th>2</th>\n",
       "      <td>9</td>\n",
       "      <td>NaN</td>\n",
       "      <td>ENT Specialist</td>\n",
       "      <td>NaN</td>\n",
       "      <td>300</td>\n",
       "      <td>1</td>\n",
       "      <td>0</td>\n",
       "      <td>0</td>\n",
       "      <td>0</td>\n",
       "      <td>0</td>\n",
       "      <td>0</td>\n",
       "      <td>0</td>\n",
       "      <td>0</td>\n",
       "      <td>0</td>\n",
       "      <td>0</td>\n",
       "      <td>Bangalore</td>\n",
       "    </tr>\n",
       "    <tr>\n",
       "      <th>3</th>\n",
       "      <td>12</td>\n",
       "      <td>NaN</td>\n",
       "      <td>Ayurveda</td>\n",
       "      <td>Bannerghatta Road, Bangalore ?250 Available on...</td>\n",
       "      <td>250</td>\n",
       "      <td>0</td>\n",
       "      <td>0</td>\n",
       "      <td>1</td>\n",
       "      <td>0</td>\n",
       "      <td>0</td>\n",
       "      <td>0</td>\n",
       "      <td>0</td>\n",
       "      <td>0</td>\n",
       "      <td>0</td>\n",
       "      <td>0</td>\n",
       "      <td>Bangalore</td>\n",
       "    </tr>\n",
       "    <tr>\n",
       "      <th>4</th>\n",
       "      <td>20</td>\n",
       "      <td>100%</td>\n",
       "      <td>Ayurveda</td>\n",
       "      <td>100% 4 Feedback Keelkattalai, Chennai</td>\n",
       "      <td>250</td>\n",
       "      <td>0</td>\n",
       "      <td>0</td>\n",
       "      <td>1</td>\n",
       "      <td>0</td>\n",
       "      <td>0</td>\n",
       "      <td>0</td>\n",
       "      <td>0</td>\n",
       "      <td>0</td>\n",
       "      <td>0</td>\n",
       "      <td>0</td>\n",
       "      <td>Chennai</td>\n",
       "    </tr>\n",
       "  </tbody>\n",
       "</table>\n",
       "</div>"
      ],
      "text/plain": [
       "   Experience Rating         Profile  \\\n",
       "0          24   100%       Homeopath   \n",
       "1          12    98%        Ayurveda   \n",
       "2           9    NaN  ENT Specialist   \n",
       "3          12    NaN        Ayurveda   \n",
       "4          20   100%        Ayurveda   \n",
       "\n",
       "                                  Miscellaneous_Info  Fees  MBBS  BDS  BAMS  \\\n",
       "0               100% 16 Feedback Kakkanad, Ernakulam   100     0    0     0   \n",
       "1              98% 76 Feedback Whitefield, Bangalore   350     0    0     1   \n",
       "2                                                NaN   300     1    0     0   \n",
       "3  Bannerghatta Road, Bangalore ?250 Available on...   250     0    0     1   \n",
       "4              100% 4 Feedback Keelkattalai, Chennai   250     0    0     1   \n",
       "\n",
       "   BHMS  MD - Dermatology  MS - ENT  Venereology & Leprosy  \\\n",
       "0     1                 0         0                      0   \n",
       "1     0                 0         0                      0   \n",
       "2     0                 0         0                      0   \n",
       "3     0                 0         0                      0   \n",
       "4     0                 0         0                      0   \n",
       "\n",
       "   MD - General Medicine  Diploma in Otorhinolaryngology (DLO)  \\\n",
       "0                      0                                     0   \n",
       "1                      0                                     0   \n",
       "2                      0                                     0   \n",
       "3                      0                                     0   \n",
       "4                      0                                     0   \n",
       "\n",
       "   MD - Homeopathy        city  \n",
       "0                1   Ernakulam  \n",
       "1                0   Bangalore  \n",
       "2                0   Bangalore  \n",
       "3                0   Bangalore  \n",
       "4                0     Chennai  "
      ]
     },
     "execution_count": 22,
     "metadata": {},
     "output_type": "execute_result"
    }
   ],
   "source": [
    "df1.head()"
   ]
  },
  {
   "cell_type": "code",
   "execution_count": 23,
   "id": "e53df95f",
   "metadata": {},
   "outputs": [],
   "source": [
    "# Filling the missing values in rating column with -99% to provide them different importance.\n",
    "df1['Rating'].fillna('-1%',inplace=True)"
   ]
  },
  {
   "cell_type": "code",
   "execution_count": 24,
   "id": "665a15fd",
   "metadata": {},
   "outputs": [],
   "source": [
    "# extracting value of rating to avoid '%' and converting it to numeric\n",
    "df1['Rating']=df1['Rating'].str.slice(stop=-1).astype(int)"
   ]
  },
  {
   "cell_type": "code",
   "execution_count": 25,
   "id": "be9fab95",
   "metadata": {},
   "outputs": [],
   "source": [
    "#Creating bins for ratings\n",
    "bins=[-1,0,10,20,30,40,50,60,70,80,90,100]\n",
    "labels=[i for i in range(11)]\n",
    "df1['Rating']=pd.cut(df1['Rating'], bins=bins, labels=labels, include_lowest=True)"
   ]
  },
  {
   "cell_type": "code",
   "execution_count": 26,
   "id": "7085e22d",
   "metadata": {},
   "outputs": [
    {
     "data": {
      "text/plain": [
       "0     3302\n",
       "10    2222\n",
       "9      280\n",
       "8       98\n",
       "7       32\n",
       "6       19\n",
       "4        4\n",
       "5        3\n",
       "1        1\n",
       "3        0\n",
       "2        0\n",
       "Name: Rating, dtype: int64"
      ]
     },
     "execution_count": 26,
     "metadata": {},
     "output_type": "execute_result"
    }
   ],
   "source": [
    "#Checking the counts of the bins created\n",
    "df1['Rating'].value_counts()"
   ]
  },
  {
   "cell_type": "code",
   "execution_count": 27,
   "id": "b7fe48d8",
   "metadata": {},
   "outputs": [
    {
     "data": {
      "text/plain": [
       "array([' Ernakulam', ' Bangalore', ' Chennai', ' Delhi', ' Hyderabad',\n",
       "       ' Coimbatore', ' Mumbai', ' Thiruvananthapuram', 'Unknown',\n",
       "       ' Sector 5', nan], dtype=object)"
      ]
     },
     "execution_count": 27,
     "metadata": {},
     "output_type": "execute_result"
    }
   ],
   "source": [
    "#Checking city counts\n",
    "df1['city'].unique()"
   ]
  },
  {
   "cell_type": "code",
   "execution_count": 28,
   "id": "9af3b2d4",
   "metadata": {},
   "outputs": [
    {
     "data": {
      "text/plain": [
       "1"
      ]
     },
     "execution_count": 28,
     "metadata": {},
     "output_type": "execute_result"
    }
   ],
   "source": [
    "#Checking null values in city column\n",
    "df1[\"city\"].isnull().sum()"
   ]
  },
  {
   "cell_type": "code",
   "execution_count": 29,
   "id": "16cfe5ad",
   "metadata": {},
   "outputs": [],
   "source": [
    "#filling it with the most frequent value\n",
    "df1['city'].fillna(df1['city'].mode()[0],inplace=True)"
   ]
  },
  {
   "cell_type": "code",
   "execution_count": 30,
   "id": "954b11f1",
   "metadata": {},
   "outputs": [
    {
     "data": {
      "text/plain": [
       "0"
      ]
     },
     "execution_count": 30,
     "metadata": {},
     "output_type": "execute_result"
    }
   ],
   "source": [
    "#now checking the null value again\n",
    "df1[\"city\"].isnull().sum()"
   ]
  },
  {
   "cell_type": "code",
   "execution_count": 31,
   "id": "4aa86ece",
   "metadata": {},
   "outputs": [],
   "source": [
    "df1.drop(\"Miscellaneous_Info\",axis=1,inplace=True)"
   ]
  },
  {
   "cell_type": "code",
   "execution_count": 32,
   "id": "e7936847",
   "metadata": {},
   "outputs": [
    {
     "data": {
      "text/html": [
       "<div>\n",
       "<style scoped>\n",
       "    .dataframe tbody tr th:only-of-type {\n",
       "        vertical-align: middle;\n",
       "    }\n",
       "\n",
       "    .dataframe tbody tr th {\n",
       "        vertical-align: top;\n",
       "    }\n",
       "\n",
       "    .dataframe thead th {\n",
       "        text-align: right;\n",
       "    }\n",
       "</style>\n",
       "<table border=\"1\" class=\"dataframe\">\n",
       "  <thead>\n",
       "    <tr style=\"text-align: right;\">\n",
       "      <th></th>\n",
       "      <th>Experience</th>\n",
       "      <th>Rating</th>\n",
       "      <th>Profile</th>\n",
       "      <th>Fees</th>\n",
       "      <th>MBBS</th>\n",
       "      <th>BDS</th>\n",
       "      <th>BAMS</th>\n",
       "      <th>BHMS</th>\n",
       "      <th>MD - Dermatology</th>\n",
       "      <th>MS - ENT</th>\n",
       "      <th>Venereology &amp; Leprosy</th>\n",
       "      <th>MD - General Medicine</th>\n",
       "      <th>Diploma in Otorhinolaryngology (DLO)</th>\n",
       "      <th>MD - Homeopathy</th>\n",
       "      <th>city</th>\n",
       "    </tr>\n",
       "  </thead>\n",
       "  <tbody>\n",
       "    <tr>\n",
       "      <th>0</th>\n",
       "      <td>24</td>\n",
       "      <td>10</td>\n",
       "      <td>Homeopath</td>\n",
       "      <td>100</td>\n",
       "      <td>0</td>\n",
       "      <td>0</td>\n",
       "      <td>0</td>\n",
       "      <td>1</td>\n",
       "      <td>0</td>\n",
       "      <td>0</td>\n",
       "      <td>0</td>\n",
       "      <td>0</td>\n",
       "      <td>0</td>\n",
       "      <td>1</td>\n",
       "      <td>Ernakulam</td>\n",
       "    </tr>\n",
       "    <tr>\n",
       "      <th>1</th>\n",
       "      <td>12</td>\n",
       "      <td>10</td>\n",
       "      <td>Ayurveda</td>\n",
       "      <td>350</td>\n",
       "      <td>0</td>\n",
       "      <td>0</td>\n",
       "      <td>1</td>\n",
       "      <td>0</td>\n",
       "      <td>0</td>\n",
       "      <td>0</td>\n",
       "      <td>0</td>\n",
       "      <td>0</td>\n",
       "      <td>0</td>\n",
       "      <td>0</td>\n",
       "      <td>Bangalore</td>\n",
       "    </tr>\n",
       "    <tr>\n",
       "      <th>2</th>\n",
       "      <td>9</td>\n",
       "      <td>0</td>\n",
       "      <td>ENT Specialist</td>\n",
       "      <td>300</td>\n",
       "      <td>1</td>\n",
       "      <td>0</td>\n",
       "      <td>0</td>\n",
       "      <td>0</td>\n",
       "      <td>0</td>\n",
       "      <td>0</td>\n",
       "      <td>0</td>\n",
       "      <td>0</td>\n",
       "      <td>0</td>\n",
       "      <td>0</td>\n",
       "      <td>Bangalore</td>\n",
       "    </tr>\n",
       "    <tr>\n",
       "      <th>3</th>\n",
       "      <td>12</td>\n",
       "      <td>0</td>\n",
       "      <td>Ayurveda</td>\n",
       "      <td>250</td>\n",
       "      <td>0</td>\n",
       "      <td>0</td>\n",
       "      <td>1</td>\n",
       "      <td>0</td>\n",
       "      <td>0</td>\n",
       "      <td>0</td>\n",
       "      <td>0</td>\n",
       "      <td>0</td>\n",
       "      <td>0</td>\n",
       "      <td>0</td>\n",
       "      <td>Bangalore</td>\n",
       "    </tr>\n",
       "    <tr>\n",
       "      <th>4</th>\n",
       "      <td>20</td>\n",
       "      <td>10</td>\n",
       "      <td>Ayurveda</td>\n",
       "      <td>250</td>\n",
       "      <td>0</td>\n",
       "      <td>0</td>\n",
       "      <td>1</td>\n",
       "      <td>0</td>\n",
       "      <td>0</td>\n",
       "      <td>0</td>\n",
       "      <td>0</td>\n",
       "      <td>0</td>\n",
       "      <td>0</td>\n",
       "      <td>0</td>\n",
       "      <td>Chennai</td>\n",
       "    </tr>\n",
       "  </tbody>\n",
       "</table>\n",
       "</div>"
      ],
      "text/plain": [
       "   Experience Rating         Profile  Fees  MBBS  BDS  BAMS  BHMS  \\\n",
       "0          24     10       Homeopath   100     0    0     0     1   \n",
       "1          12     10        Ayurveda   350     0    0     1     0   \n",
       "2           9      0  ENT Specialist   300     1    0     0     0   \n",
       "3          12      0        Ayurveda   250     0    0     1     0   \n",
       "4          20     10        Ayurveda   250     0    0     1     0   \n",
       "\n",
       "   MD - Dermatology  MS - ENT  Venereology & Leprosy  MD - General Medicine  \\\n",
       "0                 0         0                      0                      0   \n",
       "1                 0         0                      0                      0   \n",
       "2                 0         0                      0                      0   \n",
       "3                 0         0                      0                      0   \n",
       "4                 0         0                      0                      0   \n",
       "\n",
       "   Diploma in Otorhinolaryngology (DLO)  MD - Homeopathy        city  \n",
       "0                                     0                1   Ernakulam  \n",
       "1                                     0                0   Bangalore  \n",
       "2                                     0                0   Bangalore  \n",
       "3                                     0                0   Bangalore  \n",
       "4                                     0                0     Chennai  "
      ]
     },
     "execution_count": 32,
     "metadata": {},
     "output_type": "execute_result"
    }
   ],
   "source": [
    "df1.head()"
   ]
  },
  {
   "cell_type": "markdown",
   "id": "f6b59f0b",
   "metadata": {},
   "source": [
    "# Data Visualization"
   ]
  },
  {
   "cell_type": "code",
   "execution_count": 33,
   "id": "ea917f26",
   "metadata": {},
   "outputs": [
    {
     "data": {
      "image/png": "[encoded data removed]",
      "text/plain": [
       "<Figure size 432x288 with 1 Axes>"
      ]
     },
     "metadata": {
      "needs_background": "light"
     },
     "output_type": "display_data"
    },
    {
     "data": {
      "image/png": "[encoded data removed]",
      "text/plain": [
       "<Figure size 432x288 with 1 Axes>"
      ]
     },
     "metadata": {
      "needs_background": "light"
     },
     "output_type": "display_data"
    },
    {
     "data": {
      "image/png": "[encoded data removed]",
      "text/plain": [
       "<Figure size 432x288 with 1 Axes>"
      ]
     },
     "metadata": {
      "needs_background": "light"
     },
     "output_type": "display_data"
    }
   ],
   "source": [
    "for i in ['Profile','city','Rating']:\n",
    "    sns.barplot(x=i,y='Fees',data=df1)\n",
    "    plt.xticks(rotation=90)\n",
    "    plt.show()"
   ]
  },
  {
   "cell_type": "markdown",
   "id": "965359d2",
   "metadata": {},
   "source": [
    "Observations:\n",
    "\n",
    "ENT Specialist and Dermatologist have the high fee than others.\n",
    "\n",
    "Fees are high in Delhi,Banglore,mumbai and hyderabad.\n",
    "\n",
    "Doctos having rating of 4 and 5 have more fees."
   ]
  },
  {
   "cell_type": "code",
   "execution_count": 34,
   "id": "8d820de6",
   "metadata": {},
   "outputs": [
    {
     "data": {
      "image/png": "[encoded data removed]",
      "text/plain": [
       "<Figure size 432x288 with 1 Axes>"
      ]
     },
     "metadata": {
      "needs_background": "light"
     },
     "output_type": "display_data"
    }
   ],
   "source": [
    "#Experience vs rating\n",
    "sns.barplot(x='Rating',y='Experience',data=df1)\n",
    "plt.show()"
   ]
  },
  {
   "cell_type": "markdown",
   "id": "b2eeb1e7",
   "metadata": {},
   "source": [
    "Most experienced doctors have rating of 5 and 6 (40% to 60%)."
   ]
  },
  {
   "cell_type": "code",
   "execution_count": 35,
   "id": "864315cc",
   "metadata": {},
   "outputs": [
    {
     "data": {
      "image/png": "[encoded data removed]",
      "text/plain": [
       "<Figure size 432x288 with 1 Axes>"
      ]
     },
     "metadata": {
      "needs_background": "light"
     },
     "output_type": "display_data"
    }
   ],
   "source": [
    "#Experience vs fees\n",
    "plt.figure()\n",
    "plt.scatter(x=\"Experience\",y=\"Fees\",data=df1)\n",
    "plt.xlabel(\"Experience\")\n",
    "plt.ylabel(\"Fees\")\n",
    "plt.show()"
   ]
  },
  {
   "cell_type": "markdown",
   "id": "e60a4e3d",
   "metadata": {},
   "source": [
    "Doctors with experience of approx 30 years have high fees."
   ]
  },
  {
   "cell_type": "code",
   "execution_count": 36,
   "id": "1118e46d",
   "metadata": {},
   "outputs": [
    {
     "data": {
      "text/plain": [
       "Experience                                 int32\n",
       "Rating                                  category\n",
       "Profile                                   object\n",
       "Fees                                       int64\n",
       "MBBS                                       int64\n",
       "BDS                                        int64\n",
       "BAMS                                       int64\n",
       "BHMS                                       int64\n",
       "MD - Dermatology                           int64\n",
       "MS - ENT                                   int64\n",
       "Venereology & Leprosy                      int64\n",
       "MD - General Medicine                      int64\n",
       "Diploma in Otorhinolaryngology (DLO)       int64\n",
       "MD - Homeopathy                            int64\n",
       "city                                      object\n",
       "dtype: object"
      ]
     },
     "execution_count": 36,
     "metadata": {},
     "output_type": "execute_result"
    }
   ],
   "source": [
    "df1.dtypes"
   ]
  },
  {
   "cell_type": "code",
   "execution_count": 37,
   "id": "510121f4",
   "metadata": {},
   "outputs": [],
   "source": [
    "#Converting rating to int\n",
    "df1['Rating']=df1['Rating'].astype(int)"
   ]
  },
  {
   "cell_type": "code",
   "execution_count": 38,
   "id": "fa96f594",
   "metadata": {},
   "outputs": [],
   "source": [
    "cat=[\"Profile\",\"city\"]"
   ]
  },
  {
   "cell_type": "code",
   "execution_count": 39,
   "id": "eb82d821",
   "metadata": {},
   "outputs": [
    {
     "data": {
      "text/html": [
       "<div>\n",
       "<style scoped>\n",
       "    .dataframe tbody tr th:only-of-type {\n",
       "        vertical-align: middle;\n",
       "    }\n",
       "\n",
       "    .dataframe tbody tr th {\n",
       "        vertical-align: top;\n",
       "    }\n",
       "\n",
       "    .dataframe thead th {\n",
       "        text-align: right;\n",
       "    }\n",
       "</style>\n",
       "<table border=\"1\" class=\"dataframe\">\n",
       "  <thead>\n",
       "    <tr style=\"text-align: right;\">\n",
       "      <th></th>\n",
       "      <th>Experience</th>\n",
       "      <th>Rating</th>\n",
       "      <th>Profile</th>\n",
       "      <th>Fees</th>\n",
       "      <th>MBBS</th>\n",
       "      <th>BDS</th>\n",
       "      <th>BAMS</th>\n",
       "      <th>BHMS</th>\n",
       "      <th>MD - Dermatology</th>\n",
       "      <th>MS - ENT</th>\n",
       "      <th>Venereology &amp; Leprosy</th>\n",
       "      <th>MD - General Medicine</th>\n",
       "      <th>Diploma in Otorhinolaryngology (DLO)</th>\n",
       "      <th>MD - Homeopathy</th>\n",
       "      <th>city</th>\n",
       "    </tr>\n",
       "  </thead>\n",
       "  <tbody>\n",
       "    <tr>\n",
       "      <th>0</th>\n",
       "      <td>24</td>\n",
       "      <td>10</td>\n",
       "      <td>5</td>\n",
       "      <td>100</td>\n",
       "      <td>0</td>\n",
       "      <td>0</td>\n",
       "      <td>0</td>\n",
       "      <td>1</td>\n",
       "      <td>0</td>\n",
       "      <td>0</td>\n",
       "      <td>0</td>\n",
       "      <td>0</td>\n",
       "      <td>0</td>\n",
       "      <td>1</td>\n",
       "      <td>4</td>\n",
       "    </tr>\n",
       "    <tr>\n",
       "      <th>1</th>\n",
       "      <td>12</td>\n",
       "      <td>10</td>\n",
       "      <td>0</td>\n",
       "      <td>350</td>\n",
       "      <td>0</td>\n",
       "      <td>0</td>\n",
       "      <td>1</td>\n",
       "      <td>0</td>\n",
       "      <td>0</td>\n",
       "      <td>0</td>\n",
       "      <td>0</td>\n",
       "      <td>0</td>\n",
       "      <td>0</td>\n",
       "      <td>0</td>\n",
       "      <td>0</td>\n",
       "    </tr>\n",
       "    <tr>\n",
       "      <th>2</th>\n",
       "      <td>9</td>\n",
       "      <td>0</td>\n",
       "      <td>3</td>\n",
       "      <td>300</td>\n",
       "      <td>1</td>\n",
       "      <td>0</td>\n",
       "      <td>0</td>\n",
       "      <td>0</td>\n",
       "      <td>0</td>\n",
       "      <td>0</td>\n",
       "      <td>0</td>\n",
       "      <td>0</td>\n",
       "      <td>0</td>\n",
       "      <td>0</td>\n",
       "      <td>0</td>\n",
       "    </tr>\n",
       "    <tr>\n",
       "      <th>3</th>\n",
       "      <td>12</td>\n",
       "      <td>0</td>\n",
       "      <td>0</td>\n",
       "      <td>250</td>\n",
       "      <td>0</td>\n",
       "      <td>0</td>\n",
       "      <td>1</td>\n",
       "      <td>0</td>\n",
       "      <td>0</td>\n",
       "      <td>0</td>\n",
       "      <td>0</td>\n",
       "      <td>0</td>\n",
       "      <td>0</td>\n",
       "      <td>0</td>\n",
       "      <td>0</td>\n",
       "    </tr>\n",
       "    <tr>\n",
       "      <th>4</th>\n",
       "      <td>20</td>\n",
       "      <td>10</td>\n",
       "      <td>0</td>\n",
       "      <td>250</td>\n",
       "      <td>0</td>\n",
       "      <td>0</td>\n",
       "      <td>1</td>\n",
       "      <td>0</td>\n",
       "      <td>0</td>\n",
       "      <td>0</td>\n",
       "      <td>0</td>\n",
       "      <td>0</td>\n",
       "      <td>0</td>\n",
       "      <td>0</td>\n",
       "      <td>1</td>\n",
       "    </tr>\n",
       "  </tbody>\n",
       "</table>\n",
       "</div>"
      ],
      "text/plain": [
       "   Experience  Rating  Profile  Fees  MBBS  BDS  BAMS  BHMS  MD - Dermatology  \\\n",
       "0          24      10        5   100     0    0     0     1                 0   \n",
       "1          12      10        0   350     0    0     1     0                 0   \n",
       "2           9       0        3   300     1    0     0     0                 0   \n",
       "3          12       0        0   250     0    0     1     0                 0   \n",
       "4          20      10        0   250     0    0     1     0                 0   \n",
       "\n",
       "   MS - ENT  Venereology & Leprosy  MD - General Medicine  \\\n",
       "0         0                      0                      0   \n",
       "1         0                      0                      0   \n",
       "2         0                      0                      0   \n",
       "3         0                      0                      0   \n",
       "4         0                      0                      0   \n",
       "\n",
       "   Diploma in Otorhinolaryngology (DLO)  MD - Homeopathy  city  \n",
       "0                                     0                1     4  \n",
       "1                                     0                0     0  \n",
       "2                                     0                0     0  \n",
       "3                                     0                0     0  \n",
       "4                                     0                0     1  "
      ]
     },
     "execution_count": 39,
     "metadata": {},
     "output_type": "execute_result"
    }
   ],
   "source": [
    "#Converting categorical column into numerical\n",
    "from sklearn.preprocessing import LabelEncoder\n",
    "le = LabelEncoder()\n",
    "for i in cat:\n",
    "    df1[i]=le.fit_transform(df1[i])\n",
    "\n",
    "df1.head()\n"
   ]
  },
  {
   "cell_type": "code",
   "execution_count": 40,
   "id": "23ad92af",
   "metadata": {},
   "outputs": [
    {
     "data": {
      "image/png": "[encoded data removed]",
      "text/plain": [
       "<Figure size 1080x576 with 2 Axes>"
      ]
     },
     "metadata": {
      "needs_background": "light"
     },
     "output_type": "display_data"
    }
   ],
   "source": [
    "#Checking correlation\n",
    "plt.figure(figsize=(15,8))\n",
    "sns.heatmap(df1.corr(),annot=True,cmap=\"Greens\")\n",
    "plt.show()"
   ]
  },
  {
   "cell_type": "markdown",
   "id": "f79c01d3",
   "metadata": {},
   "source": [
    "\n",
    "There is no strong correlation between target variable and independent variable.\n",
    "\n",
    "As all the columns are of categorical type therefore we will not go for checking outliers and skewness."
   ]
  },
  {
   "cell_type": "markdown",
   "id": "95af5daf",
   "metadata": {},
   "source": [
    "## Splitting into X and Y"
   ]
  },
  {
   "cell_type": "code",
   "execution_count": 41,
   "id": "0c00b81b",
   "metadata": {},
   "outputs": [],
   "source": [
    "#Separating target and independent variables\n",
    "x=df1.drop('Fees',axis=1)\n",
    "y=df1['Fees']"
   ]
  },
  {
   "cell_type": "code",
   "execution_count": 42,
   "id": "0928aa1f",
   "metadata": {},
   "outputs": [
    {
     "data": {
      "text/plain": [
       "((5961, 14), (5961,))"
      ]
     },
     "execution_count": 42,
     "metadata": {},
     "output_type": "execute_result"
    }
   ],
   "source": [
    "x.shape,y.shape"
   ]
  },
  {
   "cell_type": "code",
   "execution_count": 44,
   "id": "d0fbc032",
   "metadata": {},
   "outputs": [],
   "source": [
    "#Scaling the data into standard format\n",
    "from sklearn.preprocessing import StandardScaler\n",
    "sc=StandardScaler()\n",
    "df1_sc=sc.fit_transform(x)\n",
    "df1_sc=pd.DataFrame(df1_sc,columns=x.columns)"
   ]
  },
  {
   "cell_type": "code",
   "execution_count": 45,
   "id": "6040c5ca",
   "metadata": {},
   "outputs": [],
   "source": [
    "x=df1_sc"
   ]
  },
  {
   "cell_type": "markdown",
   "id": "0f969743",
   "metadata": {},
   "source": [
    "# Finding the best random state:"
   ]
  },
  {
   "cell_type": "code",
   "execution_count": 65,
   "id": "f7b3a34e",
   "metadata": {},
   "outputs": [
    {
     "name": "stdout",
     "output_type": "stream",
     "text": [
      "Best Accuracy is  0.1611330286634688  on Random State  108\n"
     ]
    }
   ],
   "source": [
    "#Choosing the best random state for our ML Model\n",
    "from sklearn.model_selection import train_test_split\n",
    "from sklearn.linear_model import LinearRegression\n",
    "from sklearn.metrics import r2_score\n",
    "maxAccu=0\n",
    "maxRS=0\n",
    "for i in range(1,200):\n",
    "    x_train,x_test,y_train,y_test=train_test_split(x,y,test_size=.30,random_state=i)\n",
    "    lr=LinearRegression()\n",
    "    lr.fit(x_train,y_train)\n",
    "    predrf=lr.predict(x_test)\n",
    "    acc=r2_score(y_test,predrf)\n",
    "    if acc>maxAccu:\n",
    "        maxAccu=acc\n",
    "        maxRS=i\n",
    "print(\"Best Accuracy is \",maxAccu,\" on Random State \",maxRS)"
   ]
  },
  {
   "cell_type": "code",
   "execution_count": 72,
   "id": "18ece0f9",
   "metadata": {},
   "outputs": [],
   "source": [
    "x_train,x_test,y_train,y_test=train_test_split(x,y,test_size=.30,random_state=108)"
   ]
  },
  {
   "cell_type": "code",
   "execution_count": 73,
   "id": "799b22a0",
   "metadata": {},
   "outputs": [],
   "source": [
    "from sklearn.metrics import mean_squared_error\n",
    "from sklearn.metrics import mean_absolute_error\n",
    "from sklearn.linear_model import Lasso,Ridge\n",
    "from sklearn.svm import SVR\n",
    "from sklearn.neighbors import KNeighborsRegressor\n",
    "from sklearn.ensemble import RandomForestRegressor\n",
    "from sklearn.ensemble import AdaBoostRegressor\n",
    "from sklearn.model_selection import cross_val_score"
   ]
  },
  {
   "cell_type": "code",
   "execution_count": 74,
   "id": "fbb88b4e",
   "metadata": {},
   "outputs": [],
   "source": [
    "ls=Lasso()\n",
    "rd=Ridge()\n",
    "svr=SVR()\n",
    "knn=KNeighborsRegressor()\n",
    "rf=RandomForestRegressor()\n",
    "ada=AdaBoostRegressor()"
   ]
  },
  {
   "cell_type": "code",
   "execution_count": 75,
   "id": "2dc80508",
   "metadata": {},
   "outputs": [
    {
     "name": "stdout",
     "output_type": "stream",
     "text": [
      "\n",
      "\n",
      "LinearRegression()\n",
      "Accuracy Score of LinearRegression()  Regressor:  0.12008666703906545\n",
      "\n",
      "\n",
      "Lasso()\n",
      "Accuracy Score of Lasso()  Regressor:  0.1183773068500984\n",
      "\n",
      "\n",
      "Ridge()\n",
      "Accuracy Score of Ridge()  Regressor:  0.12008660135077853\n",
      "\n",
      "\n",
      "SVR()\n",
      "Accuracy Score of SVR()  Regressor:  0.054251923269518665\n",
      "\n",
      "\n",
      "KNeighborsRegressor()\n",
      "Accuracy Score of KNeighborsRegressor()  Regressor:  0.34489320309712934\n",
      "\n",
      "\n",
      "RandomForestRegressor()\n",
      "Accuracy Score of RandomForestRegressor()  Regressor:  0.6503535290574238\n",
      "\n",
      "\n",
      "AdaBoostRegressor()\n",
      "Accuracy Score of AdaBoostRegressor()  Regressor:  0.0963024630834054\n"
     ]
    }
   ],
   "source": [
    "models=[lr,ls,rd,svr,knn,rf,ada]\n",
    "\n",
    "for i in models:\n",
    "    print('\\n')\n",
    "    print(i)\n",
    "    i.fit(x_train,y_train)\n",
    "    predict=i.predict(x_train)\n",
    "    acc=r2_score(y_train,predict)\n",
    "    print(\"Accuracy Score of\",i,\" Regressor: \",acc)"
   ]
  },
  {
   "cell_type": "markdown",
   "id": "4fb2bbbf",
   "metadata": {},
   "source": [
    "Random forest regressor is performing good than other models with r2 score of 64.97% but it might be due to overfiiting or underfiiting.\n",
    "\n",
    "For confirmation we will cross verify it with cross validation score of each model."
   ]
  },
  {
   "cell_type": "markdown",
   "id": "4c3f8182",
   "metadata": {},
   "source": [
    "# Cross Validation Score"
   ]
  },
  {
   "cell_type": "code",
   "execution_count": 76,
   "id": "bb0e517b",
   "metadata": {},
   "outputs": [
    {
     "name": "stdout",
     "output_type": "stream",
     "text": [
      "Cross Validation Score for LinearRegression() model:  0.1274036336643193\n",
      "Cross Validation Score for Lasso() model:  0.12637929300244727\n",
      "Cross Validation Score for Ridge() model:  0.1274078533499181\n",
      "Cross Validation Score for SVR() model:  0.07153943243274649\n",
      "Cross Validation Score for KNeighborsRegressor() model:  0.029654025096686222\n",
      "Cross Validation Score for RandomForestRegressor() model:  0.00027726041019990875\n",
      "Cross Validation Score for AdaBoostRegressor() model:  0.11254397184541239\n"
     ]
    }
   ],
   "source": [
    "#Cross validation\n",
    "\n",
    "for i in models:\n",
    "    cv_score=cross_val_score(i,x,y,cv=5)\n",
    "    cv_mean=cv_score.mean()\n",
    "    print(\"Cross Validation Score for\",i,\"model: \",cv_mean)"
   ]
  },
  {
   "cell_type": "markdown",
   "id": "bea1bf62",
   "metadata": {},
   "source": [
    "Comparing the Scores of the respective Machine lwarning models and cross validation scores, we came to the conclusion as Random Forest Regressor is the best MAchine Learning model as it has the least diffrence between the respective scores."
   ]
  },
  {
   "cell_type": "markdown",
   "id": "dba5bcb1",
   "metadata": {},
   "source": [
    "# Hyper Paramter tuning"
   ]
  },
  {
   "cell_type": "code",
   "execution_count": 77,
   "id": "6bcb95af",
   "metadata": {},
   "outputs": [
    {
     "data": {
      "text/plain": [
       "{'n_estimators': 500}"
      ]
     },
     "execution_count": 77,
     "metadata": {},
     "output_type": "execute_result"
    }
   ],
   "source": [
    "from sklearn.model_selection import GridSearchCV\n",
    "\n",
    "parameters={\"n_estimators\":[50,100, 300, 500]}\n",
    "\n",
    "GCV=GridSearchCV(rf,parameters,cv=5)\n",
    "GCV.fit(x_train,y_train)\n",
    "GCV.best_params_"
   ]
  },
  {
   "cell_type": "code",
   "execution_count": 78,
   "id": "421f9a73",
   "metadata": {},
   "outputs": [
    {
     "name": "stdout",
     "output_type": "stream",
     "text": [
      "Best Accuracy Score:  65.23072235369159\n"
     ]
    }
   ],
   "source": [
    "best_mod=RandomForestRegressor(n_estimators=500)\n",
    "\n",
    "best_mod.fit(x_train,y_train)\n",
    "pred=best_mod.predict(x_train)\n",
    "print(\"Best Accuracy Score: \",r2_score(y_train,pred)*100)"
   ]
  },
  {
   "cell_type": "markdown",
   "id": "2012a252",
   "metadata": {},
   "source": [
    "# Saving the trained model"
   ]
  },
  {
   "cell_type": "code",
   "execution_count": 79,
   "id": "cc7c51eb",
   "metadata": {},
   "outputs": [
    {
     "data": {
      "text/plain": [
       "['Doctor_fees_train.obj']"
      ]
     },
     "execution_count": 79,
     "metadata": {},
     "output_type": "execute_result"
    }
   ],
   "source": [
    "#Saving our model\n",
    "import joblib\n",
    "joblib.dump(best_mod,'Doctor_fees_train.obj')"
   ]
  },
  {
   "cell_type": "code",
   "execution_count": null,
   "id": "bfb05613",
   "metadata": {},
   "outputs": [],
   "source": []
  },
  {
   "cell_type": "markdown",
   "id": "36798b8b",
   "metadata": {},
   "source": [
    "# Importing the testing dataset"
   ]
  },
  {
   "cell_type": "code",
   "execution_count": 81,
   "id": "3804de89",
   "metadata": {},
   "outputs": [],
   "source": [
    "#importing Test data\n",
    "df1_test=pd.read_csv('Doctor_Final_Test.csv')"
   ]
  },
  {
   "cell_type": "code",
   "execution_count": 82,
   "id": "af033792",
   "metadata": {},
   "outputs": [
    {
     "data": {
      "text/html": [
       "<div>\n",
       "<style scoped>\n",
       "    .dataframe tbody tr th:only-of-type {\n",
       "        vertical-align: middle;\n",
       "    }\n",
       "\n",
       "    .dataframe tbody tr th {\n",
       "        vertical-align: top;\n",
       "    }\n",
       "\n",
       "    .dataframe thead th {\n",
       "        text-align: right;\n",
       "    }\n",
       "</style>\n",
       "<table border=\"1\" class=\"dataframe\">\n",
       "  <thead>\n",
       "    <tr style=\"text-align: right;\">\n",
       "      <th></th>\n",
       "      <th>Qualification</th>\n",
       "      <th>Experience</th>\n",
       "      <th>Rating</th>\n",
       "      <th>Place</th>\n",
       "      <th>Profile</th>\n",
       "      <th>Miscellaneous_Info</th>\n",
       "    </tr>\n",
       "  </thead>\n",
       "  <tbody>\n",
       "    <tr>\n",
       "      <th>0</th>\n",
       "      <td>MBBS</td>\n",
       "      <td>35 years experience</td>\n",
       "      <td>NaN</td>\n",
       "      <td>Ghatkopar East, Mumbai</td>\n",
       "      <td>General Medicine</td>\n",
       "      <td>NaN</td>\n",
       "    </tr>\n",
       "    <tr>\n",
       "      <th>1</th>\n",
       "      <td>MBBS, Diploma in Otorhinolaryngology (DLO)</td>\n",
       "      <td>31 years experience</td>\n",
       "      <td>NaN</td>\n",
       "      <td>West Marredpally, Hyderabad</td>\n",
       "      <td>ENT Specialist</td>\n",
       "      <td>NaN</td>\n",
       "    </tr>\n",
       "    <tr>\n",
       "      <th>2</th>\n",
       "      <td>MBBS, DDVL</td>\n",
       "      <td>40 years experience</td>\n",
       "      <td>70%</td>\n",
       "      <td>KK Nagar, Chennai</td>\n",
       "      <td>Dermatologists</td>\n",
       "      <td>70% 4 Feedback KK Nagar, Chennai</td>\n",
       "    </tr>\n",
       "    <tr>\n",
       "      <th>3</th>\n",
       "      <td>BAMS</td>\n",
       "      <td>0 years experience</td>\n",
       "      <td>NaN</td>\n",
       "      <td>New Ashok Nagar, Delhi</td>\n",
       "      <td>Ayurveda</td>\n",
       "      <td>NaN</td>\n",
       "    </tr>\n",
       "    <tr>\n",
       "      <th>4</th>\n",
       "      <td>BDS, MDS - Conservative Dentistry &amp; Endodontics</td>\n",
       "      <td>16 years experience</td>\n",
       "      <td>100%</td>\n",
       "      <td>Kanakpura Road, Bangalore</td>\n",
       "      <td>Dentist</td>\n",
       "      <td>General Dentistry Conservative Dentistry Cosme...</td>\n",
       "    </tr>\n",
       "  </tbody>\n",
       "</table>\n",
       "</div>"
      ],
      "text/plain": [
       "                                     Qualification           Experience  \\\n",
       "0                                             MBBS  35 years experience   \n",
       "1       MBBS, Diploma in Otorhinolaryngology (DLO)  31 years experience   \n",
       "2                                       MBBS, DDVL  40 years experience   \n",
       "3                                             BAMS   0 years experience   \n",
       "4  BDS, MDS - Conservative Dentistry & Endodontics  16 years experience   \n",
       "\n",
       "  Rating                        Place           Profile  \\\n",
       "0    NaN       Ghatkopar East, Mumbai  General Medicine   \n",
       "1    NaN  West Marredpally, Hyderabad    ENT Specialist   \n",
       "2    70%            KK Nagar, Chennai    Dermatologists   \n",
       "3    NaN       New Ashok Nagar, Delhi          Ayurveda   \n",
       "4   100%    Kanakpura Road, Bangalore           Dentist   \n",
       "\n",
       "                                  Miscellaneous_Info  \n",
       "0                                                NaN  \n",
       "1                                                NaN  \n",
       "2                   70% 4 Feedback KK Nagar, Chennai  \n",
       "3                                                NaN  \n",
       "4  General Dentistry Conservative Dentistry Cosme...  "
      ]
     },
     "execution_count": 82,
     "metadata": {},
     "output_type": "execute_result"
    }
   ],
   "source": [
    "df1_test.head()"
   ]
  },
  {
   "cell_type": "code",
   "execution_count": 83,
   "id": "cf7c137f",
   "metadata": {},
   "outputs": [
    {
     "data": {
      "text/plain": [
       "(1987, 6)"
      ]
     },
     "execution_count": 83,
     "metadata": {},
     "output_type": "execute_result"
    }
   ],
   "source": [
    "df1_test.shape"
   ]
  },
  {
   "cell_type": "markdown",
   "id": "561fd405",
   "metadata": {},
   "source": [
    "We have 1987 rows and 6 columns"
   ]
  },
  {
   "cell_type": "code",
   "execution_count": 84,
   "id": "7032460f",
   "metadata": {},
   "outputs": [
    {
     "data": {
      "text/plain": [
       "Index(['Qualification', 'Experience', 'Rating', 'Place', 'Profile',\n",
       "       'Miscellaneous_Info'],\n",
       "      dtype='object')"
      ]
     },
     "execution_count": 84,
     "metadata": {},
     "output_type": "execute_result"
    }
   ],
   "source": [
    "#columns name\n",
    "df1_test.columns"
   ]
  },
  {
   "cell_type": "code",
   "execution_count": 86,
   "id": "8297db73",
   "metadata": {},
   "outputs": [
    {
     "data": {
      "text/plain": [
       "Qualification         object\n",
       "Experience            object\n",
       "Rating                object\n",
       "Place                 object\n",
       "Profile               object\n",
       "Miscellaneous_Info    object\n",
       "dtype: object"
      ]
     },
     "execution_count": 86,
     "metadata": {},
     "output_type": "execute_result"
    }
   ],
   "source": [
    "#Checking data type\n",
    "df1_test.dtypes"
   ]
  },
  {
   "cell_type": "code",
   "execution_count": 87,
   "id": "f38d8f5b",
   "metadata": {},
   "outputs": [
    {
     "data": {
      "text/plain": [
       "Qualification            0\n",
       "Experience               0\n",
       "Rating                1090\n",
       "Place                    6\n",
       "Profile                  0\n",
       "Miscellaneous_Info     834\n",
       "dtype: int64"
      ]
     },
     "execution_count": 87,
     "metadata": {},
     "output_type": "execute_result"
    }
   ],
   "source": [
    "df1_test.isnull().sum()"
   ]
  },
  {
   "cell_type": "code",
   "execution_count": 88,
   "id": "0f590950",
   "metadata": {},
   "outputs": [
    {
     "data": {
      "text/plain": [
       "2     889\n",
       "1     609\n",
       "3     366\n",
       "4      87\n",
       "5      28\n",
       "6       5\n",
       "17      1\n",
       "9       1\n",
       "7       1\n",
       "Name: Qualification_count, dtype: int64"
      ]
     },
     "execution_count": 88,
     "metadata": {},
     "output_type": "execute_result"
    }
   ],
   "source": [
    "#Creating a new column qualification count to see how many qualification each doctor have\n",
    "df1_test['Qualification_count']=df1_test['Qualification'].apply(lambda x: len(x.split(\",\")))\n",
    "\n",
    "df1_test['Qualification_count'].value_counts()"
   ]
  },
  {
   "cell_type": "code",
   "execution_count": 89,
   "id": "54f3e717",
   "metadata": {
    "scrolled": false
   },
   "outputs": [
    {
     "data": {
      "text/plain": [
       "array(['MBBS', 'MBBS, Diploma in Otorhinolaryngology (DLO)', 'MBBS, DDVL',\n",
       "       'BAMS', 'BDS, MDS - Conservative Dentistry & Endodontics',\n",
       "       'BDS, MDS', 'BDS, MDS - Pedodontics',\n",
       "       'MD - Ayurveda Medicine, BAMS, Yoga Teachers Training Course, M. D. IN KAYACHIKISTA',\n",
       "       'BHMS', 'BDS', 'MBBS, FCD - Diabetology', 'MBBS, DDV',\n",
       "       'MBBS, MD - Dermatology', 'MS - ENT',\n",
       "       'MBBS, Diploma in Otorhinolaryngology (DLO), MS - ENT, DNB - ENT, MNAMS (Membership of the National Academy)',\n",
       "       'BHMS, Diploma in Naturopathy & Yogic Science (DNYS), Diploma in Diet and Nutrition, Diploma in Cosmetology',\n",
       "       'MBBS, PG Diploma In Clinical Cosmetology (PGDCC)',\n",
       "       'BDS, MDS - Periodontics', 'BDS, MDS- Oral Pathology',\n",
       "       'MBBS, MD - General Medicine', 'MS - ENT, MBBS',\n",
       "       'MBBS, Diploma in Otorhinolaryngology (DLO), DNB - ENT',\n",
       "       'MBBS, MS - ENT, DNB - Otorhinolaryngology',\n",
       "       'BDS, PhD - Endodontics, MDS - Conservative Dentistry & Endodontics',\n",
       "       'BSc, LCEH', 'BAMS, MD - Ayurveda Medicine',\n",
       "       'MBBS, DGO, MD - Obstetrics & Gynaecology',\n",
       "       'BHMS, MD - Homeopathy', 'BHMS, DM - Oncology',\n",
       "       'MBBS, DNB - Dermatology, Venereology & Leprosy, DVD',\n",
       "       'MBBS, MS - Otorhinolaryngology',\n",
       "       'Fellowship in Aesthetic Medicine, MD - Dermatology',\n",
       "       'BDS, Fellowship in Oral implantlogy',\n",
       "       'MBBS, MD - Dermatology, Fellowship in Aesthetic Medicine',\n",
       "       'MBBS, MS - Ophthalmology',\n",
       "       'MDS - Conservative Dentistry & Endodontics, BDS',\n",
       "       'MBBS, MS - Otorhinolaryngology, Diploma in Otorhinolaryngology (DLO)',\n",
       "       'BAMS, PGCR',\n",
       "       'BHMS, MS - Counselling and Psychotherapy, Certificate Course in Advanced Homoeopathy (C.C.A.H)',\n",
       "       'MBBS, MS - ENT, Diploma in Otorhinolaryngology (DLO)',\n",
       "       'MBBS, FRCS - Otolaryngology, Diploma in Otorhinolaryngology (DLO), Diploma in Acupuncture',\n",
       "       'MBBS, MD - Medicine, DM - Cardiology',\n",
       "       'BDS, Post-Graduate Certificate in Oral Implantology (PGCOI), MDS - Periodontology and Oral Implantology',\n",
       "       'LCEH', 'MBBS, MS - ENT', 'MBBS, MD - Medicine',\n",
       "       'DM - Nephrology, MD - Internal Medicine, MBBS',\n",
       "       'MBBS, DDVL, FRGUHS',\n",
       "       'MBBS, Diploma in Otorhinolaryngology (DLO), FRCS - General Surgery',\n",
       "       'BDS, MDS - Oral & Maxillofacial Surgery, Fellowship in Cleft Lip & Palate, Fellowship in TMJ Surgery',\n",
       "       'MBBS, DNB - Otorhinolaryngology',\n",
       "       'Post Graduate Diploma in Diabetology (PGDD)(Madras Medical College), MBBS',\n",
       "       'Certificate in Dental Implants, MDS - Oral Medicine and Radiology, Certification in Aesthetic Dentistry, Certification in Full Mouth Rehabilitation, BDS',\n",
       "       'BDS, MDS - Orthodontics and Dentofacial Orthopaedics',\n",
       "       'MBBS, MD - Internal Medicine',\n",
       "       'MBBS, MD - General Medicine, DNB - General Medicine, Fellowship in Diabetology, DAA - Diploma in Allergy Asthma and Immunology, Certificate in Pulmonology',\n",
       "       'MD - Tuberculosis & Respiratory Diseases/Medicine, MBBS',\n",
       "       'MBBS, DDV, MD - Dermatology, Fellowship In Cosmetic Dermatology',\n",
       "       'B.Sc, MBBS, FCCP - Pulmonary Medicine',\n",
       "       'MBBS, MS - General Surgery',\n",
       "       'MBBS, MRCOG(UK), Diploma of the Faculty of Family Planning (DFFP), DRCOG, Member of the Royal College of General Practitioners UK (MRCGP), Fellowship in Diabetes (UK)',\n",
       "       'BDS, MDS - Paedodontics And Preventive Dentistry',\n",
       "       'BHMS, MS - Psychology', 'MD - General Medicine',\n",
       "       'BDS, Fellow of Academy of General Education (FAGE)',\n",
       "       'MD - Skin & VD', 'MBBS, MD - Dermatology , Venereology & Leprosy',\n",
       "       'BDS, MDS - Periodontology and Oral Implantology', 'MBBS, DNB',\n",
       "       'MDS - Orthodontics, BDS', 'BHMS, Diploma in Dermatology',\n",
       "       'MBBS, MD - Pulmonary Medicine, MD - Tuberculosis & Respiratory Diseases / Pulmonary Medicine',\n",
       "       'MDS - Prosthodontist And Crown Bridge, BDS',\n",
       "       'MBBS, Diploma in Orthopaedics',\n",
       "       'MBBS, DNB - ENT, Diploma in Otorhinolaryngology (DLO)',\n",
       "       'BDS, MDS - Prosthodontics',\n",
       "       'MD - Dermatology, MBBS, DNB - Dermatology, Venereology & Leprosy, FRGUHS',\n",
       "       'MDS - Oral & Maxillofacial Surgery, BDS',\n",
       "       'MBBS, MD - Dermatology, DDV',\n",
       "       'MBBS, Diploma in Aesthetic Medicine, DDV',\n",
       "       'MBBS, Diploma in Tuberculosis and Chest Diseases (DTCD), DNB -Chest, Post Graduate Diploma in Diabetes',\n",
       "       'BDS, MDS - Orthodontics', 'BDS, Diploma in Laser Dentistry, MDS',\n",
       "       'BDS, MDS - Oral Medicine and Radiology',\n",
       "       'MBBS, Diploma in Anesthesiology, Certificate in Acupuncture',\n",
       "       \"BAMS, Yoga Instructor's Course, Diploma in Nutrition and Health Education\",\n",
       "       'MD - Dermatology, DDV, MBBS',\n",
       "       'MBBS, DNB - Family Medicine, Fellowship in Diabetology',\n",
       "       'MBBS, MS - ENT, MRCS (UK), Diploma in Otorhinolaryngology (DLO)',\n",
       "       'DVD, MBBS', 'DDVL, MBBS', 'MBBS, MD - Obstetrics & Gynaecology',\n",
       "       'MBBS, Diploma in Dermatology',\n",
       "       'BHMS, PGDPC (Post Graduation Diploma In Psychological Counselling)',\n",
       "       'BAMS, PGD Yoga', 'MDS - Prosthodontics, BDS',\n",
       "       'BAMS, MBA - Healthcare Services', 'DNB - ENT, MD - Physician',\n",
       "       'MDS - Paedodontics And Preventive Dentistry, Membership of the Faculty of Dental Surgeons(MFDS)',\n",
       "       'MBBS, PGDHHM, PGDMLS', 'MBBS, DNB - Dermatology & Venereology',\n",
       "       'MBBS, MD - Obstetrics & Gynaecology, MRCOG(UK)',\n",
       "       'DNB - Otorhinolaryngology, MNAMS - General Surgery, MS - Otorhinolaryngology, MBBS',\n",
       "       'BDS, PhD - Orthodontics & Dentofacial Orthopaedics',\n",
       "       'MBBS, MD - Pediatrics', 'MD - Dermatology, MBBS',\n",
       "       'MBBS, MD - Internal Medicine, Post Graduate Diploma in Diabetology (PGDD)',\n",
       "       'BDS, Certificate of Oral Implantology',\n",
       "       'BDS, Doctor of Dental Surgery (DDS)',\n",
       "       'MBBS, Diploma in Dermatology, DDVL, DDV',\n",
       "       'MBBS, MD - Skin & VD, DDVL',\n",
       "       'MDS - Orthodontics and Dentofacial Orthopaedics',\n",
       "       'BHMS, Diploma in Cosmetology',\n",
       "       'MBBS, DDVL, DNB - Dermatology & Venereology, Fellowship In Dermatosurgery',\n",
       "       'BAMS, MBA - Hospital Management', 'MBBS, DDVL, MD - Dermatology',\n",
       "       'MBBS, Diploma in Otorhinolaryngology (DLO), MS - ENT',\n",
       "       'MBBS, MD - Dermatology, Fellowship In Dermatosurgery',\n",
       "       'MD - Dermatology , Venereology & Leprosy, MBBS',\n",
       "       'MDS - Oral & Maxillofacial Surgery',\n",
       "       'MBBS, MD - Dermatology, FRGUHS, Fellowship in Cosmetology',\n",
       "       'MBBS, MS - ENT, FRCS, MRCS (UK), Dip Otolaryngology and Head and neck Surgery',\n",
       "       'MBBS, DNB - General Medicine, MF- Homeopathy, MSc - Psychotherapy And Counselling, Post Graduate Diploma in Diabetology (PGDD)',\n",
       "       'MBBS, DNB - Family Medicine, CCEBDM',\n",
       "       'MBBS, Diploma in Laparoscopy, FRCS - General Surgery (Upper GI)',\n",
       "       'MBBS, DNB - General Medicine, Post Graduate Diploma in Diabetology (PGDD)',\n",
       "       'Doctor of Homeopathic Medicine (HMD)',\n",
       "       'DHMS (Diploma in Homeopathic Medicine and Surgery), Diploma in Clinical Cosmetology, Diploma in Trichology - Cosmetology',\n",
       "       'BHMS, Post Graduate Diploma in Clinical Research (PGDCR)',\n",
       "       'BHMS, Certificate in Child Health (CCH)',\n",
       "       'MDS, Advanced Certificate Course in Dental Implants, BDS',\n",
       "       'BDS, MDS - Prosthodontist And Crown Bridge',\n",
       "       'DNB - General Medicine, MBBS', 'MBBS, MNAMS- Family Medicine',\n",
       "       'MBBS, MD - Internal Medicine, FACP (USA)',\n",
       "       'MBBS, Diploma in Otorhinolaryngology (DLO), MD - Anatomy',\n",
       "       'BDS, FICD',\n",
       "       'FRCP, MRCPS, MBBS, MD - General Medicine, Diploma in Medical Law and Ethics (PGDMLE)',\n",
       "       'MBBS, MD - (Dermatology & STD)', 'MBBS, DVD, MD - Dermatology',\n",
       "       'MBBS, Diploma in Emergency Medicine',\n",
       "       'BDS, MBA, Certification in Aesthetic Dentistry',\n",
       "       'MBBS, Fellow of Academy of General Education (FAGE), MS - ENT, Fellowship in Advanced Endoscopic Sinus Surgery',\n",
       "       'BSc, DHMS (Diploma in Homeopathic Medicine and Surgery)',\n",
       "       'BHMS, Doctor of Homeopathic Medicine (HMD), MBA',\n",
       "       'MDS - Oral & Maxillofacial Surgery, Fellowship Program in Oral Implantology and LASER Dentistry, BDS',\n",
       "       'MBBS, MS - ENT, Fellowship in Head & Neck Surgery',\n",
       "       'BDS, MDS - Prosthodontist & Oral Implantologist',\n",
       "       'MD - Internal Medicine, MBBS, Diplomate from the American Board of Internal Medicine',\n",
       "       'BAMS, MD - Ayurveda Medicine, PhD- Ayurveda',\n",
       "       \"BAMS, PGD ND, Yoga Instructor's Course\",\n",
       "       'BDS, Fellowship Program in Aesthetic Dentistry and Occlusion',\n",
       "       'MBBS, Diploma in Public Health, MD - Community Medicine, Fellowship in Lifestyle Medicine',\n",
       "       'BAMS, MS - Ayurveda',\n",
       "       'Diploma in Otorhinolaryngology (DLO), Ph. D - ENT, MBBS, DNB - ENT',\n",
       "       'MDS - Orthodontics and Dentofacial Orthopaedics, BDS',\n",
       "       'MBBS, Diploma in Otorhinolaryngology (DLO), MS - Otorhinolaryngology',\n",
       "       'BSAM, BAMS, Fellow of Academy of General Education (FAGE)',\n",
       "       'MD - Homeopathy, BHMS', 'MBBS, DNB - Otorhinolaryngology, DLO',\n",
       "       'Get inspired by remarkable stories of people like you',\n",
       "       'MBBS, MD - General Medicine, Diploma in Diabetology',\n",
       "       'MD - Ayurveda Medicine',\n",
       "       'MD - Homeopathy, PG Diploma In Clinical Cosmetology (PGDCC), BHMS',\n",
       "       'DHMS (Diploma in Homeopathic Medicine and Surgery)',\n",
       "       'MD - Dermatology', 'MBBS, DDV, DNB',\n",
       "       'BDS, Post graduate diploma in Hospital Management',\n",
       "       'MBBS, Diploma in Anesthesiology',\n",
       "       'BDS, MDS - Oral & Maxillofacial Surgery, FDSRCS - Fellowship in Dental Surgery',\n",
       "       'MBBS, MD - Internal Medicine, Post Graduate Diploma in Diabetology (PGDD), DNB - General Medicine',\n",
       "       'BHMS, PG - Homeo, Integrated therapy in Cancer, Basic Course in Palliative Care',\n",
       "       'BHMS, Fellowship Course in Homoeopathic Dermatology, Masters in Counselling and Psychotherapy',\n",
       "       'MBBS, MD - Medicine, FCPS - General Surgery', 'BHMS, CSD',\n",
       "       'BHMS, MD (HOM) - Paeditrics, Fellowship Course in Homoeopathic Dermatology',\n",
       "       'M.S. (Ayurved) Stri Roga & Prasuti Tantra, BAMS',\n",
       "       'MBBS, MD - General Medicine, DNB - General Medicine',\n",
       "       'MBBS, MS - Otorhinolaryngology, Fellowship in laryngology',\n",
       "       'BDS, MDS - Prosthodontist And Crown Bridge, Certificate Course in Orthodontics',\n",
       "       'B.Sc, BAMS, MD - Ayurveda Medicine',\n",
       "       'DO, MS - Ophthalmology, MBBS', 'FRCS - General Surgery',\n",
       "       'BDS, MDS- Periodontist & Implantalogist',\n",
       "       'MBBS, MCh - Surgical Gastroenterology/G.I. Surgery',\n",
       "       'BDS, Certificate in Dental Implants',\n",
       "       'MBBS, DNB - General Medicine',\n",
       "       'MDS - Paedodontics And Preventive Dentistry, BDS',\n",
       "       'MBBS, Diploma in Tuberculosis and Chest Diseases (DTCD)',\n",
       "       'BAMS, MS - Ayurvedic General Surgery',\n",
       "       'MBBS, MD - Physician, DNB - General Medicine, Fellowship in Diabetology',\n",
       "       'MBBS, DNB - Internal Medicine',\n",
       "       'MBBS, FICA, MD - General Medicine',\n",
       "       'BDS, MDS - Periodontology and Oral Implantology, Current Concepts in American Dentistry Advances in Implantology and Oral Rehabilitation, Comprehensive Course in Modern Endodontics',\n",
       "       'MBBS, FACC, FCCP - Pulmonary Medicine', 'FWFO, FPFA',\n",
       "       'MBBS, MD - Internal Medicine, DM - Gastroenterology',\n",
       "       'MBBS, MD - General Medicine, DM - Cardiology',\n",
       "       'MBBS, DLO, MS - ENT',\n",
       "       'MS - ENT, Diploma in Otorhinolaryngology (DLO)',\n",
       "       'MBBS, Diploma in Family Medicine (DFM), Fellowship in Diabetology',\n",
       "       'BHMS, Diploma in Medical Cosmetology',\n",
       "       'MBBS, Diploma in Otorhinolaryngology (DLO), DNB - Otorhinolaryngology',\n",
       "       'MBBS, DDVL, Fellowship in Dermatological Laser Surgery, Fellowship In Cosmetic Dermatology',\n",
       "       'MBBS, MD - Family Medicine, Post Graduate Diploma in Diabetology (PGDD)',\n",
       "       'MBBS, MSc',\n",
       "       'Diploma in Otorhinolaryngology (DLO), MS - ENT, MBBS',\n",
       "       'MBBS, Diploma in Family Medicine (DFM)',\n",
       "       'MD - General Medicine, MBBS',\n",
       "       'DNB - ENT, Diploma in Otorhinolaryngology (DLO), MBBS',\n",
       "       'MBBS, MD - Dermatology, MD - Dermatology , Venereology & Leprosy',\n",
       "       'MBBS, Diploma in Child Health (DCH), DNB - Paediatrics',\n",
       "       'BSc, BHMS', 'BAMS, MD- Ayurveda Rasashastra',\n",
       "       'BAMS, PG Dip (Medical Education), Fellow of Academy of General Education (FAGE), MBA (Health Care)',\n",
       "       'MS - Otorhinolaryngology, MBBS',\n",
       "       'BAMS, MD - Alternate Medicine, Fellow of Academy of General Education (FAGE), Diploma in Preventive & Promotive Healthcare',\n",
       "       'BHMS, MD - General Medicine',\n",
       "       'MDS - Oral & Maxillofacial Surgery, Implant Training Course- Nobel Biocare, BDS',\n",
       "       'MBBS, Diploma in Dermatology, MD - Dermatology',\n",
       "       'MBBS, Certificate Course in Evidence Based Diabetes Management (CCEBDM)',\n",
       "       'DDVL', 'BHMS, DNHE', 'BAMS, Diploma in Clinical Nutrition',\n",
       "       'BHMS, MD - Alternate Medicine, Masters in Counselling and Psychotherapy',\n",
       "       'MBBS, MD - Internal Medicine, Post Graduate Diploma in Diabetology (PGDD), Fellowship in Diabetology',\n",
       "       'Diploma in Otorhinolaryngology (DLO), MBBS',\n",
       "       'MBBS, DNB - ENT, MS - ENT, FCPS - Oto-Rhino-Laryngology, Diploma in Otorhinolaryngology (DLO)',\n",
       "       'BDS, MDS - Paedodontics And Preventive Dentistry, Certification for Professional Chemical Peel Workshop',\n",
       "       'BHMS, Diploma in Cosmetology, MD - Dermatology',\n",
       "       'BAMS, M. D. IN KAYACHIKISTA', 'MBBS, MD - Pharmacology',\n",
       "       'MBBS, Fellowship of College of General Practice (FCGP)',\n",
       "       'MDS - Periodontology and Oral Implantology, BDS',\n",
       "       'MD - Homeopathy, PGDPC (Post Graduation Diploma In Psychological Counselling)',\n",
       "       'MBBS, DNB - Family Medicine',\n",
       "       'MBBS, MS - ENT, Diploma in Aesthetic Medicine',\n",
       "       'BDS, Post-Graduate Certificate in Oral Implantology (PGCOI)',\n",
       "       'BDS, MDS - Oral & Maxillofacial Surgery',\n",
       "       'MDS - Prosthodontist And Crown Bridge',\n",
       "       'MD - Homeopathy, BHMS, DNHE',\n",
       "       'MBBS, MD - Dermatology, Fellow of the American Academy of Dermatology (FAAD)',\n",
       "       'BAMS, MBA (HCS)', 'MBBS, DVD',\n",
       "       'MBBS, Diploma in Anesthesiology, Postgraduate Diploma Clinical Cardiology (PGDCC)',\n",
       "       'BHMS, MD - Ayurveda Medicine',\n",
       "       'MBBS, MASTERS IN MEDICAL SCIENCE AND TECHNOLOGY',\n",
       "       'DNB - Dermatology & Venereology, MBBS',\n",
       "       'BDS, MDS-Oral Pathology and Oral Microbiology',\n",
       "       'MBBS, MS - ENT, DNB',\n",
       "       'MBBS, Post Graduate Diploma in Diabetes, Fellowship in Diabetology',\n",
       "       'MD - Homeopathy, DHMS (Diploma in Homeopathic Medicine and Surgery)',\n",
       "       'MBBS, MS - ENT, DNB - ENT',\n",
       "       'MBBS, DDV, Diploma in Health Administration',\n",
       "       'BDS, Advanced Certificate Course in Dental Implants',\n",
       "       'MBBS, Diploma in Otorhinolaryngology (DLO), Fellow of Academy of General Education (FAGE), FRCS - General Surgery',\n",
       "       'BDS, MDS - Periodontics, Fellowship and Diplomate in Implantology from ICOI (USA), DICOI',\n",
       "       'MD - Dermatology , Venereology & Leprosy', 'BHMS, PGDHA',\n",
       "       'MBBS, MD - General Medicine, MRCP - General Medicine',\n",
       "       'BDS, MDS - Periodontics, MSc',\n",
       "       'BDS, Certification in Aesthetic Dentistry',\n",
       "       'MBBS, MD - Homeopathy, MD - General Medicine',\n",
       "       'MDS - Pedodontics, BDS',\n",
       "       'MBBS, MD - Dermatology, DNB - Dermatology & Venereology, F.C.P.S (Dermatology)',\n",
       "       'MD - Homeopathy',\n",
       "       'BDS, MDS - Oral & Maxillofacial Surgery, Training in Surgical Oncology',\n",
       "       'MBBS, MD - General Medicine, FCD - Diabetology',\n",
       "       'MBBS, Post Graduate Course in Diabetology, DipFM',\n",
       "       'Diploma in Child Health (DCH), MBBS',\n",
       "       'MD - General Medicine, DNB, Diploma in Geriatric Medicine',\n",
       "       'BAMS, Certificate Course in Kshar Sutra Surgery',\n",
       "       'MBBS, DORL (ENT), MS - ENT', 'MBBS, MD - Dermatology, DNB',\n",
       "       'MBBS, MD - General Medicine, Diploma in Cardiology',\n",
       "       'MBBS, MD - Oncology',\n",
       "       'BHMS, MD - Homeopathy, MA - Clinical Psychology',\n",
       "       'Diploma in Dermatology, MD - Dermatology',\n",
       "       'MBBS, PG in Diabetology, FCCP',\n",
       "       'MBBS, Diploma in Child Health (DCH), Diploma of The Australian Institute of Dermatology, PG Diploma in Endocrinology',\n",
       "       'MBBS, MD - Medicine, DM - Cardiology, FACC, FESC',\n",
       "       'BSc - Dietitics / Nutrition, MBBS, Diploma in Child Health (DCH)',\n",
       "       'MBBS, Diploma in Tuberculosis and Chest Diseases (DTCD), DNB - General Medicine',\n",
       "       'BHMS, MSc', 'MBBS, MD - General Medicine, CCEDM',\n",
       "       'BDS, MDS, Fellowship in Oral implantlogy',\n",
       "       'MBBS, MD - General Medicine, DM - Cardiology, FIAMS',\n",
       "       'BAMS, Certificate in Food and Nutrition, Diploma in Dietatics & Clinical Nutrition',\n",
       "       'MBBS, DNB - General Medicine, Fellowship in Diabetology(Johns Hopkins University School of Medicine, USA)',\n",
       "       'DDVL, Diploma in Dermatology',\n",
       "       'Diploma in Hospital Administration, BAMS',\n",
       "       'BAMS, MS - Ayurveda, Certificate in Child Health (CCH)',\n",
       "       'MBBS, MD - Internal Medicine, DNB - General Medicine, Post Graduate Diploma in Diabetology (PGDD)',\n",
       "       'MBBS, DDVL, Fellowship in Cosmetology and Dermatosurgery, Fellowship in Aesthetic Medicine',\n",
       "       'MBBS, MS - General Surgery, MS - Paediatrics Surgery',\n",
       "       'MBBS, MD - Dermatology, DVL - Dermatology & Venereology',\n",
       "       'MBBS, Post Graduate Course in Diabetology, FCPS - General Surgery',\n",
       "       'DMS, MD - Homeopathy', 'MDS, BDS', 'MDS - Pedodontics',\n",
       "       'BAMS, BSAM, MS - Counselling & Psychotherapy',\n",
       "       'MBBS, Advanced Certificate Course In Diabetes, PG in Diabetology, Post Graduate Diploma in Diabetology (PGDD)(University of Leicester, UK)',\n",
       "       'B.Sc, MBBS, MD - General Medicine, Master of Clinical Embryology, Diploma of Clinical Hypnotherapy',\n",
       "       'BDS, B.Sc - Zoology (Hons.)',\n",
       "       'MBBS, Fellowship in Diabetology, Diploma in Emergency Medicine',\n",
       "       'MBBS, PGD ND',\n",
       "       'DHMS (Diploma in Homeopathic Medicine and Surgery), MD - Homeopathy',\n",
       "       'MBBS, MD - Skin & VD',\n",
       "       'BHMS, Certificate Course in Advanced Homoeopathy (C.C.A.H), Post Graduate Diploma in Emergency Medical Services',\n",
       "       'BHMS, PG - Homeo',\n",
       "       'MBBS, DDV, FCPS - Dermatology, Venereology & Leprosy',\n",
       "       'B.Sc, BHMS, Certificate in Food and Nutrition, Certificate Course in Advanced Homoeopathy (C.C.A.H)',\n",
       "       'MBBS, MD - General Medicine, DNB - Nephrology',\n",
       "       'MBBS, MD - Dermatology, MNAMS - DERMATOLOGY, Diploma in Dermatology',\n",
       "       'MBBS, MD - Family Medicine',\n",
       "       'BAMS, Post Graduate Diploma in Emergency Services (PGDEMS), MS - Psychology',\n",
       "       'BHMS, CGO', 'MBBS, Post Graduate Diploma in Diabetology (PGDD)',\n",
       "       'MBBS, MD - General Medicine, DDV',\n",
       "       'MBBS, Fellowship in Emergency Medicine, Post Graduate Diploma in Diabetology (PGDD)(Madras Medical College), PG Diploma in Endocrinology',\n",
       "       'BDS, Professional Implantology Training Course (PITC), Advanced Surgical Training In Implants, Certification in Full Mouth Rehabilitation',\n",
       "       'MS - ENT, DNB - ENT',\n",
       "       'MBBS, MS - General Surgery, MCh - Neuro Surgery',\n",
       "       'MS - Otorhinolaryngology, DNB - Otorhinolaryngology, FCPS - Mid. & Gynae, MBBS',\n",
       "       'MBBS, Post Graduate Diploma in Diabetology (PGDD), MD - General Medicine',\n",
       "       'DNB - Family Medicine, MBBS, DHM',\n",
       "       'MBBS, Diploma in Child Health (DCH)',\n",
       "       'MDS - Operative Dentistry, BDS',\n",
       "       'BDS, Post Graduate Diploma In Aesthetic & Restorative Dentistry',\n",
       "       'MBBS, DDV, MD - Skin & VD',\n",
       "       'MBBS, DNB - ENT, DNB - Otorhinolaryngology',\n",
       "       'MBBS, MS - ENT, MCh - Oncology',\n",
       "       'MD - General Medicine, FRCP, FIAMS, MBBS',\n",
       "       'BDS, Diploma in Hospital Administration', 'MBBS, DM - Neurology',\n",
       "       'MS - ENT, DNB - ENT, MBBS',\n",
       "       'MBBS, MS - Otorhinolaryngology, MS - ENT, Fellowship in Rhinology and Endoscopic Skull Base Surgery, Fellowship in Head & Neck Surgery',\n",
       "       'MBBS, DDV, MD - Skin,VD & Leprosy',\n",
       "       'Post Graduate Certificate in Endodontics (PGCE), BDS',\n",
       "       'MBBS, D.D, MD - Dermatology',\n",
       "       'MBBS, MD - Dermatology, PhD - Dermatology & Venereology', 'BSAM',\n",
       "       'MBBS, MD - Dermatology, Fellowship in Dermatological Laser Surgery',\n",
       "       'MBBS, MD - Microbiology',\n",
       "       'BAMS, PG in Clinical Nutrition and Dietetics',\n",
       "       'MD-DVL, MBBS, DNB - Dermatology & Venereology',\n",
       "       'MBBS, MS - General Surgery, Diploma in Otorhinolaryngology (DLO)',\n",
       "       'MBBS, DNB - Obstetrics & Gynecology',\n",
       "       'MBBS, Diploma of the Faculty of Family Planning (DFFP), Diploma in Practical Dermatology, MRCGP',\n",
       "       'MBBS, DDV, Fellow of Academy of General Education (FAGE)',\n",
       "       'MBBS, Diploma in Cosmetology',\n",
       "       'MS - ENT, MBBS, DNB - Otorhinolaryngology', 'MS - Ayurveda, BAMS',\n",
       "       'MBBS, DDVL, Certificate of Completion of Specialist Training- Transplant Surgery (CCST-TS)',\n",
       "       'MBBS, MD - General Medicine, DM - Cardiology, Fellowship In Interventional Cardiology',\n",
       "       'MBBS, DNB - Dermatology & Venereology, Fellow of the American Academy of Dermatology (FAAD), DVD',\n",
       "       'MBBS, Fellowship in Diabetology', 'BAMS, MS - Psychology',\n",
       "       'MBBS, MS - MS.Medicine',\n",
       "       'MBBS, MD - Dermatology, Diploma in Medical Law and Ethics (PGDMLE), Diploma in Medical Cosmetology',\n",
       "       'MBBS, MD - Dermatology , Venereology & Leprosy, FRGUHS',\n",
       "       'MBBS, Diploma in Otorhinolaryngology (DLO), FAMS - Fellowship of the Academy Medicine',\n",
       "       'BDS, MDS - Prosthodontist & Oral Implantologist, Fellowship in Oral implantlogy',\n",
       "       'Diploma in Otorhinolaryngology (DLO), MBBS, DNB',\n",
       "       'BHMS, Post Graduate Diploma in Emergency Services (PGDEMS), PGDPC (Post Graduation Diploma In Psychological Counselling)',\n",
       "       'MBBS, DDV, DDVL', 'MBBS, MS - Orthopaedics',\n",
       "       'BDS, MDS - Endodontics',\n",
       "       'MBBS, Post Graduate Diploma in Maternity and Child Health (PGDMCH)',\n",
       "       'B.Sc, MSc, MBBS', 'BDS, Master of Public Health (MPH)',\n",
       "       'BHMS, Diploma in Nutrition and Health Education', 'MBBS, DGO',\n",
       "       'MBBS, Fellowship in Nephrology', 'MBBS, Diploma in Diabetology',\n",
       "       'BAMS, Post Graduate Diploma in Clinical Research (PGDCR)',\n",
       "       'BDS, Certificate Course in Implantology',\n",
       "       'BDS, Diploma in Health Administration', 'BDS, MBA (Health Care)',\n",
       "       'Diploma in Aesthetic Medicine, Certificate in Aesthetic Medicine, Diploma in Practical Dermatology, MBBS',\n",
       "       'MDS - Paedodontics And Preventive Dentistry, BDS, Certified in Inhalational Sedation',\n",
       "       'BHMS, PG Diploma in Preventive and Promotive Health Care (PGD PPHC), MSc. - Food Service Management & Dietetics, Certificate in Yoga & Meditation',\n",
       "       'MBBS, MD - Physiology, AFIH, Diploma in Diabetes Management Certificate Program',\n",
       "       'MBBS, MD - General Medicine, Post Graduate Diploma in Diabetology (PGDD), Post Graduate Diploma in Diabetology (PGDD)',\n",
       "       'MD - Ayurveda Medicine, BAMS',\n",
       "       'MBBS, DVD, DNB - Dermatology & Venereology',\n",
       "       'BDS, Certificate in Dental Implants, Certificate in Cosmetic Dentistry',\n",
       "       'MBBS, DDVL, DNB - Dermatology & Venereology, MNAMS (Membership of the National Academy)',\n",
       "       'BAMS, Post Graduate Diploma in Psychological Counseling',\n",
       "       'Diploma in Dermatology', 'BDS, MDS - Public Health Dentistry',\n",
       "       'MD - Dermatology , Venereology & Leprosy, DNB - Dermatology & Venereology',\n",
       "       'MBBS, DDVL, Certificate in Cosmetology',\n",
       "       'BHMS, PG - Homeo, Diploma in Diet and Nutrition', 'MBBS, DOMS',\n",
       "       'MS - Otorhinolaryngology, DNB - ENT, MBBS',\n",
       "       'BSc - Zoology, MBBS, Diploma in ENT, MS - ENT',\n",
       "       'MBBS, Diploma in Clinical Dermatology (UK)',\n",
       "       'Diploma in Ayurvedic Medicine (DAM)',\n",
       "       'MBBS, M.Med in Family Medicine, post graduate diploma in health Sciences in diabetology',\n",
       "       'MBBS, MS - ENT, Diploma in ENT',\n",
       "       'MBBS, Post Graduate Diploma in Dermotology (PGDD)',\n",
       "       'BAMS, MD - Alternate Medicine, Post Graduate Diploma in Clinical Research (PGDCR), Certificate in Aesthetic Medicine, Yoga Teachers Training Course, Certified in Ayurveda Approach to Diabetes mellitus, Certified in Ayurveda Beauty care',\n",
       "       'MBBS, DNB, DDVL', 'BAMS, PG Diploma in Panchakarma',\n",
       "       'MBBS, DNB, Master of Hospital Administration',\n",
       "       'BHMS, MD - Medicine',\n",
       "       'MBBS, DNB - Respiratory Diseases, FCCP - Pulmonary Medicine, DAA - Diploma in Allergy Asthma and Immunology, P.G Diploma in Diabetes Management, Fellowship in Clinical Cardiology',\n",
       "       'MBBS, MD - Dermatology, Diploma in Aesthetic Medicine, Diploma in International Academy of Aesthestic Medicine',\n",
       "       'MBBS, MD - Dermatology , Venereology & Leprosy, DNB - Dermatology & Venereology',\n",
       "       'MBBS, MS - General Surgery, DNB, FRCS - General Surgery, MCh - Surgical Gastroenterology/G.I. Surgery',\n",
       "       'BPTh/BPT, Masters Of Physiotheraphy, BAMS',\n",
       "       'MBBS, MD - Dermatology, Diploma in Dermatology',\n",
       "       'MBBS, MRCGP, Diploma in Child Health (DCH), DRCOG, Diploma of the Faculty of Family Planning (DFFP)',\n",
       "       'BDS, MDS - Operative Dentistry',\n",
       "       'MBBS, MD - Dermatology, Fellow of Academy of General Education (FAGE)',\n",
       "       'MBBS, MD - Dermatology, FRGUHS',\n",
       "       'BAMS, Diploma in Hospital Management',\n",
       "       'DDVL, MD - Dermatology , Venereology & Leprosy',\n",
       "       'BDS, Certificate in Orthodontics',\n",
       "       'MD - General Medicine, DNB - General Medicine, MBBS, European Diploma in Intensive Care Medicine (EDIC), Fellowship in Diabetology',\n",
       "       'MBBS, MD - TB & Chest',\n",
       "       'MBBS, DDVL, DNB - Dermatology & Venereology',\n",
       "       'MBBS, FRCS - Otolaryngology', 'BDS, MDS - Oral Medicine',\n",
       "       'MBBS, Diploma in Orthopaedics, MS - Orthopaedics',\n",
       "       'MD - Homeopathy, Diploma in Acupuncture',\n",
       "       'BDS, Fellowship in Aesthetic Medicine', 'MBBS, MD - Physician',\n",
       "       'MBBS, MD - General Medicine, Post Graduate Diploma in Diabetology (PGDD), Fellowship In Critical Care, Fellowship in Rheumatology',\n",
       "       'BDS, Fellowship in Oral implantlogy, Diploma in Laser Dentistry, Fellowship and Diplomate in Implantology from ICOI (USA)',\n",
       "       'MBBS, MD - Skin,VD & Leprosy',\n",
       "       'BAMS, Diploma in Emergency Medicine',\n",
       "       'BDS, PG Diploma in Conservative, Endodontics and Aesthetic Dentistry, Fellowship In Clinical Cosmetology, PG Diploma In Clinical Cosmetology (PGDCC), MBA - Hospital Management, Diploma in Cosmetic Dentistry, Fellow of Academy of General Education (FAGE), Advanced Retreatment Course in RCT, Advanced Endotontic Course On Root Canal, Certified Course in Oral Surgery, MIDA, Certification in Prosthodontics & Periodontology, Certified Advanced Course in Wisdom Tooth Extraction, Certificate in Cosmetic Dentistry, Fellowship in Aesthetic Dentistry (FAD), Post Graduate Certificate in Endodontics (PGCE)',\n",
       "       'FAMS - Fellowship of the Academy Medicine, MBBS, MS - ENT, Diploma in ENT, Specialized Training in Otology, Fellowship in Head & Neck Oncology Surgery, Advanced Endoscopy Training, Cochlear Implant Surgery, Advance Course on Diagnosis of Allergy and Immunotherapy',\n",
       "       'BDS, MDS - Conservative Dentistry & Endodontics, MD - Dental Laser',\n",
       "       'BHMS, MD - Homeopathy, MS - Counselling and Psychotherapy',\n",
       "       'BAMS, Fellowship in Medical Cosmetology',\n",
       "       'MDS - Periodontics, BDS, MDS',\n",
       "       'MBBS, MD - General Medicine, DM - Gastroenterology',\n",
       "       'MBBS, MS - Otorhinolaryngology, DNB',\n",
       "       'Diploma in Dermatology, MD - Skin,VD & Leprosy, MBBS',\n",
       "       'MBBS, MD - Alternate Medicine',\n",
       "       'BHMS, BHMS, Certificate in Child Health (CCH)',\n",
       "       'MBBS, MD - Aerospace Medicine, DIH, Diploma in Hospital Administration, Fellowship of College of General Practice (FCGP)',\n",
       "       'BDS, MDS - Orthodontics and Dentofacial Orthopaedics, Certificate of Oral Implantology',\n",
       "       'BHMS, MD - Alternate Medicine', 'MD - Skin & VD, MBBS',\n",
       "       'BAMS, Fellow of Academy of General Education (FAGE), Post Graduate Diploma In Yoga',\n",
       "       'MBBS, MSc - Clinical Dermatology',\n",
       "       'MBBS, Post Graduate Diploma in Medical Law and Ethics, Msc Clinical Research & Regulatory Affairs, Diploma in Family Medicine (DFM)',\n",
       "       'BDS, PGCAD',\n",
       "       'MBBS, MD - Cardiology, DM - Cardiology, FCCP - Pulmonary Medicine',\n",
       "       'DHMS (Diploma in Homeopathic Medicine and Surgery), Diploma in Trichology - Cosmetology, Diploma in Obesity & Pain management',\n",
       "       'BHMS, Diploma in Diet and Nutrition',\n",
       "       'MBBS, FCPS - Dermatology, Venereology & Leprosy',\n",
       "       'BDS, Certification in Clear Aligners, MDS - Orthodontics',\n",
       "       'MBBS, MD - General Medicine, Fellowship in Diabetes (UK), CCEBDM, CCT - Endocrinology and Diabetes Mellitus',\n",
       "       'MBBS, DNB - Dermatology & Venereology, DDV, DVD',\n",
       "       'MBBS, Fellowship in Diabetology, Certificate Course in Gestational Diabetes Mellitus',\n",
       "       'BHMS, MD - Homeopathy, MBA - Hospital Management',\n",
       "       'MBBS, DNB - Internal Medicine, M.H.Sc-Diabetology',\n",
       "       'DNB - Dermatology, Venereology & Leprosy, MBBS, DDVL',\n",
       "       'DNB - Pediatrics, MBBS',\n",
       "       'M.D. (Ayu.), Panchkarma, Consultant Rheumatologist (Ayu.), DYSc., BAMS',\n",
       "       'MBBS, Diploma in Clinical Dermatology (UK), Diploma In Skin Aesthetics',\n",
       "       'MBBS, MD - Medicine, DM - Nephrology',\n",
       "       'MBBS, MS - General Surgery, MD - Medicine',\n",
       "       'MD - Dermatology , Venereology & Leprosy, DNB, MRCP (UK)',\n",
       "       'MBBS, DDV, DNB, MD - Dermatology',\n",
       "       'MBBS, MS - ENT, Fellowship In Phonosurgery',\n",
       "       'Diploma in ENT, MBBS', 'BHMS, MD - Medicine, PhD - Medicine',\n",
       "       'BHMS, Certificate in Food and Nutrition',\n",
       "       'BAMS, DNHE, Certification In Yoga', 'MBBS, DLO, DNB - ENT',\n",
       "       'MBBS, MD - General Medicine, DM - Medical Oncology',\n",
       "       'MBBS, MD - Dermatology , Venereology & Leprosy, Fellowship In Dermatosurgery, Certificate Course In Cosmetic Dermatology & Lasers',\n",
       "       'MD - Practice Of Medicine, BHMS, Diploma in Trichology - Cosmetology, Certificate in Child Health (CCH), CGO, MBBS',\n",
       "       'MBBS, DPM (Psychiatry)',\n",
       "       'MBBS, Diploma in Otorhinolaryngology (DLO), MS - ENT, FRCS - General Surgery',\n",
       "       'MBBS, MD - Community Medicine',\n",
       "       'MBBS, MD - General Medicine, Post Graduate Diploma in Diabetology (PGDD)(Madras Medical College)',\n",
       "       'MD - Dermatology, DNB - Dermatology & Venereology, MBBS',\n",
       "       'MS - Otorhinolaryngology, DNB - ENT, DHM, MBBS',\n",
       "       'B.Sc, BAMS, MD - Yoga and Rehab', 'MBBS, MD - Skin & VD, MAMS',\n",
       "       'MBBS, PG Diploma In Emergency Trauma Care, ACLS',\n",
       "       'MBBS, DDVL, Fellowship in Pediatric Dermatology',\n",
       "       'MBBS, DNB - Dermatology, Venereology & Leprosy',\n",
       "       'MBBS, DDVL, Fellowship IN FUE Hair Transplant Technique',\n",
       "       'MBBS, Postgraduate Diploma Clinical Cardiology (PGDCC), PG Diploma in Human Rights',\n",
       "       'MBBS, DNB - Paediatrics, Diploma in Child Health (DCH)',\n",
       "       'MBBS, Diploma in Dermatology, Diploma in Medical Cosmetology',\n",
       "       'MBBS, DDVL, AFIH', 'MBBS, MS - Otorhinolaryngology, MS - ENT',\n",
       "       'MD - Panchakarma, BAMS', 'DNB - General Medicine, MD - Physician',\n",
       "       'MBBS, MD - Family Medicine, Post Graduate Diploma in Diabetes, Certification Course In Diabetes',\n",
       "       'MD - Dermatology , Venereology & Leprosy, Fellow of the American Academy of Dermatology (FAAD), MBBS',\n",
       "       'MD - Homeopathy, PGCR',\n",
       "       'BDS, MDS - Endodontics, Certification in Laser Dentistry',\n",
       "       'MBBS, Diploma in Otorhinolaryngology (DLO), DNB - Ophthalmology',\n",
       "       'BAMS, MD - Ayurveda Medicine, Fellowship in Sexual Medicine, Fellowship in Rheumatology',\n",
       "       'MBBS, MD - Dermatology, DNB - Dermatology & Venereology, Fellowship in Cosmetology',\n",
       "       'MDS - Community Dentistry, BDS', 'MBBS, DNB - Nephrology',\n",
       "       'MBBS, MD - General Medicine, Post Graduate Diploma in Diabetology (PGDD)',\n",
       "       'MBBS, MD - General Medicine, Post Graduate Diploma in Diabetology (PGDD), Certificate Course in Evidence Based Diabetes Management (CCEBDM), FRCP',\n",
       "       'BAMS, MD-Ayurvedic Vachaspati',\n",
       "       'BAMS, MD - Ayurveda Medicine, MBA - Hospital Management',\n",
       "       'MBBS, DNB - ENT, Fellowship in Neuro-Otology and Skull Base Surgery (USA)',\n",
       "       'BDS, MDS - Orthodontics and Dentofacial Orthopaedics, Certificate of Oral Implantology, Fellowship in Aesthetic Medicine, Invisalign Training Course',\n",
       "       'MBBS, MS - General Surgery, FRCS - General Surgery, MCh - Urology, DNB - Urology/Genito - Urinary Surgery',\n",
       "       'MBBS, AFIH, Fellowship in Diabetology',\n",
       "       'BDS, MDS - Prosthodontist And Crown Bridge, Fellowship in Oral implantlogy',\n",
       "       'MBBS, DVL, MD - Dermatology , Venereology & Leprosy',\n",
       "       'BHMS, Fellowship in Medical Cosmetology (FMC)',\n",
       "       'MBBS, MD - Dermatology, DNB - Dermatology & Venereology',\n",
       "       'MBBS, DDVL, Fellowship In Dermatosurgery',\n",
       "       \"BAMS, Master of Arts - Yoga, Yoga Instructor's Course\",\n",
       "       'MBBS, MS - Otorhinolaryngology, Fellowship in Head & Neck Oncology Surgery, Fellowship in Skull Base Surgery, Fellowship in Head & Neck Oncology Surgery',\n",
       "       'PhD - Orthodontics & Dentofacial Orthopaedics, BDS', 'FICD',\n",
       "       'MBBS, BDS, FDSRCS - Fellowship in Dental Surgery',\n",
       "       'MDS - Endodontics, BDS',\n",
       "       'MS - ENT, Diploma in Otorhinolaryngology (DLO), Diploma in Opthalmology, MBBS',\n",
       "       'BHMS, M.Phil - Psychology, MSc - Applied Psychology',\n",
       "       'MS - Otorhinolaryngology, Diploma in Otorhinolaryngology (DLO)',\n",
       "       'MBBS, DNB - ENT',\n",
       "       'MBBS, MS - Otrohinolaryngology, DNB - Otorhinolaryngology',\n",
       "       'MD - Internal Medicine, MBBS', 'DNB - ENT, MS - ENT, MBBS',\n",
       "       'BDS, MDS - Prosthodontist And Crown Bridge, FICOI',\n",
       "       'MBBS, MS - Otorhinolaryngology, Diploma in Otorhinolaryngology (DLO), Diploma in Health Administration',\n",
       "       'DEHM, BEMS',\n",
       "       'BDS, MDS - Conservative Dentistry & Endodontics, DNB',\n",
       "       'MBBS, MD - Dermatology , Venereology & Leprosy, DDV',\n",
       "       'BAMS, MSc - Yoga', 'MBBS, DPH & H',\n",
       "       'BHMS, Certificate Course in Advanced Homoeopathy (C.C.A.H)',\n",
       "       'MD - Medicine, MBBS',\n",
       "       'MBBS, DDV, Fellowship in Dermatological Laser Surgery',\n",
       "       'MBBS, DNB - Pediatrics, Fellowship in Paediatric gastroenterology & Hepatology, Fellowship In Transplant Hepatology',\n",
       "       'DNB - Dermatology & Venereology, MNAMS - DERMATOLOGY, F.C.P.S (Dermatology), DDV, MBBS',\n",
       "       'MS - Otorhinolaryngology, DNB - Otorhinolaryngology, MBBS',\n",
       "       'MBBS, MD - General Medicine, DNB', 'DDVL, MBBS, F.A.M',\n",
       "       'BAMS, MD - Internal Medicine, Diploma in Emergency Medicine, Post Graduate Diploma In Yoga',\n",
       "       'MBBS, Post Graduate Diploma in Diabetology (PGDD), PG in Diabetology(Johns Hopkins University School of Medicine, USA)',\n",
       "       'BHMS, Post Graduate Diploma In Yoga',\n",
       "       'MBBS, MD - General Medicine, DNB - Neurology',\n",
       "       'LCEH, MD - Homeopathy',\n",
       "       'MRCGP, Post Graduate Diploma in Diabetology (PGDD)(University of Leicester, UK), MBBS',\n",
       "       'MBBS, MD - Dermatology , Venereology & Leprosy, MRCPS', 'MDS',\n",
       "       'MBBS, Post Graduate Diploma in Diabetology (PGDD), Certificate Course in Evidence Based Diabetes Management (CCEBDM)',\n",
       "       'MBBS, MS - ENT, Diploma in Otorhinolaryngology (DLO), FRCS - General Surgery',\n",
       "       'MBBS, MD - General Medicine, DM - Nephrology',\n",
       "       'MBBS, MD - Dermatology, DVL',\n",
       "       'BHMS, MD - Homeopathy Psychiatry, Post Graduate Diploma in Clinical Research (PGDCR), MS - Psychology',\n",
       "       'BAMS, MS - Counselling and Psychotherapy',\n",
       "       'FPFA, BDS, FPFA, MDS - Conservative Dentistry & Endodontics',\n",
       "       'MBBS, MD - Internal Medicine, DNB - General Medicine',\n",
       "       'DHMS (Diploma in Homeopathic Medicine and Surgery), PhD - Homoeopathy',\n",
       "       'MBBS, Fellow of Academy of General Education (FAGE), BSc - Dietitics / Nutrition',\n",
       "       'MBBS, MS - Otorhinolaryngology, DNB - Otorhinolaryngology',\n",
       "       'MBBS, Post Graduate Diploma in Diabetology (PGDD), MD - Diabetology',\n",
       "       'MBBS, M.D. (Psychiatry)',\n",
       "       'MBBS, MBBS, MD - General Medicine, MD - Community Medicine, MD - Medicine',\n",
       "       'BDS, Certificate in Dental Implants, Certificate in Dental Implants',\n",
       "       'Diploma in Cardiology, MBBS, MD - General Medicine, PG in Diabetology',\n",
       "       'MBBS, MRCGP, Diploma in Diabetes',\n",
       "       'DHMS, DHMS (Diploma in Homeopathic Medicine and Surgery)',\n",
       "       'MBBS, MS - ENT, Specialized Training in Otology',\n",
       "       'MBBS, MD - Dermatology , Venereology & Leprosy, DLO',\n",
       "       'MBBS, MS - General Surgery, MCh - Plastic Surgery',\n",
       "       'MBBS, MD - Dermatology, DDV, DNB', 'MBBS, Diploma in Acupuncture',\n",
       "       'MBBS, Post Graduate Diploma in Diabetology (PGDD), Diploma in Family Medicine (DFM)',\n",
       "       'MRCS (UK), MBBS, MS - Otorhinolaryngology',\n",
       "       'MS - Otorhinolaryngology, DNB - ENT',\n",
       "       'MBBS, Graduate Diploma in Family Medicine, Singapore',\n",
       "       'BDS, Certification in Full Mouth Rehabilitation',\n",
       "       'MRCP (UK), Diploma in Dermatology, MBBS',\n",
       "       'MBBS, DDVL, MD - Skin & VD', 'BDS, Diploma in Laser Dentistry',\n",
       "       'DM - Pulmonary Medicine, MBBS, DM - Critical Care Medicine',\n",
       "       'BHMS, Diploma in Dermatology (Alt)',\n",
       "       'BDS, Certificate in Dental Implantology',\n",
       "       'MBBS, MS - General Surgery, Fellow of Academy of General Education (FAGE), Diploma in Laparoscopy',\n",
       "       'MBBS, MD - Skin,VD & Leprosy, Fellow of the American Academy of Dermatology (FAAD), DNB - Dermatology & Venereology',\n",
       "       'BHMS, PGDPC (Post Graduation Diploma In Psychological Counselling), Post Graduate Diploma in Emergency Services (PGDEMS)',\n",
       "       'BDS, MDS - Oral Pathology & Bacteriology',\n",
       "       'MDS - Orthodontics, BDS, MOrth', 'BAMS, DNHE',\n",
       "       'MBBS, MD - Tuberculosis & Respiratory Diseases / Pulmonary Medicine',\n",
       "       'MBBS, Post Graduate Diploma in Family Medicine (PGDFM)',\n",
       "       'MD - Physician, FDIAB, Post Graduate Diploma in Diabetology (PGDD)',\n",
       "       'MBBS, FCCP, CCEBDM', 'MS - Otorhinolaryngology, MBBS, DNB - ENT',\n",
       "       'MBBS, DM - Cardiology, MD - Medicine',\n",
       "       'MD - General Medicine, MBBS, DM - Cardiology',\n",
       "       'MDS - Prosthodontist And Crown Bridge, Certificate of Oral Implantology, BDS',\n",
       "       'MBBS, MD - Rheumatology',\n",
       "       'MD - Physician, PGDHSc, Diploma in Diabetology, Postgraduate Diploma Clinical Cardiology (PGDCC), Fellowship in Diabetology(Johns Hopkins University School of Medicine, USA)',\n",
       "       'MS - ENT, DNB - ENT, MBBS, MRCS (UK), MNAMS (Membership of the National Academy)',\n",
       "       'BDS, Fellowship in Oral implantlogy, Certificate of Oral Implantology',\n",
       "       'BAMS, D-Pharm',\n",
       "       'MBBS, MD - Medicine, Fellowship in Diabetes Management',\n",
       "       'BAMS, Diploma in Cosmetology, Diploma in Health Administration',\n",
       "       'MS - General Surgery, MBBS',\n",
       "       'BAMS, M.S. (Ayurved) Stri Roga & Prasuti Tantra',\n",
       "       'MBBS, DNB - Neurology, DNB - General Medicine', 'MBBS, DDVL, DDV',\n",
       "       'BHMS, Post Graduate Diploma in Emergency Medical Services, DHMS (Diploma in Homeopathic Medicine and Surgery)',\n",
       "       'Certification in Aesthetic Dentistry, MDS - Orthodontics, BDS',\n",
       "       'DPM (Psychiatry), MBBS', 'MBBS, MD - Dermatology, DDVL',\n",
       "       'BDS, MDS - Orthodontics, Certificate of Oral Implantology',\n",
       "       'MD - Acupuncture, PG Diploma In Clinical Cosmetology (PGDCC), BDS',\n",
       "       'MBBS, PGDHA',\n",
       "       'BDS, MDS - Prosthodontist And Crown Bridge, Certificate of Oral Implantology',\n",
       "       'MBBS, MRCOG(UK)',\n",
       "       'MD - Medicine, Post Graduate Diploma in Diabetology (PGDD), MBBS, FRCP - Internal Medicine',\n",
       "       'MDS - Periodontics', 'MBBS, MS - General Surgery, FAIS, FIAGES',\n",
       "       'MBBS, MD - Dermatology , Venereology & Leprosy, DNB - Dermatology, Venereology & Leprosy',\n",
       "       'BAMS, Doctor of Medicine',\n",
       "       'MBBS, MD / MS - Obstetrics & Gynaecology'], dtype=object)"
      ]
     },
     "execution_count": 89,
     "metadata": {},
     "output_type": "execute_result"
    }
   ],
   "source": [
    "df1_test['Qualification'].unique()"
   ]
  },
  {
   "cell_type": "code",
   "execution_count": 90,
   "id": "b1f78d81",
   "metadata": {},
   "outputs": [],
   "source": [
    "# creating dict of qualification with there counts\n",
    "df1_test[\"Qualification\"]=df1_test[\"Qualification\"].str.split(\",\")\n",
    "Qualification ={}\n",
    "for x in df1_test[\"Qualification\"].values:\n",
    "    for i in x:\n",
    "        i=i.strip()\n",
    "        if i in Qualification:\n",
    "            Qualification[i]+=1\n",
    "        else:\n",
    "            Qualification[i]=1"
   ]
  },
  {
   "cell_type": "code",
   "execution_count": 91,
   "id": "82c906ea",
   "metadata": {},
   "outputs": [
    {
     "name": "stdout",
     "output_type": "stream",
     "text": [
      "['MBBS', 'BDS', 'BHMS', 'BAMS', 'MD - Dermatology', 'MS - ENT', 'MD - General Medicine', 'Venereology & Leprosy', 'Diploma in Otorhinolaryngology (DLO)', 'DDVL']\n"
     ]
    }
   ],
   "source": [
    "#Extracting top 10 qualification\n",
    "qual10=sorted(Qualification.items(),key=lambda x:x[1],reverse=True)[:10]\n",
    "final=[]\n",
    "for j in qual10:\n",
    "    final.append(j[0])\n",
    "    \n",
    "print(final)"
   ]
  },
  {
   "cell_type": "code",
   "execution_count": 92,
   "id": "c88f006a",
   "metadata": {},
   "outputs": [],
   "source": [
    "#Encoding extracted top 10 qualification into the dataset as new columns.\n",
    "for j in final:\n",
    "    df1_test[j]=0\n",
    "\n",
    "for x,y in zip(df1_test['Qualification'].values, np.array([i for i in range(len(df1_test))])):\n",
    "    for c in x:\n",
    "        c=c.strip()\n",
    "        if c in final:\n",
    "            df1_test[c][y]=1"
   ]
  },
  {
   "cell_type": "code",
   "execution_count": 93,
   "id": "4b910381",
   "metadata": {},
   "outputs": [],
   "source": [
    "# Now we can drop the qualification and qualification count columns \n",
    "df1_test.drop(['Qualification','Qualification_count'],axis=1,inplace=True)"
   ]
  },
  {
   "cell_type": "code",
   "execution_count": 94,
   "id": "aabf9243",
   "metadata": {},
   "outputs": [],
   "source": [
    "# Extracting only experience Year from Experience column and converting it to Numeric.\n",
    "df1_test['Experience'] = df1_test['Experience'].str.split().str[0]\n",
    "df1_test['Experience'] = df1_test['Experience'].astype(int)"
   ]
  },
  {
   "cell_type": "code",
   "execution_count": 96,
   "id": "b7345727",
   "metadata": {},
   "outputs": [],
   "source": [
    "#As, there are missing values in Place column so we will replace them with Unknown, Unknown(locality,city) to represent them. So that we can easily extract city and locality from Place variable.\n",
    "df1_test.Place.fillna('Unknown,Unknown',inplace=True)\n",
    "\n",
    "#Separating locality and city in individual columns.\n",
    "df1_test['locality']=df1_test['Place'].str.split(\",\").str[0]\n",
    "df1_test['city']=df1_test['Place'].str.split(\",\").str[1]"
   ]
  },
  {
   "cell_type": "code",
   "execution_count": 97,
   "id": "3c44727c",
   "metadata": {},
   "outputs": [],
   "source": [
    "#Now we can drop the place variable\n",
    "df1_test.drop('Place',axis=1,inplace=True)"
   ]
  },
  {
   "cell_type": "code",
   "execution_count": 98,
   "id": "e2776d88",
   "metadata": {},
   "outputs": [],
   "source": [
    "#Dropping the locality column\n",
    "df1_test.drop('locality',axis=1,inplace=True)"
   ]
  },
  {
   "cell_type": "code",
   "execution_count": 99,
   "id": "2acbe898",
   "metadata": {},
   "outputs": [],
   "source": [
    "# Filling the missing values in rating column with -99% to provide them different importance.\n",
    "df1_test['Rating'].fillna('-1%',inplace=True)"
   ]
  },
  {
   "cell_type": "code",
   "execution_count": 100,
   "id": "f9dc3d09",
   "metadata": {},
   "outputs": [],
   "source": [
    "# extracting value of rating to avoid '%' and converting it to numeric\n",
    "df1_test['Rating']=df1_test['Rating'].str.slice(stop=-1).astype(int)"
   ]
  },
  {
   "cell_type": "code",
   "execution_count": 101,
   "id": "675cd190",
   "metadata": {},
   "outputs": [],
   "source": [
    "#Creating bins for ratings\n",
    "bins=[-99,0,10,20,30,40,50,60,70,80,90,100]\n",
    "labels=[i for i in range(11)]\n",
    "df1_test['Rating']=pd.cut(df1_test['Rating'], bins=bins, labels=labels, include_lowest=True)"
   ]
  },
  {
   "cell_type": "code",
   "execution_count": 102,
   "id": "0016088e",
   "metadata": {},
   "outputs": [
    {
     "data": {
      "text/plain": [
       "0     1090\n",
       "10     739\n",
       "9      108\n",
       "8       27\n",
       "7       14\n",
       "6        9\n",
       "5        0\n",
       "4        0\n",
       "3        0\n",
       "2        0\n",
       "1        0\n",
       "Name: Rating, dtype: int64"
      ]
     },
     "execution_count": 102,
     "metadata": {},
     "output_type": "execute_result"
    }
   ],
   "source": [
    "#Checking the bins created\n",
    "df1_test['Rating'].value_counts()"
   ]
  },
  {
   "cell_type": "code",
   "execution_count": 103,
   "id": "37d97c95",
   "metadata": {},
   "outputs": [
    {
     "data": {
      "text/plain": [
       "array([' Mumbai', ' Hyderabad', ' Chennai', ' Delhi', ' Bangalore',\n",
       "       ' Coimbatore', ' Thiruvananthapuram', ' Ernakulam', 'Unknown'],\n",
       "      dtype=object)"
      ]
     },
     "execution_count": 103,
     "metadata": {},
     "output_type": "execute_result"
    }
   ],
   "source": [
    "#Checking city counts\n",
    "df1_test['city'].unique()"
   ]
  },
  {
   "cell_type": "code",
   "execution_count": 105,
   "id": "f451160b",
   "metadata": {},
   "outputs": [
    {
     "data": {
      "text/plain": [
       "0"
      ]
     },
     "execution_count": 105,
     "metadata": {},
     "output_type": "execute_result"
    }
   ],
   "source": [
    "df1_test[\"city\"].isnull().sum()"
   ]
  },
  {
   "cell_type": "code",
   "execution_count": 106,
   "id": "7c3b4891",
   "metadata": {},
   "outputs": [],
   "source": [
    "# removing the extra spaces before the city\n",
    "import re\n",
    "df1_test['city'] = df1_test['city'].apply(lambda x: re.sub(' +','',str(x)))"
   ]
  },
  {
   "cell_type": "code",
   "execution_count": 111,
   "id": "0f392028",
   "metadata": {},
   "outputs": [],
   "source": [
    "#Dropping miscellaneous info column e have city column.\n",
    "df1_test.drop(['Miscellaneous_Info'],axis=1,inplace=True)"
   ]
  },
  {
   "cell_type": "code",
   "execution_count": 112,
   "id": "7aa92a7d",
   "metadata": {},
   "outputs": [
    {
     "data": {
      "text/plain": [
       "Experience                                 int32\n",
       "Rating                                  category\n",
       "Profile                                   object\n",
       "MBBS                                       int64\n",
       "BDS                                        int64\n",
       "BHMS                                       int64\n",
       "BAMS                                       int64\n",
       "MD - Dermatology                           int64\n",
       "MS - ENT                                   int64\n",
       "MD - General Medicine                      int64\n",
       "Venereology & Leprosy                      int64\n",
       "Diploma in Otorhinolaryngology (DLO)       int64\n",
       "DDVL                                       int64\n",
       "city                                      object\n",
       "dtype: object"
      ]
     },
     "execution_count": 112,
     "metadata": {},
     "output_type": "execute_result"
    }
   ],
   "source": [
    "df1_test.dtypes"
   ]
  },
  {
   "cell_type": "code",
   "execution_count": 113,
   "id": "1511dcb0",
   "metadata": {},
   "outputs": [],
   "source": [
    "#Converting rating to int\n",
    "df1_test['Rating']=df1_test['Rating'].astype(int)"
   ]
  },
  {
   "cell_type": "code",
   "execution_count": 115,
   "id": "fa9ba67c",
   "metadata": {},
   "outputs": [
    {
     "data": {
      "text/html": [
       "<div>\n",
       "<style scoped>\n",
       "    .dataframe tbody tr th:only-of-type {\n",
       "        vertical-align: middle;\n",
       "    }\n",
       "\n",
       "    .dataframe tbody tr th {\n",
       "        vertical-align: top;\n",
       "    }\n",
       "\n",
       "    .dataframe thead th {\n",
       "        text-align: right;\n",
       "    }\n",
       "</style>\n",
       "<table border=\"1\" class=\"dataframe\">\n",
       "  <thead>\n",
       "    <tr style=\"text-align: right;\">\n",
       "      <th></th>\n",
       "      <th>Experience</th>\n",
       "      <th>Rating</th>\n",
       "      <th>Profile</th>\n",
       "      <th>MBBS</th>\n",
       "      <th>BDS</th>\n",
       "      <th>BHMS</th>\n",
       "      <th>BAMS</th>\n",
       "      <th>MD - Dermatology</th>\n",
       "      <th>MS - ENT</th>\n",
       "      <th>MD - General Medicine</th>\n",
       "      <th>Venereology &amp; Leprosy</th>\n",
       "      <th>Diploma in Otorhinolaryngology (DLO)</th>\n",
       "      <th>DDVL</th>\n",
       "      <th>city</th>\n",
       "    </tr>\n",
       "  </thead>\n",
       "  <tbody>\n",
       "    <tr>\n",
       "      <th>0</th>\n",
       "      <td>35</td>\n",
       "      <td>0</td>\n",
       "      <td>4</td>\n",
       "      <td>1</td>\n",
       "      <td>0</td>\n",
       "      <td>0</td>\n",
       "      <td>0</td>\n",
       "      <td>0</td>\n",
       "      <td>0</td>\n",
       "      <td>0</td>\n",
       "      <td>0</td>\n",
       "      <td>0</td>\n",
       "      <td>0</td>\n",
       "      <td>6</td>\n",
       "    </tr>\n",
       "    <tr>\n",
       "      <th>1</th>\n",
       "      <td>31</td>\n",
       "      <td>0</td>\n",
       "      <td>3</td>\n",
       "      <td>1</td>\n",
       "      <td>0</td>\n",
       "      <td>0</td>\n",
       "      <td>0</td>\n",
       "      <td>0</td>\n",
       "      <td>0</td>\n",
       "      <td>0</td>\n",
       "      <td>0</td>\n",
       "      <td>1</td>\n",
       "      <td>0</td>\n",
       "      <td>5</td>\n",
       "    </tr>\n",
       "    <tr>\n",
       "      <th>2</th>\n",
       "      <td>40</td>\n",
       "      <td>7</td>\n",
       "      <td>2</td>\n",
       "      <td>1</td>\n",
       "      <td>0</td>\n",
       "      <td>0</td>\n",
       "      <td>0</td>\n",
       "      <td>0</td>\n",
       "      <td>0</td>\n",
       "      <td>0</td>\n",
       "      <td>0</td>\n",
       "      <td>0</td>\n",
       "      <td>1</td>\n",
       "      <td>1</td>\n",
       "    </tr>\n",
       "    <tr>\n",
       "      <th>3</th>\n",
       "      <td>0</td>\n",
       "      <td>0</td>\n",
       "      <td>0</td>\n",
       "      <td>0</td>\n",
       "      <td>0</td>\n",
       "      <td>0</td>\n",
       "      <td>1</td>\n",
       "      <td>0</td>\n",
       "      <td>0</td>\n",
       "      <td>0</td>\n",
       "      <td>0</td>\n",
       "      <td>0</td>\n",
       "      <td>0</td>\n",
       "      <td>3</td>\n",
       "    </tr>\n",
       "    <tr>\n",
       "      <th>4</th>\n",
       "      <td>16</td>\n",
       "      <td>10</td>\n",
       "      <td>1</td>\n",
       "      <td>0</td>\n",
       "      <td>1</td>\n",
       "      <td>0</td>\n",
       "      <td>0</td>\n",
       "      <td>0</td>\n",
       "      <td>0</td>\n",
       "      <td>0</td>\n",
       "      <td>0</td>\n",
       "      <td>0</td>\n",
       "      <td>0</td>\n",
       "      <td>0</td>\n",
       "    </tr>\n",
       "  </tbody>\n",
       "</table>\n",
       "</div>"
      ],
      "text/plain": [
       "   Experience  Rating  Profile  MBBS  BDS  BHMS  BAMS  MD - Dermatology  \\\n",
       "0          35       0        4     1    0     0     0                 0   \n",
       "1          31       0        3     1    0     0     0                 0   \n",
       "2          40       7        2     1    0     0     0                 0   \n",
       "3           0       0        0     0    0     0     1                 0   \n",
       "4          16      10        1     0    1     0     0                 0   \n",
       "\n",
       "   MS - ENT  MD - General Medicine  Venereology & Leprosy  \\\n",
       "0         0                      0                      0   \n",
       "1         0                      0                      0   \n",
       "2         0                      0                      0   \n",
       "3         0                      0                      0   \n",
       "4         0                      0                      0   \n",
       "\n",
       "   Diploma in Otorhinolaryngology (DLO)  DDVL  city  \n",
       "0                                     0     0     6  \n",
       "1                                     1     0     5  \n",
       "2                                     0     1     1  \n",
       "3                                     0     0     3  \n",
       "4                                     0     0     0  "
      ]
     },
     "execution_count": 115,
     "metadata": {},
     "output_type": "execute_result"
    }
   ],
   "source": [
    "for i in cat:\n",
    "    df1_test[i]=le.fit_transform(df1_test[i])\n",
    "\n",
    "df1_test.head()"
   ]
  },
  {
   "cell_type": "code",
   "execution_count": 116,
   "id": "6feac401",
   "metadata": {},
   "outputs": [],
   "source": [
    "df1_test_sc=sc.fit_transform(df1_test)\n",
    "df1_test_sc=pd.DataFrame(df1_test_sc,columns=df1_test.columns)"
   ]
  },
  {
   "cell_type": "code",
   "execution_count": 117,
   "id": "0d302fd8",
   "metadata": {},
   "outputs": [],
   "source": [
    "df_test=df1_test_sc"
   ]
  },
  {
   "cell_type": "markdown",
   "id": "90913230",
   "metadata": {},
   "source": [
    "# Loading the Model"
   ]
  },
  {
   "cell_type": "code",
   "execution_count": 121,
   "id": "e7404594",
   "metadata": {},
   "outputs": [],
   "source": [
    "#Loading the model\n",
    "doctor_fee_model=joblib.load('Doctor_fees_train.obj')"
   ]
  },
  {
   "cell_type": "code",
   "execution_count": 122,
   "id": "927c3b38",
   "metadata": {},
   "outputs": [],
   "source": [
    "#Predicitng the fees(values)\n",
    "x=doctor_fee_model.predict(df1_test)"
   ]
  },
  {
   "cell_type": "code",
   "execution_count": 123,
   "id": "42c15747",
   "metadata": {},
   "outputs": [
    {
     "name": "stdout",
     "output_type": "stream",
     "text": [
      "Predcited values:  [285.6        285.6        136.22857143 ... 130.2        331.90666667\n",
      " 130.2       ]\n"
     ]
    }
   ],
   "source": [
    "print(\"Predcited values: \",x)"
   ]
  },
  {
   "cell_type": "code",
   "execution_count": 124,
   "id": "690415ba",
   "metadata": {},
   "outputs": [],
   "source": [
    "#creating dataframe to store the predcited values\n",
    "df=pd.DataFrame(x)"
   ]
  },
  {
   "cell_type": "code",
   "execution_count": 125,
   "id": "6fff66e9",
   "metadata": {},
   "outputs": [
    {
     "data": {
      "text/html": [
       "<div>\n",
       "<style scoped>\n",
       "    .dataframe tbody tr th:only-of-type {\n",
       "        vertical-align: middle;\n",
       "    }\n",
       "\n",
       "    .dataframe tbody tr th {\n",
       "        vertical-align: top;\n",
       "    }\n",
       "\n",
       "    .dataframe thead th {\n",
       "        text-align: right;\n",
       "    }\n",
       "</style>\n",
       "<table border=\"1\" class=\"dataframe\">\n",
       "  <thead>\n",
       "    <tr style=\"text-align: right;\">\n",
       "      <th></th>\n",
       "      <th>0</th>\n",
       "    </tr>\n",
       "  </thead>\n",
       "  <tbody>\n",
       "    <tr>\n",
       "      <th>0</th>\n",
       "      <td>285.600000</td>\n",
       "    </tr>\n",
       "    <tr>\n",
       "      <th>1</th>\n",
       "      <td>285.600000</td>\n",
       "    </tr>\n",
       "    <tr>\n",
       "      <th>2</th>\n",
       "      <td>136.228571</td>\n",
       "    </tr>\n",
       "    <tr>\n",
       "      <th>3</th>\n",
       "      <td>245.806667</td>\n",
       "    </tr>\n",
       "    <tr>\n",
       "      <th>4</th>\n",
       "      <td>331.906667</td>\n",
       "    </tr>\n",
       "    <tr>\n",
       "      <th>...</th>\n",
       "      <td>...</td>\n",
       "    </tr>\n",
       "    <tr>\n",
       "      <th>1982</th>\n",
       "      <td>416.913333</td>\n",
       "    </tr>\n",
       "    <tr>\n",
       "      <th>1983</th>\n",
       "      <td>131.200000</td>\n",
       "    </tr>\n",
       "    <tr>\n",
       "      <th>1984</th>\n",
       "      <td>130.200000</td>\n",
       "    </tr>\n",
       "    <tr>\n",
       "      <th>1985</th>\n",
       "      <td>331.906667</td>\n",
       "    </tr>\n",
       "    <tr>\n",
       "      <th>1986</th>\n",
       "      <td>130.200000</td>\n",
       "    </tr>\n",
       "  </tbody>\n",
       "</table>\n",
       "<p>1987 rows × 1 columns</p>\n",
       "</div>"
      ],
      "text/plain": [
       "               0\n",
       "0     285.600000\n",
       "1     285.600000\n",
       "2     136.228571\n",
       "3     245.806667\n",
       "4     331.906667\n",
       "...          ...\n",
       "1982  416.913333\n",
       "1983  131.200000\n",
       "1984  130.200000\n",
       "1985  331.906667\n",
       "1986  130.200000\n",
       "\n",
       "[1987 rows x 1 columns]"
      ]
     },
     "execution_count": 125,
     "metadata": {},
     "output_type": "execute_result"
    }
   ],
   "source": [
    "df"
   ]
  },
  {
   "cell_type": "markdown",
   "id": "4480d625",
   "metadata": {},
   "source": [
    "Saving the predicted values to CSV file"
   ]
  },
  {
   "cell_type": "code",
   "execution_count": 126,
   "id": "4b8eaeea",
   "metadata": {},
   "outputs": [],
   "source": [
    "#Saving the predicted values to CSV file\n",
    "df.to_csv('Doctore_Fee_result.csv', index=False)"
   ]
  }
 ],
 "metadata": {
  "kernelspec": {
   "display_name": "Python 3",
   "language": "python",
   "name": "python3"
  },
  "language_info": {
   "codemirror_mode": {
    "name": "ipython",
    "version": 3
   },
   "file_extension": ".py",
   "mimetype": "text/x-python",
   "name": "python",
   "nbconvert_exporter": "python",
   "pygments_lexer": "ipython3",
   "version": "3.6.2"
  }
 },
 "nbformat": 4,
 "nbformat_minor": 5
}
