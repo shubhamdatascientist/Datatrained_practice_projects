{
 "cells": [
  {
   "cell_type": "code",
   "execution_count": 3,
   "id": "51bfa0cc",
   "metadata": {},
   "outputs": [],
   "source": [
    "import numpy as np\n",
    "import pandas as pd\n",
    "import seaborn as sns\n",
    "import matplotlib.pyplot as plt\n",
    "import warnings\n",
    "warnings.filterwarnings(\"ignore\")"
   ]
  },
  {
   "cell_type": "markdown",
   "id": "bbde93c2",
   "metadata": {},
   "source": [
    "# Importing Dataset - Data Collection"
   ]
  },
  {
   "cell_type": "code",
   "execution_count": 4,
   "id": "46151d08",
   "metadata": {},
   "outputs": [
    {
     "data": {
      "text/html": [
       "<div>\n",
       "<style scoped>\n",
       "    .dataframe tbody tr th:only-of-type {\n",
       "        vertical-align: middle;\n",
       "    }\n",
       "\n",
       "    .dataframe tbody tr th {\n",
       "        vertical-align: top;\n",
       "    }\n",
       "\n",
       "    .dataframe thead th {\n",
       "        text-align: right;\n",
       "    }\n",
       "</style>\n",
       "<table border=\"1\" class=\"dataframe\">\n",
       "  <thead>\n",
       "    <tr style=\"text-align: right;\">\n",
       "      <th></th>\n",
       "      <th>Sex</th>\n",
       "      <th>Length</th>\n",
       "      <th>Diameter</th>\n",
       "      <th>Height</th>\n",
       "      <th>Whole weight</th>\n",
       "      <th>Shucked weight</th>\n",
       "      <th>Viscera weight</th>\n",
       "      <th>Shell weight</th>\n",
       "      <th>Rings</th>\n",
       "    </tr>\n",
       "  </thead>\n",
       "  <tbody>\n",
       "    <tr>\n",
       "      <th>0</th>\n",
       "      <td>M</td>\n",
       "      <td>0.455</td>\n",
       "      <td>0.365</td>\n",
       "      <td>0.095</td>\n",
       "      <td>0.5140</td>\n",
       "      <td>0.2245</td>\n",
       "      <td>0.1010</td>\n",
       "      <td>0.150</td>\n",
       "      <td>15</td>\n",
       "    </tr>\n",
       "    <tr>\n",
       "      <th>1</th>\n",
       "      <td>M</td>\n",
       "      <td>0.350</td>\n",
       "      <td>0.265</td>\n",
       "      <td>0.090</td>\n",
       "      <td>0.2255</td>\n",
       "      <td>0.0995</td>\n",
       "      <td>0.0485</td>\n",
       "      <td>0.070</td>\n",
       "      <td>7</td>\n",
       "    </tr>\n",
       "    <tr>\n",
       "      <th>2</th>\n",
       "      <td>F</td>\n",
       "      <td>0.530</td>\n",
       "      <td>0.420</td>\n",
       "      <td>0.135</td>\n",
       "      <td>0.6770</td>\n",
       "      <td>0.2565</td>\n",
       "      <td>0.1415</td>\n",
       "      <td>0.210</td>\n",
       "      <td>9</td>\n",
       "    </tr>\n",
       "    <tr>\n",
       "      <th>3</th>\n",
       "      <td>M</td>\n",
       "      <td>0.440</td>\n",
       "      <td>0.365</td>\n",
       "      <td>0.125</td>\n",
       "      <td>0.5160</td>\n",
       "      <td>0.2155</td>\n",
       "      <td>0.1140</td>\n",
       "      <td>0.155</td>\n",
       "      <td>10</td>\n",
       "    </tr>\n",
       "    <tr>\n",
       "      <th>4</th>\n",
       "      <td>I</td>\n",
       "      <td>0.330</td>\n",
       "      <td>0.255</td>\n",
       "      <td>0.080</td>\n",
       "      <td>0.2050</td>\n",
       "      <td>0.0895</td>\n",
       "      <td>0.0395</td>\n",
       "      <td>0.055</td>\n",
       "      <td>7</td>\n",
       "    </tr>\n",
       "  </tbody>\n",
       "</table>\n",
       "</div>"
      ],
      "text/plain": [
       "  Sex  Length  Diameter  Height  Whole weight  Shucked weight  Viscera weight  \\\n",
       "0   M   0.455     0.365   0.095        0.5140          0.2245          0.1010   \n",
       "1   M   0.350     0.265   0.090        0.2255          0.0995          0.0485   \n",
       "2   F   0.530     0.420   0.135        0.6770          0.2565          0.1415   \n",
       "3   M   0.440     0.365   0.125        0.5160          0.2155          0.1140   \n",
       "4   I   0.330     0.255   0.080        0.2050          0.0895          0.0395   \n",
       "\n",
       "   Shell weight  Rings  \n",
       "0         0.150     15  \n",
       "1         0.070      7  \n",
       "2         0.210      9  \n",
       "3         0.155     10  \n",
       "4         0.055      7  "
      ]
     },
     "execution_count": 4,
     "metadata": {},
     "output_type": "execute_result"
    }
   ],
   "source": [
    "df1=pd.read_csv(\"abalone.csv\")\n",
    "df1.head()"
   ]
  },
  {
   "cell_type": "code",
   "execution_count": 5,
   "id": "eaf29212",
   "metadata": {},
   "outputs": [
    {
     "data": {
      "text/plain": [
       "(4177, 9)"
      ]
     },
     "execution_count": 5,
     "metadata": {},
     "output_type": "execute_result"
    }
   ],
   "source": [
    "#Checking the shape of the dataset\n",
    "df1.shape"
   ]
  },
  {
   "cell_type": "markdown",
   "id": "fd1ce486",
   "metadata": {},
   "source": [
    "There are 4177 rows and 9 columns."
   ]
  },
  {
   "cell_type": "code",
   "execution_count": 6,
   "id": "7f7c71c6",
   "metadata": {},
   "outputs": [
    {
     "name": "stdout",
     "output_type": "stream",
     "text": [
      "<class 'pandas.core.frame.DataFrame'>\n",
      "RangeIndex: 4177 entries, 0 to 4176\n",
      "Data columns (total 9 columns):\n",
      " #   Column          Non-Null Count  Dtype  \n",
      "---  ------          --------------  -----  \n",
      " 0   Sex             4177 non-null   object \n",
      " 1   Length          4177 non-null   float64\n",
      " 2   Diameter        4177 non-null   float64\n",
      " 3   Height          4177 non-null   float64\n",
      " 4   Whole weight    4177 non-null   float64\n",
      " 5   Shucked weight  4177 non-null   float64\n",
      " 6   Viscera weight  4177 non-null   float64\n",
      " 7   Shell weight    4177 non-null   float64\n",
      " 8   Rings           4177 non-null   int64  \n",
      "dtypes: float64(7), int64(1), object(1)\n",
      "memory usage: 293.8+ KB\n"
     ]
    }
   ],
   "source": [
    "#Checking the information of the dataset\n",
    "df1.info()"
   ]
  },
  {
   "cell_type": "code",
   "execution_count": 7,
   "id": "b0fffdce",
   "metadata": {},
   "outputs": [
    {
     "data": {
      "text/plain": [
       "Sex               0\n",
       "Length            0\n",
       "Diameter          0\n",
       "Height            0\n",
       "Whole weight      0\n",
       "Shucked weight    0\n",
       "Viscera weight    0\n",
       "Shell weight      0\n",
       "Rings             0\n",
       "dtype: int64"
      ]
     },
     "execution_count": 7,
     "metadata": {},
     "output_type": "execute_result"
    }
   ],
   "source": [
    "#Checking the null present in the dataset\n",
    "df1.isnull().sum()"
   ]
  },
  {
   "cell_type": "markdown",
   "id": "0da68415",
   "metadata": {},
   "source": [
    "There are no null values present in the datasset."
   ]
  },
  {
   "cell_type": "code",
   "execution_count": 8,
   "id": "2d7d78c7",
   "metadata": {},
   "outputs": [
    {
     "data": {
      "text/html": [
       "<div>\n",
       "<style scoped>\n",
       "    .dataframe tbody tr th:only-of-type {\n",
       "        vertical-align: middle;\n",
       "    }\n",
       "\n",
       "    .dataframe tbody tr th {\n",
       "        vertical-align: top;\n",
       "    }\n",
       "\n",
       "    .dataframe thead th {\n",
       "        text-align: right;\n",
       "    }\n",
       "</style>\n",
       "<table border=\"1\" class=\"dataframe\">\n",
       "  <thead>\n",
       "    <tr style=\"text-align: right;\">\n",
       "      <th></th>\n",
       "      <th>Length</th>\n",
       "      <th>Diameter</th>\n",
       "      <th>Height</th>\n",
       "      <th>Whole weight</th>\n",
       "      <th>Shucked weight</th>\n",
       "      <th>Viscera weight</th>\n",
       "      <th>Shell weight</th>\n",
       "      <th>Rings</th>\n",
       "    </tr>\n",
       "  </thead>\n",
       "  <tbody>\n",
       "    <tr>\n",
       "      <th>count</th>\n",
       "      <td>4177.000000</td>\n",
       "      <td>4177.000000</td>\n",
       "      <td>4177.000000</td>\n",
       "      <td>4177.000000</td>\n",
       "      <td>4177.000000</td>\n",
       "      <td>4177.000000</td>\n",
       "      <td>4177.000000</td>\n",
       "      <td>4177.000000</td>\n",
       "    </tr>\n",
       "    <tr>\n",
       "      <th>mean</th>\n",
       "      <td>0.523992</td>\n",
       "      <td>0.407881</td>\n",
       "      <td>0.139516</td>\n",
       "      <td>0.828742</td>\n",
       "      <td>0.359367</td>\n",
       "      <td>0.180594</td>\n",
       "      <td>0.238831</td>\n",
       "      <td>9.933684</td>\n",
       "    </tr>\n",
       "    <tr>\n",
       "      <th>std</th>\n",
       "      <td>0.120093</td>\n",
       "      <td>0.099240</td>\n",
       "      <td>0.041827</td>\n",
       "      <td>0.490389</td>\n",
       "      <td>0.221963</td>\n",
       "      <td>0.109614</td>\n",
       "      <td>0.139203</td>\n",
       "      <td>3.224169</td>\n",
       "    </tr>\n",
       "    <tr>\n",
       "      <th>min</th>\n",
       "      <td>0.075000</td>\n",
       "      <td>0.055000</td>\n",
       "      <td>0.000000</td>\n",
       "      <td>0.002000</td>\n",
       "      <td>0.001000</td>\n",
       "      <td>0.000500</td>\n",
       "      <td>0.001500</td>\n",
       "      <td>1.000000</td>\n",
       "    </tr>\n",
       "    <tr>\n",
       "      <th>25%</th>\n",
       "      <td>0.450000</td>\n",
       "      <td>0.350000</td>\n",
       "      <td>0.115000</td>\n",
       "      <td>0.441500</td>\n",
       "      <td>0.186000</td>\n",
       "      <td>0.093500</td>\n",
       "      <td>0.130000</td>\n",
       "      <td>8.000000</td>\n",
       "    </tr>\n",
       "    <tr>\n",
       "      <th>50%</th>\n",
       "      <td>0.545000</td>\n",
       "      <td>0.425000</td>\n",
       "      <td>0.140000</td>\n",
       "      <td>0.799500</td>\n",
       "      <td>0.336000</td>\n",
       "      <td>0.171000</td>\n",
       "      <td>0.234000</td>\n",
       "      <td>9.000000</td>\n",
       "    </tr>\n",
       "    <tr>\n",
       "      <th>75%</th>\n",
       "      <td>0.615000</td>\n",
       "      <td>0.480000</td>\n",
       "      <td>0.165000</td>\n",
       "      <td>1.153000</td>\n",
       "      <td>0.502000</td>\n",
       "      <td>0.253000</td>\n",
       "      <td>0.329000</td>\n",
       "      <td>11.000000</td>\n",
       "    </tr>\n",
       "    <tr>\n",
       "      <th>max</th>\n",
       "      <td>0.815000</td>\n",
       "      <td>0.650000</td>\n",
       "      <td>1.130000</td>\n",
       "      <td>2.825500</td>\n",
       "      <td>1.488000</td>\n",
       "      <td>0.760000</td>\n",
       "      <td>1.005000</td>\n",
       "      <td>29.000000</td>\n",
       "    </tr>\n",
       "  </tbody>\n",
       "</table>\n",
       "</div>"
      ],
      "text/plain": [
       "            Length     Diameter       Height  Whole weight  Shucked weight  \\\n",
       "count  4177.000000  4177.000000  4177.000000   4177.000000     4177.000000   \n",
       "mean      0.523992     0.407881     0.139516      0.828742        0.359367   \n",
       "std       0.120093     0.099240     0.041827      0.490389        0.221963   \n",
       "min       0.075000     0.055000     0.000000      0.002000        0.001000   \n",
       "25%       0.450000     0.350000     0.115000      0.441500        0.186000   \n",
       "50%       0.545000     0.425000     0.140000      0.799500        0.336000   \n",
       "75%       0.615000     0.480000     0.165000      1.153000        0.502000   \n",
       "max       0.815000     0.650000     1.130000      2.825500        1.488000   \n",
       "\n",
       "       Viscera weight  Shell weight        Rings  \n",
       "count     4177.000000   4177.000000  4177.000000  \n",
       "mean         0.180594      0.238831     9.933684  \n",
       "std          0.109614      0.139203     3.224169  \n",
       "min          0.000500      0.001500     1.000000  \n",
       "25%          0.093500      0.130000     8.000000  \n",
       "50%          0.171000      0.234000     9.000000  \n",
       "75%          0.253000      0.329000    11.000000  \n",
       "max          0.760000      1.005000    29.000000  "
      ]
     },
     "execution_count": 8,
     "metadata": {},
     "output_type": "execute_result"
    }
   ],
   "source": [
    "df1.describe()"
   ]
  },
  {
   "cell_type": "code",
   "execution_count": 9,
   "id": "fb2fc492",
   "metadata": {},
   "outputs": [
    {
     "data": {
      "text/html": [
       "<div>\n",
       "<style scoped>\n",
       "    .dataframe tbody tr th:only-of-type {\n",
       "        vertical-align: middle;\n",
       "    }\n",
       "\n",
       "    .dataframe tbody tr th {\n",
       "        vertical-align: top;\n",
       "    }\n",
       "\n",
       "    .dataframe thead th {\n",
       "        text-align: right;\n",
       "    }\n",
       "</style>\n",
       "<table border=\"1\" class=\"dataframe\">\n",
       "  <thead>\n",
       "    <tr style=\"text-align: right;\">\n",
       "      <th></th>\n",
       "      <th>Length</th>\n",
       "      <th>Diameter</th>\n",
       "      <th>Height</th>\n",
       "      <th>Whole weight</th>\n",
       "      <th>Shucked weight</th>\n",
       "      <th>Viscera weight</th>\n",
       "      <th>Shell weight</th>\n",
       "      <th>Rings</th>\n",
       "    </tr>\n",
       "  </thead>\n",
       "  <tbody>\n",
       "    <tr>\n",
       "      <th>Length</th>\n",
       "      <td>1.000000</td>\n",
       "      <td>0.986812</td>\n",
       "      <td>0.827554</td>\n",
       "      <td>0.925261</td>\n",
       "      <td>0.897914</td>\n",
       "      <td>0.903018</td>\n",
       "      <td>0.897706</td>\n",
       "      <td>0.556720</td>\n",
       "    </tr>\n",
       "    <tr>\n",
       "      <th>Diameter</th>\n",
       "      <td>0.986812</td>\n",
       "      <td>1.000000</td>\n",
       "      <td>0.833684</td>\n",
       "      <td>0.925452</td>\n",
       "      <td>0.893162</td>\n",
       "      <td>0.899724</td>\n",
       "      <td>0.905330</td>\n",
       "      <td>0.574660</td>\n",
       "    </tr>\n",
       "    <tr>\n",
       "      <th>Height</th>\n",
       "      <td>0.827554</td>\n",
       "      <td>0.833684</td>\n",
       "      <td>1.000000</td>\n",
       "      <td>0.819221</td>\n",
       "      <td>0.774972</td>\n",
       "      <td>0.798319</td>\n",
       "      <td>0.817338</td>\n",
       "      <td>0.557467</td>\n",
       "    </tr>\n",
       "    <tr>\n",
       "      <th>Whole weight</th>\n",
       "      <td>0.925261</td>\n",
       "      <td>0.925452</td>\n",
       "      <td>0.819221</td>\n",
       "      <td>1.000000</td>\n",
       "      <td>0.969405</td>\n",
       "      <td>0.966375</td>\n",
       "      <td>0.955355</td>\n",
       "      <td>0.540390</td>\n",
       "    </tr>\n",
       "    <tr>\n",
       "      <th>Shucked weight</th>\n",
       "      <td>0.897914</td>\n",
       "      <td>0.893162</td>\n",
       "      <td>0.774972</td>\n",
       "      <td>0.969405</td>\n",
       "      <td>1.000000</td>\n",
       "      <td>0.931961</td>\n",
       "      <td>0.882617</td>\n",
       "      <td>0.420884</td>\n",
       "    </tr>\n",
       "    <tr>\n",
       "      <th>Viscera weight</th>\n",
       "      <td>0.903018</td>\n",
       "      <td>0.899724</td>\n",
       "      <td>0.798319</td>\n",
       "      <td>0.966375</td>\n",
       "      <td>0.931961</td>\n",
       "      <td>1.000000</td>\n",
       "      <td>0.907656</td>\n",
       "      <td>0.503819</td>\n",
       "    </tr>\n",
       "    <tr>\n",
       "      <th>Shell weight</th>\n",
       "      <td>0.897706</td>\n",
       "      <td>0.905330</td>\n",
       "      <td>0.817338</td>\n",
       "      <td>0.955355</td>\n",
       "      <td>0.882617</td>\n",
       "      <td>0.907656</td>\n",
       "      <td>1.000000</td>\n",
       "      <td>0.627574</td>\n",
       "    </tr>\n",
       "    <tr>\n",
       "      <th>Rings</th>\n",
       "      <td>0.556720</td>\n",
       "      <td>0.574660</td>\n",
       "      <td>0.557467</td>\n",
       "      <td>0.540390</td>\n",
       "      <td>0.420884</td>\n",
       "      <td>0.503819</td>\n",
       "      <td>0.627574</td>\n",
       "      <td>1.000000</td>\n",
       "    </tr>\n",
       "  </tbody>\n",
       "</table>\n",
       "</div>"
      ],
      "text/plain": [
       "                  Length  Diameter    Height  Whole weight  Shucked weight  \\\n",
       "Length          1.000000  0.986812  0.827554      0.925261        0.897914   \n",
       "Diameter        0.986812  1.000000  0.833684      0.925452        0.893162   \n",
       "Height          0.827554  0.833684  1.000000      0.819221        0.774972   \n",
       "Whole weight    0.925261  0.925452  0.819221      1.000000        0.969405   \n",
       "Shucked weight  0.897914  0.893162  0.774972      0.969405        1.000000   \n",
       "Viscera weight  0.903018  0.899724  0.798319      0.966375        0.931961   \n",
       "Shell weight    0.897706  0.905330  0.817338      0.955355        0.882617   \n",
       "Rings           0.556720  0.574660  0.557467      0.540390        0.420884   \n",
       "\n",
       "                Viscera weight  Shell weight     Rings  \n",
       "Length                0.903018      0.897706  0.556720  \n",
       "Diameter              0.899724      0.905330  0.574660  \n",
       "Height                0.798319      0.817338  0.557467  \n",
       "Whole weight          0.966375      0.955355  0.540390  \n",
       "Shucked weight        0.931961      0.882617  0.420884  \n",
       "Viscera weight        1.000000      0.907656  0.503819  \n",
       "Shell weight          0.907656      1.000000  0.627574  \n",
       "Rings                 0.503819      0.627574  1.000000  "
      ]
     },
     "execution_count": 9,
     "metadata": {},
     "output_type": "execute_result"
    }
   ],
   "source": [
    "#Checking the correlation of the dataset\n",
    "df1.corr()"
   ]
  },
  {
   "cell_type": "code",
   "execution_count": 10,
   "id": "782d751e",
   "metadata": {},
   "outputs": [
    {
     "data": {
      "text/plain": [
       "<AxesSubplot:>"
      ]
     },
     "execution_count": 10,
     "metadata": {},
     "output_type": "execute_result"
    },
    {
     "data": {
      "image/png": "[encoded data removed]",
      "text/plain": [
       "<Figure size 1296x504 with 2 Axes>"
      ]
     },
     "metadata": {
      "needs_background": "light"
     },
     "output_type": "display_data"
    }
   ],
   "source": [
    "#Correlation via Heatmap\n",
    "plt.figure(figsize=[18,7])\n",
    "sns.heatmap(df1.corr(),annot=True,cmap=\"YlGnBu\")"
   ]
  },
  {
   "cell_type": "markdown",
   "id": "b458947c",
   "metadata": {},
   "source": [
    "We can observe from heatmap that all the columns of the dataset is directly correlated to the Rings.\n",
    "There are no such columns that we can say is less correlating as compare to other columns.\n",
    "Hence, dropping or not considering any one column can lead to a problem of predicting values in the Machine learning model."
   ]
  },
  {
   "cell_type": "code",
   "execution_count": 11,
   "id": "129e2fda",
   "metadata": {},
   "outputs": [
    {
     "data": {
      "text/plain": [
       "Index(['Sex', 'Length', 'Diameter', 'Height', 'Whole weight', 'Shucked weight',\n",
       "       'Viscera weight', 'Shell weight', 'Rings'],\n",
       "      dtype='object')"
      ]
     },
     "execution_count": 11,
     "metadata": {},
     "output_type": "execute_result"
    }
   ],
   "source": [
    "#Checking the names of columns\n",
    "df1.columns"
   ]
  },
  {
   "cell_type": "code",
   "execution_count": 12,
   "id": "8d87d351",
   "metadata": {},
   "outputs": [
    {
     "data": {
      "image/png": "[encoded data removed]",
      "text/plain": [
       "<Figure size 720x504 with 1 Axes>"
      ]
     },
     "metadata": {
      "needs_background": "light"
     },
     "output_type": "display_data"
    }
   ],
   "source": [
    "#Checking the relation between Lenght and rings column with scatter plot.\n",
    "plt.figure(figsize=(10,7))\n",
    "plt.scatter(df1[\"Length\"],df1[\"Rings\"])\n",
    "plt.xlabel(\"Length\")\n",
    "plt.ylabel(\"Number of rings\")\n",
    "plt.show()"
   ]
  },
  {
   "cell_type": "markdown",
   "id": "3a2806bb",
   "metadata": {},
   "source": [
    "We can observe that as soon as the length of the Abalone gets increased, the number of rings also started to increase.\n",
    "Hence we can say that there is a upward pattern."
   ]
  },
  {
   "cell_type": "code",
   "execution_count": 13,
   "id": "47c53f31",
   "metadata": {},
   "outputs": [
    {
     "data": {
      "image/png": "[encoded data removed]",
      "text/plain": [
       "<Figure size 720x504 with 1 Axes>"
      ]
     },
     "metadata": {
      "needs_background": "light"
     },
     "output_type": "display_data"
    }
   ],
   "source": [
    "#Checking the relation between Diameter and rings column with scatter plot.\n",
    "plt.figure(figsize=(10,7))\n",
    "plt.scatter(df1[\"Diameter\"],df1[\"Rings\"])\n",
    "plt.xlabel(\"Diameter\")\n",
    "plt.ylabel(\"Number of rings\")\n",
    "plt.show()"
   ]
  },
  {
   "cell_type": "markdown",
   "id": "841dcf3f",
   "metadata": {},
   "source": [
    "We can observe that as soon as the Diameter of the Abalone gets increased, the number of rings also started to increase. \n",
    "Hence we can say that there is a upward pattern."
   ]
  },
  {
   "cell_type": "code",
   "execution_count": 14,
   "id": "22341c34",
   "metadata": {},
   "outputs": [
    {
     "data": {
      "image/png": "[encoded data removed]",
      "text/plain": [
       "<Figure size 720x504 with 1 Axes>"
      ]
     },
     "metadata": {
      "needs_background": "light"
     },
     "output_type": "display_data"
    }
   ],
   "source": [
    "#Checking the relation between Height and rings column with scatter plot.\n",
    "plt.figure(figsize=(10,7))\n",
    "plt.scatter(df1[\"Height\"],df1[\"Rings\"])\n",
    "plt.xlabel(\"Height\")\n",
    "plt.ylabel(\"Number of rings\")\n",
    "plt.show()"
   ]
  },
  {
   "cell_type": "markdown",
   "id": "84c409e2",
   "metadata": {},
   "source": [
    "We can observe that the number of rings remains same even after the height of the abalone is increasing continously."
   ]
  },
  {
   "cell_type": "code",
   "execution_count": 15,
   "id": "368b7c87",
   "metadata": {},
   "outputs": [
    {
     "data": {
      "image/png": "[encoded data removed]",
      "text/plain": [
       "<Figure size 720x504 with 1 Axes>"
      ]
     },
     "metadata": {
      "needs_background": "light"
     },
     "output_type": "display_data"
    }
   ],
   "source": [
    "#Checking the relation between Height and rings column with scatter plot.\n",
    "plt.figure(figsize=(10,7))\n",
    "plt.scatter(df1[\"Whole weight\"],df1[\"Rings\"])\n",
    "plt.xlabel(\"Whole weight\")\n",
    "plt.ylabel(\"Number of rings\")\n",
    "plt.show()"
   ]
  },
  {
   "cell_type": "markdown",
   "id": "21551292",
   "metadata": {},
   "source": [
    "We can observe that as soon as the Whole weight of the Abalone gets increased, the number of rings of some of the Ablone gets also started to increased.\n",
    "We can say that some of them are increasing while some of them are dispersing at one place only."
   ]
  },
  {
   "cell_type": "code",
   "execution_count": 16,
   "id": "b2b3cc0f",
   "metadata": {},
   "outputs": [
    {
     "data": {
      "text/plain": [
       "array(['M', 'F', 'I'], dtype=object)"
      ]
     },
     "execution_count": 16,
     "metadata": {},
     "output_type": "execute_result"
    }
   ],
   "source": [
    "#Chking the unique values in Sex column\n",
    "df1[\"Sex\"].unique()"
   ]
  },
  {
   "cell_type": "code",
   "execution_count": 17,
   "id": "8c39e5ef",
   "metadata": {},
   "outputs": [
    {
     "data": {
      "text/plain": [
       "<AxesSubplot:xlabel='Sex', ylabel='count'>"
      ]
     },
     "execution_count": 17,
     "metadata": {},
     "output_type": "execute_result"
    },
    {
     "data": {
      "image/png": "[encoded data removed]",
      "text/plain": [
       "<Figure size 432x288 with 1 Axes>"
      ]
     },
     "metadata": {
      "needs_background": "light"
     },
     "output_type": "display_data"
    }
   ],
   "source": [
    "#Chking the unique values in Sex column via bar\n",
    "sns.countplot(df1[\"Sex\"])"
   ]
  },
  {
   "cell_type": "markdown",
   "id": "6fbc8667",
   "metadata": {},
   "source": [
    "# Encoding"
   ]
  },
  {
   "cell_type": "code",
   "execution_count": 18,
   "id": "e84e452c",
   "metadata": {},
   "outputs": [],
   "source": [
    "#Encoding the sex column\n",
    "from sklearn.preprocessing import LabelEncoder\n",
    "le=LabelEncoder()\n",
    "df1[\"Sex\"]=le.fit_transform(df1[\"Sex\"].values.reshape(-1,1))"
   ]
  },
  {
   "cell_type": "code",
   "execution_count": 19,
   "id": "98f338e1",
   "metadata": {},
   "outputs": [
    {
     "name": "stdout",
     "output_type": "stream",
     "text": [
      "[2 0 1]\n"
     ]
    },
    {
     "data": {
      "text/plain": [
       "<AxesSubplot:xlabel='Sex', ylabel='count'>"
      ]
     },
     "execution_count": 19,
     "metadata": {},
     "output_type": "execute_result"
    },
    {
     "data": {
      "image/png": "[encoded data removed]",
      "text/plain": [
       "<Figure size 432x288 with 1 Axes>"
      ]
     },
     "metadata": {
      "needs_background": "light"
     },
     "output_type": "display_data"
    }
   ],
   "source": [
    "print(df1[\"Sex\"].unique())\n",
    "sns.countplot(df1[\"Sex\"])"
   ]
  },
  {
   "cell_type": "markdown",
   "id": "1692066e",
   "metadata": {},
   "source": [
    "We got F=0, M=2 and I=1."
   ]
  },
  {
   "cell_type": "code",
   "execution_count": 20,
   "id": "3ebb4067",
   "metadata": {},
   "outputs": [
    {
     "data": {
      "text/plain": [
       "Sex              -0.098155\n",
       "Length           -0.639873\n",
       "Diameter         -0.609198\n",
       "Height            3.128817\n",
       "Whole weight      0.530959\n",
       "Shucked weight    0.719098\n",
       "Viscera weight    0.591852\n",
       "Shell weight      0.620927\n",
       "Rings             1.114102\n",
       "dtype: float64"
      ]
     },
     "execution_count": 20,
     "metadata": {},
     "output_type": "execute_result"
    }
   ],
   "source": [
    "#Checking the Skewness in the dataset\n",
    "df1.skew()"
   ]
  },
  {
   "cell_type": "code",
   "execution_count": 21,
   "id": "8c483bfa",
   "metadata": {},
   "outputs": [
    {
     "data": {
      "image/png": "[encoded data removed]",
      "text/plain": [
       "<Figure size 1152x864 with 36 Axes>"
      ]
     },
     "metadata": {
      "needs_background": "light"
     },
     "output_type": "display_data"
    }
   ],
   "source": [
    "df1.plot(kind=\"density\",subplots=True,layout=(6,6),sharex=False,legend=False,fontsize=1,figsize=[16,12])\n",
    "plt.show()"
   ]
  },
  {
   "cell_type": "markdown",
   "id": "809953ac",
   "metadata": {},
   "source": [
    "We can observe that skewness is present in most of the columns in the dataset.\n",
    "But we will consider only \"Height\" and \"Shocked weight\" column as they have high skewness while other columns skewness is in the moderate range, and can be consider.\n",
    "So we remove the skewness of just \"Height\" and \"Shocked weight\" column."
   ]
  },
  {
   "cell_type": "code",
   "execution_count": 22,
   "id": "56423711",
   "metadata": {},
   "outputs": [],
   "source": [
    "#Removing the skewness\n",
    "df1[\"Height\"]=np.sqrt(df1[\"Height\"])\n",
    "df1[\"Shucked weight\"]=np.sqrt(df1[\"Shucked weight\"])"
   ]
  },
  {
   "cell_type": "code",
   "execution_count": 23,
   "id": "f7e46b32",
   "metadata": {},
   "outputs": [
    {
     "data": {
      "text/plain": [
       "Sex              -0.098155\n",
       "Length           -0.639873\n",
       "Diameter         -0.609198\n",
       "Height           -0.295641\n",
       "Whole weight      0.530959\n",
       "Shucked weight   -0.141443\n",
       "Viscera weight    0.591852\n",
       "Shell weight      0.620927\n",
       "Rings             1.114102\n",
       "dtype: float64"
      ]
     },
     "execution_count": 23,
     "metadata": {},
     "output_type": "execute_result"
    }
   ],
   "source": [
    "df1.skew()"
   ]
  },
  {
   "cell_type": "markdown",
   "id": "d6857b0f",
   "metadata": {},
   "source": [
    "Skewness is removed."
   ]
  },
  {
   "cell_type": "code",
   "execution_count": 24,
   "id": "4cd26ac1",
   "metadata": {},
   "outputs": [
    {
     "data": {
      "image/png": "[encoded data removed]",
      "text/plain": [
       "<Figure size 1440x720 with 1 Axes>"
      ]
     },
     "metadata": {
      "needs_background": "light"
     },
     "output_type": "display_data"
    }
   ],
   "source": [
    "#Cheking the outliers in the dataset\n",
    "df1.boxplot(figsize=[20,10])\n",
    "plt.subplots_adjust()\n",
    "plt.show()"
   ]
  },
  {
   "cell_type": "markdown",
   "id": "ca6cb06b",
   "metadata": {},
   "source": [
    "We can observe that there are outliers presnet in the dataset. \n",
    "Hence, we will remove the outliers in the next step."
   ]
  },
  {
   "cell_type": "markdown",
   "id": "f2da4c81",
   "metadata": {},
   "source": [
    "#### Removing the Outliers"
   ]
  },
  {
   "cell_type": "code",
   "execution_count": 25,
   "id": "09ee1ffb",
   "metadata": {},
   "outputs": [
    {
     "data": {
      "text/plain": [
       "(array([   6,   72,   81,   83,  129,  163,  164,  165,  165,  166,  166,\n",
       "         167,  168,  170,  181,  232,  236,  236,  236,  237,  237,  237,\n",
       "         238,  238,  238,  239,  239,  270,  275,  277,  278,  294,  306,\n",
       "         310,  313,  314,  334,  351,  355,  358,  358,  362,  375,  416,\n",
       "         417,  428,  431,  433,  469,  478,  480,  501,  526,  526,  530,\n",
       "         572,  628,  673,  674,  675,  678,  694,  694,  696,  696,  718,\n",
       "         719,  719,  719,  720,  720,  720,  744,  754,  756,  811,  891,\n",
       "         891, 1048, 1051, 1052, 1174, 1204, 1206, 1207, 1207, 1207, 1209,\n",
       "        1209, 1257, 1417, 1422, 1427, 1427, 1428, 1429, 1429, 1429, 1528,\n",
       "        1757, 1759, 1762, 1762, 1763, 1763, 1763, 1986, 1987, 1987, 1987,\n",
       "        2051, 2090, 2108, 2108, 2114, 2114, 2114, 2157, 2161, 2169, 2171,\n",
       "        2172, 2176, 2180, 2199, 2201, 2208, 2209, 2274, 2275, 2305, 2334,\n",
       "        2334, 2334, 2335, 2344, 2358, 2368, 2381, 2381, 2436, 2459, 2471,\n",
       "        2623, 2624, 2624, 2709, 2710, 2711, 2810, 2811, 2811, 2863, 2863,\n",
       "        3008, 3140, 3148, 3149, 3149, 3151, 3151, 3188, 3190, 3193, 3280,\n",
       "        3359, 3427, 3427, 3599, 3628, 3715, 3715, 3715, 3800, 3837, 3837,\n",
       "        3899, 3899, 3899, 3902, 3902, 3924, 3930, 3944, 3996, 4145, 4148],\n",
       "       dtype=int64),\n",
       " array([8, 8, 7, 8, 7, 7, 7, 4, 7, 7, 8, 8, 7, 6, 8, 8, 1, 2, 3, 1, 2, 3,\n",
       "        1, 2, 3, 1, 3, 8, 8, 7, 8, 8, 3, 8, 8, 8, 7, 8, 8, 4, 7, 8, 8, 8,\n",
       "        8, 8, 8, 8, 8, 8, 8, 8, 1, 2, 8, 8, 8, 8, 8, 8, 8, 2, 3, 1, 2, 3,\n",
       "        1, 2, 3, 1, 2, 3, 8, 8, 8, 8, 4, 7, 6, 4, 4, 3, 6, 6, 4, 6, 7, 4,\n",
       "        5, 3, 3, 6, 4, 6, 7, 1, 2, 3, 5, 6, 6, 4, 6, 4, 5, 6, 1, 1, 2, 3,\n",
       "        3, 7, 7, 8, 1, 2, 3, 7, 7, 3, 3, 3, 8, 8, 8, 8, 7, 8, 7, 8, 8, 4,\n",
       "        6, 8, 8, 8, 8, 7, 1, 3, 8, 8, 8, 4, 4, 6, 6, 6, 3, 6, 4, 6, 4, 6,\n",
       "        7, 8, 7, 7, 8, 7, 8, 7, 3, 8, 8, 8, 4, 6, 4, 6, 4, 6, 7, 4, 2, 3,\n",
       "        1, 2, 3, 1, 3, 8, 8, 8, 3, 7, 6], dtype=int64))"
      ]
     },
     "execution_count": 25,
     "metadata": {},
     "output_type": "execute_result"
    }
   ],
   "source": [
    "#importing the zscore\n",
    "from scipy.stats import zscore\n",
    "import numpy as np\n",
    "z=np.abs(zscore(df1))\n",
    "threshole=3\n",
    "np.where(z>3)"
   ]
  },
  {
   "cell_type": "code",
   "execution_count": 26,
   "id": "3a78ae72",
   "metadata": {},
   "outputs": [],
   "source": [
    "df1_new=df1[(z<3).all(axis=1)]"
   ]
  },
  {
   "cell_type": "code",
   "execution_count": 27,
   "id": "23382efb",
   "metadata": {},
   "outputs": [
    {
     "data": {
      "text/plain": [
       "(4037, 9)"
      ]
     },
     "execution_count": 27,
     "metadata": {},
     "output_type": "execute_result"
    }
   ],
   "source": [
    "#Checking the shape of the column in the dataset after removing the outliers\n",
    "df1_new.shape"
   ]
  },
  {
   "cell_type": "markdown",
   "id": "b01e49f7",
   "metadata": {},
   "source": [
    "We got 4037 rows and 9 columns"
   ]
  },
  {
   "cell_type": "code",
   "execution_count": 28,
   "id": "97cd9ce6",
   "metadata": {},
   "outputs": [
    {
     "data": {
      "text/plain": [
       "3.3516878142207327"
      ]
     },
     "execution_count": 28,
     "metadata": {},
     "output_type": "execute_result"
    }
   ],
   "source": [
    "#Checking the percentage of data loss after removing the outliers\n",
    "data_loss=((4177-4037)/4177)*100\n",
    "data_loss"
   ]
  },
  {
   "cell_type": "markdown",
   "id": "e41b042f",
   "metadata": {},
   "source": [
    "### Splitting the Data into X and Y"
   ]
  },
  {
   "cell_type": "code",
   "execution_count": 29,
   "id": "4fc4c574",
   "metadata": {},
   "outputs": [],
   "source": [
    "x=df1_new.drop(\"Rings\",axis=1)\n",
    "y=df1_new[\"Rings\"]"
   ]
  },
  {
   "cell_type": "code",
   "execution_count": 30,
   "id": "da7086fd",
   "metadata": {},
   "outputs": [
    {
     "name": "stdout",
     "output_type": "stream",
     "text": [
      "Shape of X :  (4037, 8)\n",
      "Shape of Y :  (4037,)\n"
     ]
    }
   ],
   "source": [
    "#Checking the shape of x and y \n",
    "print(\"Shape of X : \",x.shape)\n",
    "print(\"Shape of Y : \",y.shape)"
   ]
  },
  {
   "cell_type": "code",
   "execution_count": 31,
   "id": "b55e0103",
   "metadata": {},
   "outputs": [
    {
     "data": {
      "text/html": [
       "<div>\n",
       "<style scoped>\n",
       "    .dataframe tbody tr th:only-of-type {\n",
       "        vertical-align: middle;\n",
       "    }\n",
       "\n",
       "    .dataframe tbody tr th {\n",
       "        vertical-align: top;\n",
       "    }\n",
       "\n",
       "    .dataframe thead th {\n",
       "        text-align: right;\n",
       "    }\n",
       "</style>\n",
       "<table border=\"1\" class=\"dataframe\">\n",
       "  <thead>\n",
       "    <tr style=\"text-align: right;\">\n",
       "      <th></th>\n",
       "      <th>Sex</th>\n",
       "      <th>Length</th>\n",
       "      <th>Diameter</th>\n",
       "      <th>Height</th>\n",
       "      <th>Whole weight</th>\n",
       "      <th>Shucked weight</th>\n",
       "      <th>Viscera weight</th>\n",
       "      <th>Shell weight</th>\n",
       "    </tr>\n",
       "  </thead>\n",
       "  <tbody>\n",
       "    <tr>\n",
       "      <th>0</th>\n",
       "      <td>2</td>\n",
       "      <td>0.455</td>\n",
       "      <td>0.365</td>\n",
       "      <td>0.308221</td>\n",
       "      <td>0.5140</td>\n",
       "      <td>0.473814</td>\n",
       "      <td>0.1010</td>\n",
       "      <td>0.150</td>\n",
       "    </tr>\n",
       "    <tr>\n",
       "      <th>1</th>\n",
       "      <td>2</td>\n",
       "      <td>0.350</td>\n",
       "      <td>0.265</td>\n",
       "      <td>0.300000</td>\n",
       "      <td>0.2255</td>\n",
       "      <td>0.315436</td>\n",
       "      <td>0.0485</td>\n",
       "      <td>0.070</td>\n",
       "    </tr>\n",
       "    <tr>\n",
       "      <th>2</th>\n",
       "      <td>0</td>\n",
       "      <td>0.530</td>\n",
       "      <td>0.420</td>\n",
       "      <td>0.367423</td>\n",
       "      <td>0.6770</td>\n",
       "      <td>0.506458</td>\n",
       "      <td>0.1415</td>\n",
       "      <td>0.210</td>\n",
       "    </tr>\n",
       "    <tr>\n",
       "      <th>3</th>\n",
       "      <td>2</td>\n",
       "      <td>0.440</td>\n",
       "      <td>0.365</td>\n",
       "      <td>0.353553</td>\n",
       "      <td>0.5160</td>\n",
       "      <td>0.464220</td>\n",
       "      <td>0.1140</td>\n",
       "      <td>0.155</td>\n",
       "    </tr>\n",
       "    <tr>\n",
       "      <th>4</th>\n",
       "      <td>1</td>\n",
       "      <td>0.330</td>\n",
       "      <td>0.255</td>\n",
       "      <td>0.282843</td>\n",
       "      <td>0.2050</td>\n",
       "      <td>0.299166</td>\n",
       "      <td>0.0395</td>\n",
       "      <td>0.055</td>\n",
       "    </tr>\n",
       "  </tbody>\n",
       "</table>\n",
       "</div>"
      ],
      "text/plain": [
       "   Sex  Length  Diameter    Height  Whole weight  Shucked weight  \\\n",
       "0    2   0.455     0.365  0.308221        0.5140        0.473814   \n",
       "1    2   0.350     0.265  0.300000        0.2255        0.315436   \n",
       "2    0   0.530     0.420  0.367423        0.6770        0.506458   \n",
       "3    2   0.440     0.365  0.353553        0.5160        0.464220   \n",
       "4    1   0.330     0.255  0.282843        0.2050        0.299166   \n",
       "\n",
       "   Viscera weight  Shell weight  \n",
       "0          0.1010         0.150  \n",
       "1          0.0485         0.070  \n",
       "2          0.1415         0.210  \n",
       "3          0.1140         0.155  \n",
       "4          0.0395         0.055  "
      ]
     },
     "execution_count": 31,
     "metadata": {},
     "output_type": "execute_result"
    }
   ],
   "source": [
    "x.head()"
   ]
  },
  {
   "cell_type": "markdown",
   "id": "39fdacbb",
   "metadata": {},
   "source": [
    "## Machine Learning model training"
   ]
  },
  {
   "cell_type": "code",
   "execution_count": 32,
   "id": "610d4b99",
   "metadata": {},
   "outputs": [],
   "source": [
    "#importing the necessary library\n",
    "from sklearn.model_selection import train_test_split\n",
    "from sklearn.linear_model import LinearRegression\n",
    "from sklearn.metrics import r2_score"
   ]
  },
  {
   "cell_type": "code",
   "execution_count": 33,
   "id": "0e42ba05",
   "metadata": {},
   "outputs": [
    {
     "name": "stdout",
     "output_type": "stream",
     "text": [
      "Best training accuracy is :0.4756004064224997, at random state : 99\n",
      "Best test accuracy is :0.5029766882528317, at random state : 99\n"
     ]
    }
   ],
   "source": [
    "#Choosing the best random state for our ML Model\n",
    "for i in range(0,100):\n",
    "    x_train,x_test,y_train,y_test=train_test_split(x,y,test_size=0.3,random_state=i)\n",
    "    lr=LinearRegression()\n",
    "    lr.fit(x_train,y_train)\n",
    "    pred_train=lr.predict(x_train)\n",
    "    pred_test=lr.predict(x_test)\n",
    "print(f\"Best training accuracy is :{r2_score(y_train,pred_train)}, at random state : {i}\")\n",
    "print(f\"Best test accuracy is :{r2_score(y_test,pred_test)}, at random state : {i}\")"
   ]
  },
  {
   "cell_type": "code",
   "execution_count": 34,
   "id": "72dbaaf3",
   "metadata": {},
   "outputs": [],
   "source": [
    "x_train,x_test,y_train,y_test=train_test_split(x,y,test_size=0.3,random_state=99)"
   ]
  },
  {
   "cell_type": "markdown",
   "id": "a5ad4c24",
   "metadata": {},
   "source": [
    "### Linear Regression"
   ]
  },
  {
   "cell_type": "code",
   "execution_count": 35,
   "id": "9c02adf4",
   "metadata": {},
   "outputs": [
    {
     "name": "stdout",
     "output_type": "stream",
     "text": [
      "Accuracy score of Linear Regression :  0.5029766882528317\n"
     ]
    }
   ],
   "source": [
    "#taking Linear Regression model\n",
    "lr=LinearRegression()\n",
    "lr.fit(x_train,y_train)\n",
    "pred_test=lr.predict(x_test)\n",
    "print(\"Accuracy score of Linear Regression : \",r2_score(y_test,pred_test))"
   ]
  },
  {
   "cell_type": "code",
   "execution_count": 36,
   "id": "ad8d5c94",
   "metadata": {},
   "outputs": [
    {
     "name": "stdout",
     "output_type": "stream",
     "text": [
      "Cross Validation Score for Linear Regressor model:  0.3865592066571306\n"
     ]
    }
   ],
   "source": [
    "#Checking the cross validation of linear regression to avaoid over fiiting \n",
    "\n",
    "train_accuracy=r2_score(y_train,pred_train)\n",
    "test_accuracy=r2_score(y_test,pred_test)\n",
    "\n",
    "from sklearn.model_selection import cross_val_score\n",
    "cv_score=cross_val_score(lr,x,y,cv=5)\n",
    "cv_mean1=cv_score.mean()\n",
    "\n",
    "print(\"Cross Validation Score for Linear Regressor model: \",cv_mean1)"
   ]
  },
  {
   "cell_type": "code",
   "execution_count": 37,
   "id": "b15a8644",
   "metadata": {},
   "outputs": [
    {
     "data": {
      "image/png": "[encoded data removed]",
      "text/plain": [
       "<Figure size 648x432 with 1 Axes>"
      ]
     },
     "metadata": {
      "needs_background": "light"
     },
     "output_type": "display_data"
    }
   ],
   "source": [
    "#Verifying the performance of the model by graph\n",
    "import matplotlib.pyplot as plt\n",
    "plt.figure(figsize=(9,6))\n",
    "plt.scatter(x=y_test,y=pred_test,color='b')\n",
    "plt.plot(y_test,y_test,color='r')\n",
    "plt.xlabel(\"Acutal rings\")\n",
    "plt.ylabel(\"Predicted rings\")\n",
    "plt.title(\"Linear Regression\")\n",
    "plt.show()"
   ]
  },
  {
   "cell_type": "markdown",
   "id": "e8de9a0b",
   "metadata": {},
   "source": [
    "We can observe that the line of Our model \"Linear regression\" is passing most of the points in the dataset."
   ]
  },
  {
   "cell_type": "code",
   "execution_count": 38,
   "id": "e5ed6466",
   "metadata": {},
   "outputs": [
    {
     "name": "stdout",
     "output_type": "stream",
     "text": [
      "Accuracy Score for Support Vector Regressor :  0.49952901483784184\n"
     ]
    }
   ],
   "source": [
    "#taking the Support vector Regression\n",
    "from sklearn.svm import SVR\n",
    "svr=SVR(kernel=\"rbf\")\n",
    "svr.fit(x_train,y_train)\n",
    "pred_test=svr.predict(x_test)\n",
    "print(\"Accuracy Score for Support Vector Regressor : \",r2_score(y_test,pred_test))"
   ]
  },
  {
   "cell_type": "code",
   "execution_count": 39,
   "id": "ec661751",
   "metadata": {},
   "outputs": [
    {
     "name": "stdout",
     "output_type": "stream",
     "text": [
      "Cross Validation Score for Support Vector Regressor model:  0.4351734162080917\n"
     ]
    }
   ],
   "source": [
    "#Checking the cross validation of Support vector regression to avaoid over fiiting \n",
    "cv_score=cross_val_score(svr,x,y,cv=5)\n",
    "cv_mean2=cv_score.mean()\n",
    "\n",
    "print(\"Cross Validation Score for Support Vector Regressor model: \",cv_mean2)"
   ]
  },
  {
   "cell_type": "code",
   "execution_count": 40,
   "id": "6dc9dcab",
   "metadata": {},
   "outputs": [
    {
     "data": {
      "image/png": "[encoded data removed]",
      "text/plain": [
       "<Figure size 648x432 with 1 Axes>"
      ]
     },
     "metadata": {
      "needs_background": "light"
     },
     "output_type": "display_data"
    }
   ],
   "source": [
    "#Verifying the performance of the model by graph\n",
    "plt.figure(figsize=(9,6))\n",
    "plt.scatter(x=y_test,y=pred_test,color='b')\n",
    "plt.plot(y_test,y_test,color='r')\n",
    "plt.xlabel(\"Acutal rings\")\n",
    "plt.ylabel(\"Predicted rings\")\n",
    "plt.title(\"Support Vector Regression\")\n",
    "plt.show()"
   ]
  },
  {
   "cell_type": "markdown",
   "id": "de78e691",
   "metadata": {},
   "source": [
    "We can observe that the prediction of our machine learning model is not matching a lot with the actual values in the dataset."
   ]
  },
  {
   "cell_type": "code",
   "execution_count": 41,
   "id": "547b5646",
   "metadata": {},
   "outputs": [
    {
     "name": "stdout",
     "output_type": "stream",
     "text": [
      "Accuracy Score for Random Forest Regressor :  0.537222823343821\n"
     ]
    }
   ],
   "source": [
    "#Taking the randomforest regressor model\n",
    "from sklearn.ensemble import RandomForestRegressor\n",
    "rfr=RandomForestRegressor(n_estimators = 100)\n",
    "rfr.fit(x_train,y_train)\n",
    "pred_test=rfr.predict(x_test)\n",
    "print(\"Accuracy Score for Random Forest Regressor : \",r2_score(y_test,pred_test))"
   ]
  },
  {
   "cell_type": "code",
   "execution_count": 42,
   "id": "27dd3fdb",
   "metadata": {},
   "outputs": [
    {
     "name": "stdout",
     "output_type": "stream",
     "text": [
      "Cross Validation Score for Random Forest Regressor model:  0.4532203460928942\n"
     ]
    }
   ],
   "source": [
    "#Checking the cross validation of randomforest regressor to avaoid over fiiting \n",
    "\n",
    "cv_score=cross_val_score(rfr,x,y,cv=5)\n",
    "cv_mean3=cv_score.mean()\n",
    "\n",
    "print(\"Cross Validation Score for Random Forest Regressor model: \",cv_mean3)"
   ]
  },
  {
   "cell_type": "code",
   "execution_count": 43,
   "id": "7c913337",
   "metadata": {},
   "outputs": [
    {
     "data": {
      "image/png": "[encoded data removed]",
      "text/plain": [
       "<Figure size 648x432 with 1 Axes>"
      ]
     },
     "metadata": {
      "needs_background": "light"
     },
     "output_type": "display_data"
    }
   ],
   "source": [
    "#Verifying the performance of the model by graph\n",
    "plt.figure(figsize=(9,6))\n",
    "plt.scatter(x=y_test,y=pred_test,color='b')\n",
    "plt.plot(y_test,y_test,color='r')\n",
    "plt.xlabel(\"Acutal rings\")\n",
    "plt.ylabel(\"Predicted rings\")\n",
    "plt.title(\"Random Forest Regressor\")\n",
    "plt.show()"
   ]
  },
  {
   "cell_type": "markdown",
   "id": "3579b577",
   "metadata": {},
   "source": [
    "Here, the model is performing well. The prediction values most of them are matching with the actual values in the dataset."
   ]
  },
  {
   "cell_type": "markdown",
   "id": "db37589f",
   "metadata": {},
   "source": [
    "By observing the Accuracy score of the all models and Accuracy score after cross validation, we conclude the Support Vector is the best model which is performing well.\n",
    "\n",
    "SVR gives the least diffrence between the \"Accuracy score\" and \"Accuracy score after cross validation\" as compared to other ML models."
   ]
  },
  {
   "cell_type": "markdown",
   "id": "3021b3bf",
   "metadata": {},
   "source": [
    "## Hyper-Parameter tuning"
   ]
  },
  {
   "cell_type": "code",
   "execution_count": 44,
   "id": "f360e443",
   "metadata": {},
   "outputs": [
    {
     "name": "stdout",
     "output_type": "stream",
     "text": [
      "Best parameters for tuning the model are :  {'C': 10, 'kernel': 'rbf'}\n"
     ]
    }
   ],
   "source": [
    "#importing the necessary libraries\n",
    "from sklearn.model_selection import GridSearchCV\n",
    "parameters={\"C\":[.0001,.001,.01,.1,1,10],\"kernel\":[\"rbf\",\"linear\"]}\n",
    "GCV=GridSearchCV(SVR(),parameters,cv=5)\n",
    "GCV.fit(x_train,y_train)\n",
    "print(\"Best parameters for tuning the model are : \",GCV.best_params_)"
   ]
  },
  {
   "cell_type": "code",
   "execution_count": 45,
   "id": "d55752c2",
   "metadata": {},
   "outputs": [
    {
     "name": "stdout",
     "output_type": "stream",
     "text": [
      "Final Accuracy Score after tuning :  56.15481885559114\n"
     ]
    }
   ],
   "source": [
    "#putting the best parameters in the selected model\n",
    "\n",
    "mod=SVR(C=10,kernel=\"rbf\")\n",
    "\n",
    "mod.fit(x_train,y_train)\n",
    "pred=mod.predict(x_test)\n",
    "print(\"Final Accuracy Score after tuning : \",r2_score(y_test,pred)*100)"
   ]
  },
  {
   "cell_type": "markdown",
   "id": "b3ea1d2f",
   "metadata": {},
   "source": [
    "We can now observe that after following all the possible steps to increase the accuracy of the model, we are the best Accuracy equal to 56.154%."
   ]
  },
  {
   "cell_type": "markdown",
   "id": "73dcab50",
   "metadata": {},
   "source": [
    "## Saving the best model"
   ]
  },
  {
   "cell_type": "code",
   "execution_count": 46,
   "id": "085c903e",
   "metadata": {},
   "outputs": [
    {
     "data": {
      "text/plain": [
       "['Abalone Case Study_final.pkl']"
      ]
     },
     "execution_count": 46,
     "metadata": {},
     "output_type": "execute_result"
    }
   ],
   "source": [
    "#importing the necessary library\n",
    "import joblib\n",
    "joblib.dump(mod,\"Abalone Case Study_final.pkl\")"
   ]
  },
  {
   "cell_type": "code",
   "execution_count": 47,
   "id": "fc19a065",
   "metadata": {},
   "outputs": [
    {
     "name": "stdout",
     "output_type": "stream",
     "text": [
      "Accuracy Score :  0.5615481885559114\n"
     ]
    }
   ],
   "source": [
    "#Checking the model is working or not\n",
    "model=joblib.load(\"Abalone Case Study_final.pkl\")\n",
    "prediction=model.predict(x_test)\n",
    "print(\"Accuracy Score : \",r2_score(y_test,prediction))"
   ]
  },
  {
   "cell_type": "code",
   "execution_count": 48,
   "id": "eae2e22d",
   "metadata": {},
   "outputs": [],
   "source": [
    "#Converting the prediction into dataframe\n",
    "prediction=pd.DataFrame(prediction)"
   ]
  },
  {
   "cell_type": "code",
   "execution_count": 49,
   "id": "44443436",
   "metadata": {},
   "outputs": [],
   "source": [
    "#Saving the prediction\n",
    "prediction.to_csv(\"Results1.csv\")"
   ]
  }
 ],
 "metadata": {
  "kernelspec": {
   "display_name": "Python 3",
   "language": "python",
   "name": "python3"
  },
  "language_info": {
   "codemirror_mode": {
    "name": "ipython",
    "version": 3
   },
   "file_extension": ".py",
   "mimetype": "text/x-python",
   "name": "python",
   "nbconvert_exporter": "python",
   "pygments_lexer": "ipython3",
   "version": "3.6.2"
  }
 },
 "nbformat": 4,
 "nbformat_minor": 5
}
