{
 "cells": [
  {
   "cell_type": "markdown",
   "id": "5203c771",
   "metadata": {},
   "source": [
    "# Loan Application Status Prediction"
   ]
  },
  {
   "cell_type": "code",
   "execution_count": 29,
   "id": "415b85c9",
   "metadata": {},
   "outputs": [],
   "source": [
    "import pandas as pd\n",
    "import numpy as np\n",
    "import matplotlib.pyplot as plt\n",
    "import seaborn as sns\n",
    "import warnings\n",
    "warnings.filterwarnings('ignore')"
   ]
  },
  {
   "cell_type": "markdown",
   "id": "189ea98f",
   "metadata": {},
   "source": [
    "# Data Collection"
   ]
  },
  {
   "cell_type": "code",
   "execution_count": 30,
   "id": "78bbbd6c",
   "metadata": {},
   "outputs": [],
   "source": [
    "#Importing the dataset\n",
    "df1=pd.read_csv(\"loan_prediction.csv\")"
   ]
  },
  {
   "cell_type": "code",
   "execution_count": 31,
   "id": "5008a119",
   "metadata": {},
   "outputs": [
    {
     "data": {
      "text/html": [
       "<div>\n",
       "<style scoped>\n",
       "    .dataframe tbody tr th:only-of-type {\n",
       "        vertical-align: middle;\n",
       "    }\n",
       "\n",
       "    .dataframe tbody tr th {\n",
       "        vertical-align: top;\n",
       "    }\n",
       "\n",
       "    .dataframe thead th {\n",
       "        text-align: right;\n",
       "    }\n",
       "</style>\n",
       "<table border=\"1\" class=\"dataframe\">\n",
       "  <thead>\n",
       "    <tr style=\"text-align: right;\">\n",
       "      <th></th>\n",
       "      <th>Loan_ID</th>\n",
       "      <th>Gender</th>\n",
       "      <th>Married</th>\n",
       "      <th>Dependents</th>\n",
       "      <th>Education</th>\n",
       "      <th>Self_Employed</th>\n",
       "      <th>ApplicantIncome</th>\n",
       "      <th>CoapplicantIncome</th>\n",
       "      <th>LoanAmount</th>\n",
       "      <th>Loan_Amount_Term</th>\n",
       "      <th>Credit_History</th>\n",
       "      <th>Property_Area</th>\n",
       "      <th>Loan_Status</th>\n",
       "    </tr>\n",
       "  </thead>\n",
       "  <tbody>\n",
       "    <tr>\n",
       "      <th>0</th>\n",
       "      <td>LP001002</td>\n",
       "      <td>Male</td>\n",
       "      <td>No</td>\n",
       "      <td>0</td>\n",
       "      <td>Graduate</td>\n",
       "      <td>No</td>\n",
       "      <td>5849</td>\n",
       "      <td>0.0</td>\n",
       "      <td>NaN</td>\n",
       "      <td>360.0</td>\n",
       "      <td>1.0</td>\n",
       "      <td>Urban</td>\n",
       "      <td>Y</td>\n",
       "    </tr>\n",
       "    <tr>\n",
       "      <th>1</th>\n",
       "      <td>LP001003</td>\n",
       "      <td>Male</td>\n",
       "      <td>Yes</td>\n",
       "      <td>1</td>\n",
       "      <td>Graduate</td>\n",
       "      <td>No</td>\n",
       "      <td>4583</td>\n",
       "      <td>1508.0</td>\n",
       "      <td>128.0</td>\n",
       "      <td>360.0</td>\n",
       "      <td>1.0</td>\n",
       "      <td>Rural</td>\n",
       "      <td>N</td>\n",
       "    </tr>\n",
       "    <tr>\n",
       "      <th>2</th>\n",
       "      <td>LP001005</td>\n",
       "      <td>Male</td>\n",
       "      <td>Yes</td>\n",
       "      <td>0</td>\n",
       "      <td>Graduate</td>\n",
       "      <td>Yes</td>\n",
       "      <td>3000</td>\n",
       "      <td>0.0</td>\n",
       "      <td>66.0</td>\n",
       "      <td>360.0</td>\n",
       "      <td>1.0</td>\n",
       "      <td>Urban</td>\n",
       "      <td>Y</td>\n",
       "    </tr>\n",
       "    <tr>\n",
       "      <th>3</th>\n",
       "      <td>LP001006</td>\n",
       "      <td>Male</td>\n",
       "      <td>Yes</td>\n",
       "      <td>0</td>\n",
       "      <td>Not Graduate</td>\n",
       "      <td>No</td>\n",
       "      <td>2583</td>\n",
       "      <td>2358.0</td>\n",
       "      <td>120.0</td>\n",
       "      <td>360.0</td>\n",
       "      <td>1.0</td>\n",
       "      <td>Urban</td>\n",
       "      <td>Y</td>\n",
       "    </tr>\n",
       "    <tr>\n",
       "      <th>4</th>\n",
       "      <td>LP001008</td>\n",
       "      <td>Male</td>\n",
       "      <td>No</td>\n",
       "      <td>0</td>\n",
       "      <td>Graduate</td>\n",
       "      <td>No</td>\n",
       "      <td>6000</td>\n",
       "      <td>0.0</td>\n",
       "      <td>141.0</td>\n",
       "      <td>360.0</td>\n",
       "      <td>1.0</td>\n",
       "      <td>Urban</td>\n",
       "      <td>Y</td>\n",
       "    </tr>\n",
       "  </tbody>\n",
       "</table>\n",
       "</div>"
      ],
      "text/plain": [
       "    Loan_ID Gender Married Dependents     Education Self_Employed  \\\n",
       "0  LP001002   Male      No          0      Graduate            No   \n",
       "1  LP001003   Male     Yes          1      Graduate            No   \n",
       "2  LP001005   Male     Yes          0      Graduate           Yes   \n",
       "3  LP001006   Male     Yes          0  Not Graduate            No   \n",
       "4  LP001008   Male      No          0      Graduate            No   \n",
       "\n",
       "   ApplicantIncome  CoapplicantIncome  LoanAmount  Loan_Amount_Term  \\\n",
       "0             5849                0.0         NaN             360.0   \n",
       "1             4583             1508.0       128.0             360.0   \n",
       "2             3000                0.0        66.0             360.0   \n",
       "3             2583             2358.0       120.0             360.0   \n",
       "4             6000                0.0       141.0             360.0   \n",
       "\n",
       "   Credit_History Property_Area Loan_Status  \n",
       "0             1.0         Urban           Y  \n",
       "1             1.0         Rural           N  \n",
       "2             1.0         Urban           Y  \n",
       "3             1.0         Urban           Y  \n",
       "4             1.0         Urban           Y  "
      ]
     },
     "execution_count": 31,
     "metadata": {},
     "output_type": "execute_result"
    }
   ],
   "source": [
    "df1.head()"
   ]
  },
  {
   "cell_type": "code",
   "execution_count": 32,
   "id": "66346367",
   "metadata": {},
   "outputs": [
    {
     "data": {
      "text/plain": [
       "(614, 13)"
      ]
     },
     "execution_count": 32,
     "metadata": {},
     "output_type": "execute_result"
    }
   ],
   "source": [
    "#Checking the shape pf the dataset\n",
    "df1.shape"
   ]
  },
  {
   "cell_type": "markdown",
   "id": "450679d1",
   "metadata": {},
   "source": [
    "There are 614 rows and 13 columns"
   ]
  },
  {
   "cell_type": "code",
   "execution_count": 33,
   "id": "7d048ccb",
   "metadata": {},
   "outputs": [
    {
     "data": {
      "text/plain": [
       "Loan_ID               0\n",
       "Gender               13\n",
       "Married               3\n",
       "Dependents           15\n",
       "Education             0\n",
       "Self_Employed        32\n",
       "ApplicantIncome       0\n",
       "CoapplicantIncome     0\n",
       "LoanAmount           22\n",
       "Loan_Amount_Term     14\n",
       "Credit_History       50\n",
       "Property_Area         0\n",
       "Loan_Status           0\n",
       "dtype: int64"
      ]
     },
     "execution_count": 33,
     "metadata": {},
     "output_type": "execute_result"
    }
   ],
   "source": [
    "#Checking the null vales present in the dataset.\n",
    "df1.isnull().sum()"
   ]
  },
  {
   "cell_type": "markdown",
   "id": "15706940",
   "metadata": {},
   "source": [
    "There are null values present in Gender, Married,Dependents, Self_employed,Loan Amount, Loan_Amount_Term,Credit History has null values present."
   ]
  },
  {
   "cell_type": "code",
   "execution_count": 34,
   "id": "ffd15b90",
   "metadata": {},
   "outputs": [
    {
     "data": {
      "text/html": [
       "<div>\n",
       "<style scoped>\n",
       "    .dataframe tbody tr th:only-of-type {\n",
       "        vertical-align: middle;\n",
       "    }\n",
       "\n",
       "    .dataframe tbody tr th {\n",
       "        vertical-align: top;\n",
       "    }\n",
       "\n",
       "    .dataframe thead th {\n",
       "        text-align: right;\n",
       "    }\n",
       "</style>\n",
       "<table border=\"1\" class=\"dataframe\">\n",
       "  <thead>\n",
       "    <tr style=\"text-align: right;\">\n",
       "      <th></th>\n",
       "      <th>ApplicantIncome</th>\n",
       "      <th>CoapplicantIncome</th>\n",
       "      <th>LoanAmount</th>\n",
       "      <th>Loan_Amount_Term</th>\n",
       "      <th>Credit_History</th>\n",
       "    </tr>\n",
       "  </thead>\n",
       "  <tbody>\n",
       "    <tr>\n",
       "      <th>ApplicantIncome</th>\n",
       "      <td>1.000000</td>\n",
       "      <td>-0.116605</td>\n",
       "      <td>0.570909</td>\n",
       "      <td>-0.045306</td>\n",
       "      <td>-0.014715</td>\n",
       "    </tr>\n",
       "    <tr>\n",
       "      <th>CoapplicantIncome</th>\n",
       "      <td>-0.116605</td>\n",
       "      <td>1.000000</td>\n",
       "      <td>0.188619</td>\n",
       "      <td>-0.059878</td>\n",
       "      <td>-0.002056</td>\n",
       "    </tr>\n",
       "    <tr>\n",
       "      <th>LoanAmount</th>\n",
       "      <td>0.570909</td>\n",
       "      <td>0.188619</td>\n",
       "      <td>1.000000</td>\n",
       "      <td>0.039447</td>\n",
       "      <td>-0.008433</td>\n",
       "    </tr>\n",
       "    <tr>\n",
       "      <th>Loan_Amount_Term</th>\n",
       "      <td>-0.045306</td>\n",
       "      <td>-0.059878</td>\n",
       "      <td>0.039447</td>\n",
       "      <td>1.000000</td>\n",
       "      <td>0.001470</td>\n",
       "    </tr>\n",
       "    <tr>\n",
       "      <th>Credit_History</th>\n",
       "      <td>-0.014715</td>\n",
       "      <td>-0.002056</td>\n",
       "      <td>-0.008433</td>\n",
       "      <td>0.001470</td>\n",
       "      <td>1.000000</td>\n",
       "    </tr>\n",
       "  </tbody>\n",
       "</table>\n",
       "</div>"
      ],
      "text/plain": [
       "                   ApplicantIncome  CoapplicantIncome  LoanAmount  \\\n",
       "ApplicantIncome           1.000000          -0.116605    0.570909   \n",
       "CoapplicantIncome        -0.116605           1.000000    0.188619   \n",
       "LoanAmount                0.570909           0.188619    1.000000   \n",
       "Loan_Amount_Term         -0.045306          -0.059878    0.039447   \n",
       "Credit_History           -0.014715          -0.002056   -0.008433   \n",
       "\n",
       "                   Loan_Amount_Term  Credit_History  \n",
       "ApplicantIncome           -0.045306       -0.014715  \n",
       "CoapplicantIncome         -0.059878       -0.002056  \n",
       "LoanAmount                 0.039447       -0.008433  \n",
       "Loan_Amount_Term           1.000000        0.001470  \n",
       "Credit_History             0.001470        1.000000  "
      ]
     },
     "execution_count": 34,
     "metadata": {},
     "output_type": "execute_result"
    }
   ],
   "source": [
    "#Checking the correlation \n",
    "df1.corr()"
   ]
  },
  {
   "cell_type": "code",
   "execution_count": 35,
   "id": "54d2ac64",
   "metadata": {},
   "outputs": [
    {
     "data": {
      "text/plain": [
       "<AxesSubplot:>"
      ]
     },
     "execution_count": 35,
     "metadata": {},
     "output_type": "execute_result"
    },
    {
     "data": {
      "image/png": "[encoded data removed]",
      "text/plain": [
       "<Figure size 720x432 with 2 Axes>"
      ]
     },
     "metadata": {
      "needs_background": "light"
     },
     "output_type": "display_data"
    }
   ],
   "source": [
    "#Correlation via Heatmap\n",
    "plt.figure(figsize=[10,6])\n",
    "sns.heatmap(df1.corr(),cmap=\"Blues\", annot=True)"
   ]
  },
  {
   "cell_type": "markdown",
   "id": "50bd25b6",
   "metadata": {},
   "source": [
    "Here we cannot observe the correlation with the target column  as the target column as string datatype.\n",
    "So we will do further EDA in order to check the relation between dependent column and independent column."
   ]
  },
  {
   "cell_type": "code",
   "execution_count": 36,
   "id": "489d1882",
   "metadata": {},
   "outputs": [],
   "source": [
    "#Dropping the unnessary column\n",
    "df1.drop(\"Loan_ID\",axis=1,inplace=True)"
   ]
  },
  {
   "cell_type": "code",
   "execution_count": 37,
   "id": "4f07681c",
   "metadata": {},
   "outputs": [],
   "source": [
    "#Creating a list of the columns having missing values\n",
    "missing_values_cat=[\"Gender\",\"Married\",\"Dependents\",\"Self_Employed\",\"Loan_Amount_Term\",\"Credit_History\"]"
   ]
  },
  {
   "cell_type": "code",
   "execution_count": 38,
   "id": "3d4d8c07",
   "metadata": {},
   "outputs": [],
   "source": [
    "#filling it with the most frequent values\n",
    "for i in missing_values_cat:\n",
    "    df1[i].fillna(df1[i].mode()[0], inplace=True)"
   ]
  },
  {
   "cell_type": "code",
   "execution_count": 39,
   "id": "bdaa9015",
   "metadata": {},
   "outputs": [],
   "source": [
    "#filling it with mean of the values present in the LoanAmount column\n",
    "df1[\"LoanAmount\"].fillna(df1[\"LoanAmount\"].mean(), inplace=True)"
   ]
  },
  {
   "cell_type": "code",
   "execution_count": 40,
   "id": "ec37e990",
   "metadata": {},
   "outputs": [
    {
     "name": "stdout",
     "output_type": "stream",
     "text": [
      "Y    422\n",
      "N    192\n",
      "Name: Loan_Status, dtype: int64\n"
     ]
    },
    {
     "data": {
      "text/plain": [
       "Text(0.5, 1.0, 'Loan approval count')"
      ]
     },
     "execution_count": 40,
     "metadata": {},
     "output_type": "execute_result"
    },
    {
     "data": {
      "image/png": "[encoded data removed]",
      "text/plain": [
       "<Figure size 432x288 with 1 Axes>"
      ]
     },
     "metadata": {
      "needs_background": "light"
     },
     "output_type": "display_data"
    }
   ],
   "source": [
    "#Checking the distribution of the values Y and N in the target column'\n",
    "print(df1[\"Loan_Status\"].value_counts())\n",
    "sns.countplot(x='Loan_Status',data = df1,palette=\"magma\")\n",
    "plt.title(\"Loan approval count\")"
   ]
  },
  {
   "cell_type": "markdown",
   "id": "05ab729a",
   "metadata": {},
   "source": [
    "We can cleary observe that more than 50% of the velues are with Y.\n",
    "Hence we have to balance it as well before training the ML model on the Dataset."
   ]
  },
  {
   "cell_type": "code",
   "execution_count": 41,
   "id": "30061f67",
   "metadata": {},
   "outputs": [
    {
     "data": {
      "text/plain": [
       "<AxesSubplot:xlabel='Gender', ylabel='count'>"
      ]
     },
     "execution_count": 41,
     "metadata": {},
     "output_type": "execute_result"
    },
    {
     "data": {
      "image/png": "[encoded data removed]",
      "text/plain": [
       "<Figure size 432x288 with 1 Axes>"
      ]
     },
     "metadata": {
      "needs_background": "light"
     },
     "output_type": "display_data"
    }
   ],
   "source": [
    "#Checking the relation b/w gender and Loan Status\n",
    "sns.countplot(x='Gender',data = df1,hue=\"Loan_Status\",palette=\"magma\")"
   ]
  },
  {
   "cell_type": "markdown",
   "id": "92994655",
   "metadata": {},
   "source": [
    "We can observe that majority of the Males who applied for Loans got the Loan but if we see in case of Female almost 50% of the females are didn't received the loan facility."
   ]
  },
  {
   "cell_type": "code",
   "execution_count": 42,
   "id": "76abf5b8",
   "metadata": {},
   "outputs": [
    {
     "data": {
      "text/plain": [
       "<AxesSubplot:xlabel='Education', ylabel='count'>"
      ]
     },
     "execution_count": 42,
     "metadata": {},
     "output_type": "execute_result"
    },
    {
     "data": {
      "image/png": "[encoded data removed]",
      "text/plain": [
       "<Figure size 432x288 with 1 Axes>"
      ]
     },
     "metadata": {
      "needs_background": "light"
     },
     "output_type": "display_data"
    }
   ],
   "source": [
    "#Checking the relation b/w education and Loan Status\n",
    "sns.countplot(x='Education',data = df1,hue=\"Loan_Status\",palette=\"magma\")"
   ]
  },
  {
   "cell_type": "markdown",
   "id": "6b53e66d",
   "metadata": {},
   "source": [
    "It clearly observable that people who are more educated i.e are graduated are getting the loan facility as comapred to not graduated."
   ]
  },
  {
   "cell_type": "code",
   "execution_count": 43,
   "id": "d0bae4dd",
   "metadata": {},
   "outputs": [
    {
     "data": {
      "text/plain": [
       "<AxesSubplot:xlabel='Property_Area', ylabel='count'>"
      ]
     },
     "execution_count": 43,
     "metadata": {},
     "output_type": "execute_result"
    },
    {
     "data": {
      "image/png": "[encoded data removed]",
      "text/plain": [
       "<Figure size 432x288 with 1 Axes>"
      ]
     },
     "metadata": {
      "needs_background": "light"
     },
     "output_type": "display_data"
    }
   ],
   "source": [
    "#Checking the relation b/w Property_Area and Loan Status\n",
    "sns.countplot(x='Property_Area',data = df1,hue=\"Loan_Status\",palette=\"magma\")"
   ]
  },
  {
   "cell_type": "markdown",
   "id": "89a2af91",
   "metadata": {},
   "source": [
    "We can observe that density of Semiurban peoples are more in getting the Loans.\n",
    "The least is rural area where majority of the peoples are not getting the loan facility,"
   ]
  },
  {
   "cell_type": "code",
   "execution_count": 44,
   "id": "8cb443a2",
   "metadata": {},
   "outputs": [
    {
     "data": {
      "text/plain": [
       "<AxesSubplot:xlabel='Married', ylabel='count'>"
      ]
     },
     "execution_count": 44,
     "metadata": {},
     "output_type": "execute_result"
    },
    {
     "data": {
      "image/png": "[encoded data removed]",
      "text/plain": [
       "<Figure size 432x288 with 1 Axes>"
      ]
     },
     "metadata": {
      "needs_background": "light"
     },
     "output_type": "display_data"
    }
   ],
   "source": [
    "#Checking the relation b/w Married and Loan Status\n",
    "sns.countplot(x='Married',data = df1,hue=\"Loan_Status\",palette=\"magma\")"
   ]
  },
  {
   "cell_type": "markdown",
   "id": "0fefdac6",
   "metadata": {},
   "source": [
    "It is clearly observable that most of the people are getting the Loan facility as comapared to the singles with high difference."
   ]
  },
  {
   "cell_type": "code",
   "execution_count": 45,
   "id": "73c2f2b0",
   "metadata": {},
   "outputs": [
    {
     "data": {
      "text/html": [
       "<div>\n",
       "<style scoped>\n",
       "    .dataframe tbody tr th:only-of-type {\n",
       "        vertical-align: middle;\n",
       "    }\n",
       "\n",
       "    .dataframe tbody tr th {\n",
       "        vertical-align: top;\n",
       "    }\n",
       "\n",
       "    .dataframe thead th {\n",
       "        text-align: right;\n",
       "    }\n",
       "</style>\n",
       "<table border=\"1\" class=\"dataframe\">\n",
       "  <thead>\n",
       "    <tr style=\"text-align: right;\">\n",
       "      <th></th>\n",
       "      <th>Gender</th>\n",
       "      <th>Married</th>\n",
       "      <th>Dependents</th>\n",
       "      <th>Education</th>\n",
       "      <th>Self_Employed</th>\n",
       "      <th>ApplicantIncome</th>\n",
       "      <th>CoapplicantIncome</th>\n",
       "      <th>LoanAmount</th>\n",
       "      <th>Loan_Amount_Term</th>\n",
       "      <th>Credit_History</th>\n",
       "      <th>Property_Area</th>\n",
       "      <th>Loan_Status</th>\n",
       "    </tr>\n",
       "  </thead>\n",
       "  <tbody>\n",
       "    <tr>\n",
       "      <th>0</th>\n",
       "      <td>Male</td>\n",
       "      <td>No</td>\n",
       "      <td>0</td>\n",
       "      <td>Graduate</td>\n",
       "      <td>No</td>\n",
       "      <td>5849</td>\n",
       "      <td>0.0</td>\n",
       "      <td>146.412162</td>\n",
       "      <td>360.0</td>\n",
       "      <td>1.0</td>\n",
       "      <td>Urban</td>\n",
       "      <td>Y</td>\n",
       "    </tr>\n",
       "    <tr>\n",
       "      <th>1</th>\n",
       "      <td>Male</td>\n",
       "      <td>Yes</td>\n",
       "      <td>1</td>\n",
       "      <td>Graduate</td>\n",
       "      <td>No</td>\n",
       "      <td>4583</td>\n",
       "      <td>1508.0</td>\n",
       "      <td>128.000000</td>\n",
       "      <td>360.0</td>\n",
       "      <td>1.0</td>\n",
       "      <td>Rural</td>\n",
       "      <td>N</td>\n",
       "    </tr>\n",
       "    <tr>\n",
       "      <th>2</th>\n",
       "      <td>Male</td>\n",
       "      <td>Yes</td>\n",
       "      <td>0</td>\n",
       "      <td>Graduate</td>\n",
       "      <td>Yes</td>\n",
       "      <td>3000</td>\n",
       "      <td>0.0</td>\n",
       "      <td>66.000000</td>\n",
       "      <td>360.0</td>\n",
       "      <td>1.0</td>\n",
       "      <td>Urban</td>\n",
       "      <td>Y</td>\n",
       "    </tr>\n",
       "    <tr>\n",
       "      <th>3</th>\n",
       "      <td>Male</td>\n",
       "      <td>Yes</td>\n",
       "      <td>0</td>\n",
       "      <td>Not Graduate</td>\n",
       "      <td>No</td>\n",
       "      <td>2583</td>\n",
       "      <td>2358.0</td>\n",
       "      <td>120.000000</td>\n",
       "      <td>360.0</td>\n",
       "      <td>1.0</td>\n",
       "      <td>Urban</td>\n",
       "      <td>Y</td>\n",
       "    </tr>\n",
       "    <tr>\n",
       "      <th>4</th>\n",
       "      <td>Male</td>\n",
       "      <td>No</td>\n",
       "      <td>0</td>\n",
       "      <td>Graduate</td>\n",
       "      <td>No</td>\n",
       "      <td>6000</td>\n",
       "      <td>0.0</td>\n",
       "      <td>141.000000</td>\n",
       "      <td>360.0</td>\n",
       "      <td>1.0</td>\n",
       "      <td>Urban</td>\n",
       "      <td>Y</td>\n",
       "    </tr>\n",
       "  </tbody>\n",
       "</table>\n",
       "</div>"
      ],
      "text/plain": [
       "  Gender Married Dependents     Education Self_Employed  ApplicantIncome  \\\n",
       "0   Male      No          0      Graduate            No             5849   \n",
       "1   Male     Yes          1      Graduate            No             4583   \n",
       "2   Male     Yes          0      Graduate           Yes             3000   \n",
       "3   Male     Yes          0  Not Graduate            No             2583   \n",
       "4   Male      No          0      Graduate            No             6000   \n",
       "\n",
       "   CoapplicantIncome  LoanAmount  Loan_Amount_Term  Credit_History  \\\n",
       "0                0.0  146.412162             360.0             1.0   \n",
       "1             1508.0  128.000000             360.0             1.0   \n",
       "2                0.0   66.000000             360.0             1.0   \n",
       "3             2358.0  120.000000             360.0             1.0   \n",
       "4                0.0  141.000000             360.0             1.0   \n",
       "\n",
       "  Property_Area Loan_Status  \n",
       "0         Urban           Y  \n",
       "1         Rural           N  \n",
       "2         Urban           Y  \n",
       "3         Urban           Y  \n",
       "4         Urban           Y  "
      ]
     },
     "execution_count": 45,
     "metadata": {},
     "output_type": "execute_result"
    }
   ],
   "source": [
    "df1.head()"
   ]
  },
  {
   "cell_type": "code",
   "execution_count": 46,
   "id": "b5bee94c",
   "metadata": {},
   "outputs": [],
   "source": [
    "#Creating a list of columns having continous values\n",
    "dist_col=[\"ApplicantIncome\",\"CoapplicantIncome\",\"LoanAmount\"]"
   ]
  },
  {
   "cell_type": "code",
   "execution_count": 52,
   "id": "4f7b4010",
   "metadata": {},
   "outputs": [
    {
     "name": "stdout",
     "output_type": "stream",
     "text": [
      "Skewness present in column ApplicantIncome is :  6.523526250899361\n"
     ]
    },
    {
     "data": {
      "image/png": "[encoded data removed]",
      "text/plain": [
       "<Figure size 432x288 with 1 Axes>"
      ]
     },
     "metadata": {
      "needs_background": "light"
     },
     "output_type": "display_data"
    },
    {
     "name": "stdout",
     "output_type": "stream",
     "text": [
      "Skewness present in column CoapplicantIncome is :  7.473216996340462\n"
     ]
    },
    {
     "data": {
      "image/png": "[encoded data removed]",
      "text/plain": [
       "<Figure size 432x288 with 1 Axes>"
      ]
     },
     "metadata": {
      "needs_background": "light"
     },
     "output_type": "display_data"
    },
    {
     "name": "stdout",
     "output_type": "stream",
     "text": [
      "Skewness present in column LoanAmount is :  2.719935540956202\n"
     ]
    },
    {
     "data": {
      "image/png": "[encoded data removed]",
      "text/plain": [
       "<Figure size 432x288 with 1 Axes>"
      ]
     },
     "metadata": {
      "needs_background": "light"
     },
     "output_type": "display_data"
    }
   ],
   "source": [
    "#Checking the skewness in the above mentioned columns\n",
    "from scipy.stats import skew\n",
    "for i in dist_col:\n",
    "    print(\"Skewness present in column\",i,\"is : \",skew(df1[i]))\n",
    "    plt.figure()\n",
    "    sns.distplot(df1[i])\n",
    "    plt.show()"
   ]
  },
  {
   "cell_type": "markdown",
   "id": "991a4512",
   "metadata": {},
   "source": [
    "There are skewness present in the columns but we will keep it as the data is less.\n",
    "if there are more rows in the dataset then we can remove the skewness and outliers.\n",
    "\n",
    "in order to make our ML model learn good, we will keep teh data as it is."
   ]
  },
  {
   "cell_type": "markdown",
   "id": "739ab784",
   "metadata": {},
   "source": [
    "# Encoding"
   ]
  },
  {
   "cell_type": "code",
   "execution_count": 53,
   "id": "c4828335",
   "metadata": {},
   "outputs": [],
   "source": [
    "from sklearn.preprocessing import LabelEncoder\n",
    "le=LabelEncoder()\n",
    "\n",
    "cate_col=[\"Gender\",\"Married\",\"Education\",\"Self_Employed\",\"Property_Area\",\"Loan_Status\",\"Dependents\"]\n",
    "\n",
    "for i in cate_col:\n",
    "    df1[i]=le.fit_transform(df1[i])\n",
    "    "
   ]
  },
  {
   "cell_type": "code",
   "execution_count": 54,
   "id": "ac7c3016",
   "metadata": {},
   "outputs": [
    {
     "name": "stdout",
     "output_type": "stream",
     "text": [
      "1    422\n",
      "0    192\n",
      "Name: Loan_Status, dtype: int64\n"
     ]
    },
    {
     "data": {
      "text/plain": [
       "Text(0.5, 1.0, 'Loan approval count')"
      ]
     },
     "execution_count": 54,
     "metadata": {},
     "output_type": "execute_result"
    },
    {
     "data": {
      "image/png": "[encoded data removed]",
      "text/plain": [
       "<Figure size 432x288 with 1 Axes>"
      ]
     },
     "metadata": {
      "needs_background": "light"
     },
     "output_type": "display_data"
    }
   ],
   "source": [
    "print(df1[\"Loan_Status\"].value_counts())\n",
    "sns.countplot(x='Loan_Status',data = df1,palette=\"magma\")\n",
    "plt.title(\"Loan approval count\")"
   ]
  },
  {
   "cell_type": "markdown",
   "id": "950d69f7",
   "metadata": {},
   "source": [
    "Here Yes(Y) denotes 1 having 422 values and No(N) denotes 0 having 192 values.\n",
    "\n",
    "It clearly shows that Y has more than 50% of the values as comapared to N. Hence it can make our Machine Learning model bias to only side of the values.\n",
    "\n",
    "To overcome this problem, we will use sampling technique in our further steps."
   ]
  },
  {
   "cell_type": "markdown",
   "id": "4f3ed2d1",
   "metadata": {},
   "source": [
    "# Splitting into X and Y"
   ]
  },
  {
   "cell_type": "code",
   "execution_count": 55,
   "id": "7500e11a",
   "metadata": {},
   "outputs": [],
   "source": [
    "x=df1.drop(\"Loan_Status\",axis=1)\n",
    "y=df1[\"Loan_Status\"]"
   ]
  },
  {
   "cell_type": "code",
   "execution_count": 56,
   "id": "e6a31f48",
   "metadata": {},
   "outputs": [],
   "source": [
    "#Imprting the libarires for sampling\n",
    "from imblearn import under_sampling, over_sampling\n",
    "from imblearn.over_sampling import SMOTE\n",
    "\n",
    "smk=SMOTE()\n",
    "x_new,y_new=smk.fit_resample(x,y)"
   ]
  },
  {
   "cell_type": "code",
   "execution_count": 57,
   "id": "35fc79d5",
   "metadata": {},
   "outputs": [],
   "source": [
    "x=x_new\n",
    "y=y_new"
   ]
  },
  {
   "cell_type": "code",
   "execution_count": 58,
   "id": "9a75d72b",
   "metadata": {},
   "outputs": [
    {
     "data": {
      "text/plain": [
       "<AxesSubplot:xlabel='Loan_Status', ylabel='count'>"
      ]
     },
     "execution_count": 58,
     "metadata": {},
     "output_type": "execute_result"
    },
    {
     "data": {
      "image/png": "[encoded data removed]",
      "text/plain": [
       "<Figure size 432x288 with 1 Axes>"
      ]
     },
     "metadata": {
      "needs_background": "light"
     },
     "output_type": "display_data"
    }
   ],
   "source": [
    "#Checking the distribution in the target column after sampling technique\n",
    "sns.countplot(y,palette=\"magma\")"
   ]
  },
  {
   "cell_type": "markdown",
   "id": "2cd6a020",
   "metadata": {},
   "source": [
    "Target column is balanced now.\n",
    "\n",
    "We will now use our Machine learning model to train on the dataset."
   ]
  },
  {
   "cell_type": "markdown",
   "id": "f8843862",
   "metadata": {},
   "source": [
    "# Machine Learning Model Training"
   ]
  },
  {
   "cell_type": "code",
   "execution_count": 59,
   "id": "b08626dc",
   "metadata": {},
   "outputs": [
    {
     "name": "stdout",
     "output_type": "stream",
     "text": [
      "Best Accuracy is  0.8149606299212598  on Random State  9\n"
     ]
    }
   ],
   "source": [
    "#Choosing the best random state for our ML Model\n",
    "from sklearn.model_selection import train_test_split\n",
    "from sklearn.linear_model import LogisticRegression\n",
    "from sklearn.metrics import confusion_matrix,classification_report\n",
    "from sklearn.metrics import accuracy_score\n",
    "maxAccu=0\n",
    "maxRS=0\n",
    "for i in range(1,100):\n",
    "    x_train,x_test,y_train,y_test=train_test_split(x,y,test_size=.30,random_state=i)\n",
    "    lr=LogisticRegression()\n",
    "    lr.fit(x_train,y_train)\n",
    "    predrf=lr.predict(x_test)\n",
    "    acc=accuracy_score(y_test,predrf)\n",
    "    if acc>maxAccu:\n",
    "        maxAccu=acc\n",
    "        maxRS=i\n",
    "print(\"Best Accuracy is \",maxAccu,\" on Random State \",maxRS)"
   ]
  },
  {
   "cell_type": "code",
   "execution_count": 60,
   "id": "6f9c6981",
   "metadata": {},
   "outputs": [],
   "source": [
    "from sklearn.preprocessing import StandardScaler\n",
    "sc=StandardScaler()\n",
    "x_train=pd.DataFrame(sc.fit_transform(x_train))\n",
    "X_test=pd.DataFrame(sc.transform(x_test))"
   ]
  },
  {
   "cell_type": "markdown",
   "id": "2fcd149d",
   "metadata": {},
   "source": [
    "## Saving the best random state and splitting the dataset into training and testing"
   ]
  },
  {
   "cell_type": "code",
   "execution_count": 61,
   "id": "2488fef3",
   "metadata": {},
   "outputs": [],
   "source": [
    "#Splitting the dataset into training and testing \n",
    "x_train,x_test,y_train,y_test=train_test_split(x,y,test_size=.30,random_state=9)"
   ]
  },
  {
   "cell_type": "markdown",
   "id": "24915592",
   "metadata": {},
   "source": [
    "## Creating the Machine Learning model\n",
    "\n",
    "#### As it is classification type of problem, we will use classification type of Machine learning models here"
   ]
  },
  {
   "cell_type": "code",
   "execution_count": 62,
   "id": "d818f67e",
   "metadata": {},
   "outputs": [
    {
     "name": "stdout",
     "output_type": "stream",
     "text": [
      "0.8149606299212598\n",
      "[[ 92  29]\n",
      " [ 18 115]]\n",
      "              precision    recall  f1-score   support\n",
      "\n",
      "           0       0.84      0.76      0.80       121\n",
      "           1       0.80      0.86      0.83       133\n",
      "\n",
      "    accuracy                           0.81       254\n",
      "   macro avg       0.82      0.81      0.81       254\n",
      "weighted avg       0.82      0.81      0.81       254\n",
      "\n"
     ]
    }
   ],
   "source": [
    "#taking the Logistic regression model\n",
    "\n",
    "from sklearn.linear_model import LogisticRegression\n",
    "lr=LogisticRegression()\n",
    "lr.fit(x_train,y_train)\n",
    "predlr=lr.predict(x_test)\n",
    "print(accuracy_score(y_test,predlr))\n",
    "print(confusion_matrix(y_test,predlr))\n",
    "print(classification_report(y_test,predlr))"
   ]
  },
  {
   "cell_type": "code",
   "execution_count": 63,
   "id": "95da2ff2",
   "metadata": {},
   "outputs": [
    {
     "name": "stdout",
     "output_type": "stream",
     "text": [
      "0.84251968503937\n",
      "[[ 94  27]\n",
      " [ 13 120]]\n",
      "              precision    recall  f1-score   support\n",
      "\n",
      "           0       0.88      0.78      0.82       121\n",
      "           1       0.82      0.90      0.86       133\n",
      "\n",
      "    accuracy                           0.84       254\n",
      "   macro avg       0.85      0.84      0.84       254\n",
      "weighted avg       0.85      0.84      0.84       254\n",
      "\n"
     ]
    }
   ],
   "source": [
    "#Taking the Random Forest Classifier model\n",
    "\n",
    "from sklearn.ensemble import RandomForestClassifier\n",
    "rf=RandomForestClassifier()\n",
    "rf.fit(x_train,y_train)\n",
    "predrf=rf.predict(x_test)\n",
    "print(accuracy_score(y_test,predrf))\n",
    "print(confusion_matrix(y_test,predrf))\n",
    "print(classification_report(y_test,predrf))"
   ]
  },
  {
   "cell_type": "code",
   "execution_count": 64,
   "id": "178dca52",
   "metadata": {},
   "outputs": [
    {
     "name": "stdout",
     "output_type": "stream",
     "text": [
      "0.8110236220472441\n",
      "[[ 99  22]\n",
      " [ 26 107]]\n",
      "              precision    recall  f1-score   support\n",
      "\n",
      "           0       0.79      0.82      0.80       121\n",
      "           1       0.83      0.80      0.82       133\n",
      "\n",
      "    accuracy                           0.81       254\n",
      "   macro avg       0.81      0.81      0.81       254\n",
      "weighted avg       0.81      0.81      0.81       254\n",
      "\n"
     ]
    }
   ],
   "source": [
    "#Taking the Decicision Tree classififer model\n",
    "\n",
    "from sklearn.tree import DecisionTreeClassifier\n",
    "dtc=DecisionTreeClassifier()\n",
    "dtc.fit(x_train,y_train)\n",
    "preddtc=dtc.predict(x_test)\n",
    "print(accuracy_score(y_test,preddtc))\n",
    "print(confusion_matrix(y_test,preddtc))\n",
    "print(classification_report(y_test,preddtc))"
   ]
  },
  {
   "cell_type": "code",
   "execution_count": 65,
   "id": "5bf0808c",
   "metadata": {},
   "outputs": [
    {
     "name": "stdout",
     "output_type": "stream",
     "text": [
      "0.6653543307086615\n",
      "[[84 37]\n",
      " [48 85]]\n",
      "              precision    recall  f1-score   support\n",
      "\n",
      "           0       0.64      0.69      0.66       121\n",
      "           1       0.70      0.64      0.67       133\n",
      "\n",
      "    accuracy                           0.67       254\n",
      "   macro avg       0.67      0.67      0.67       254\n",
      "weighted avg       0.67      0.67      0.67       254\n",
      "\n"
     ]
    }
   ],
   "source": [
    "from sklearn.neighbors import KNeighborsClassifier\n",
    "kn=KNeighborsClassifier()\n",
    "kn.fit(x_train,y_train)\n",
    "predkn=kn.predict(x_test)\n",
    "print(accuracy_score(y_test,predkn))\n",
    "print(confusion_matrix(y_test,predkn))\n",
    "print(classification_report(y_test,predkn))"
   ]
  },
  {
   "cell_type": "markdown",
   "id": "ceb9e8f0",
   "metadata": {},
   "source": [
    "We can observe from above observation from all the machine learning model that Random Forest Classifier is giving us the best Accuracy score of 84% as compared to other models.\n",
    "\n",
    "But this might be due to overfitting or underfitting of the dataset in the model. So, for confirmation we will validate all the ML models with the Cross validation score of the all the models."
   ]
  },
  {
   "cell_type": "markdown",
   "id": "c185d2df",
   "metadata": {},
   "source": [
    "# Cross - Validation Score"
   ]
  },
  {
   "cell_type": "code",
   "execution_count": 66,
   "id": "3399dd94",
   "metadata": {},
   "outputs": [
    {
     "name": "stdout",
     "output_type": "stream",
     "text": [
      "Cross Validation score of Logistic Regression Model:  0.7488517892364046\n"
     ]
    }
   ],
   "source": [
    "#Checking the cross validation score of Logistic Regresssor model\n",
    "from sklearn.model_selection import cross_val_score\n",
    "\n",
    "cvr=cross_val_score(lr,x,y,cv=5)\n",
    "print(\"Cross Validation score of Logistic Regression Model: \",cvr.mean())"
   ]
  },
  {
   "cell_type": "code",
   "execution_count": 67,
   "id": "970724a3",
   "metadata": {},
   "outputs": [
    {
     "name": "stdout",
     "output_type": "stream",
     "text": [
      "Cross Validation score of Forest Classifier Model:  0.823555931248239\n"
     ]
    }
   ],
   "source": [
    "#Checking the cross validation score of Random Forest Classifier model\n",
    "\n",
    "cvr=cross_val_score(rf,x,y,cv=5)\n",
    "print(\"Cross Validation score of Forest Classifier Model: \",cvr.mean())"
   ]
  },
  {
   "cell_type": "code",
   "execution_count": 68,
   "id": "9c4d69e3",
   "metadata": {},
   "outputs": [
    {
     "name": "stdout",
     "output_type": "stream",
     "text": [
      "Cross Validation score of Decision Tree Classifier Model:  0.7547689489997182\n"
     ]
    }
   ],
   "source": [
    "#Checking the cross validation score of Decision Tree classifier model\n",
    "\n",
    "cvr=cross_val_score(dtc,x,y,cv=5)\n",
    "print(\"Cross Validation score of Decision Tree Classifier Model: \",cvr.mean())"
   ]
  },
  {
   "cell_type": "code",
   "execution_count": 69,
   "id": "c24f557a",
   "metadata": {},
   "outputs": [
    {
     "name": "stdout",
     "output_type": "stream",
     "text": [
      "Cross Validation score of KNeighbors Classifier Model:  0.6220484643561567\n"
     ]
    }
   ],
   "source": [
    "#Checking the cross validation score of KNeighbors Classifier model\n",
    "\n",
    "cvr=cross_val_score(kn,x,y,cv=5)\n",
    "print(\"Cross Validation score of KNeighbors Classifier Model: \",cvr.mean())"
   ]
  },
  {
   "cell_type": "markdown",
   "id": "7d0c91fb",
   "metadata": {},
   "source": [
    "Comparing the Scores of the respective Machine lwarning models and cross validation scores, we came to the conclusion as Random Forest Classifier is the best MAchine Learning model as it has the least diffrence between the respective scores. Randomforest classifier is giving the accuracy of 84%."
   ]
  },
  {
   "cell_type": "markdown",
   "id": "21ec4a01",
   "metadata": {},
   "source": [
    "# Hyper Paramter tuning"
   ]
  },
  {
   "cell_type": "code",
   "execution_count": 70,
   "id": "d7543eb1",
   "metadata": {},
   "outputs": [],
   "source": [
    "#Importing the GridSearchCV library\n",
    "\n",
    "from sklearn.model_selection import GridSearchCV\n",
    "\n",
    "parameters={\"criterion\":(\"gini\",\"entropy\"), \n",
    "            \"max_depth\":[10, 20, 30, 40, 50, 60, 70, 80, 90, 100, None]}"
   ]
  },
  {
   "cell_type": "code",
   "execution_count": 71,
   "id": "472a8ede",
   "metadata": {},
   "outputs": [
    {
     "data": {
      "text/plain": [
       "{'criterion': 'gini', 'max_depth': 10}"
      ]
     },
     "execution_count": 71,
     "metadata": {},
     "output_type": "execute_result"
    }
   ],
   "source": [
    "GCV=GridSearchCV(rf,parameters,cv=5)\n",
    "GCV.fit(x_train,y_train)\n",
    "GCV.best_params_"
   ]
  },
  {
   "cell_type": "code",
   "execution_count": 72,
   "id": "ca1f54a8",
   "metadata": {},
   "outputs": [
    {
     "name": "stdout",
     "output_type": "stream",
     "text": [
      "Best Accuracy Score:  83.07086614173228\n"
     ]
    }
   ],
   "source": [
    "best_mod=RandomForestClassifier(criterion='gini',max_depth=10)\n",
    "\n",
    "best_mod.fit(x_train,y_train)\n",
    "pred=best_mod.predict(x_test)\n",
    "print(\"Best Accuracy Score: \",accuracy_score(y_test,pred)*100)"
   ]
  },
  {
   "cell_type": "markdown",
   "id": "599dbe15",
   "metadata": {},
   "source": [
    "# AUC_SCORE"
   ]
  },
  {
   "cell_type": "code",
   "execution_count": 73,
   "id": "f339b7e5",
   "metadata": {},
   "outputs": [
    {
     "name": "stdout",
     "output_type": "stream",
     "text": [
      "[0.77 0.89 0.07 0.78 0.66 0.7  0.06 0.54 0.04 0.13 0.44 0.12 0.5  0.06\n",
      " 0.06 0.67 0.01 0.08 0.56 0.9  0.79 0.61 0.91 0.63 0.6  0.   0.82 0.04\n",
      " 0.13 0.94 0.94 0.76 0.54 0.82 0.59 0.88 0.61 0.32 0.79 0.77 0.81 0.57\n",
      " 0.16 0.48 0.41 0.28 0.22 0.04 0.46 0.83 0.8  0.8  0.09 0.66 0.66 0.07\n",
      " 0.6  0.59 0.9  0.83 0.35 0.88 0.76 0.29 0.02 0.87 0.11 0.64 0.68 0.3\n",
      " 0.8  0.75 0.87 0.   0.   0.17 0.33 0.96 0.87 0.65 0.89 0.65 0.01 0.17\n",
      " 0.78 0.77 0.   0.14 0.85 0.35 0.89 0.54 0.08 0.79 0.85 0.47 0.75 0.75\n",
      " 0.01 0.99 0.16 0.05 0.67 0.1  0.89 0.22 0.11 0.   0.54 0.62 0.89 0.25\n",
      " 0.05 0.84 0.53 0.47 0.02 0.05 0.9  0.73 0.94 0.84 0.16 0.79 0.84 0.96\n",
      " 0.11 0.87 0.94 0.04 0.9  0.99 0.59 0.84 0.76 0.59 0.81 0.16 0.36 0.78\n",
      " 0.   0.15 0.97 0.59 0.67 0.71 0.02 0.72 0.78 0.03 0.11 0.78 0.65 0.16\n",
      " 0.79 0.69 0.74 0.83 0.56 0.02 0.98 0.82 0.73 0.03 0.58 0.54 0.82 0.03\n",
      " 0.7  0.01 0.79 0.78 0.84 0.82 0.82 0.04 0.18 0.74 0.64 0.9  0.72 0.56\n",
      " 0.51 0.11 0.05 0.96 0.09 0.05 0.82 0.   0.54 0.59 0.33 0.68 0.56 0.04\n",
      " 0.01 0.64 0.65 0.11 0.14 0.8  0.09 0.42 0.91 0.3  0.04 0.66 0.08 0.69\n",
      " 0.03 0.4  0.67 0.75 0.48 0.63 0.04 0.78 0.29 0.03 0.22 0.61 0.73 0.59\n",
      " 0.05 0.34 0.78 0.01 0.65 0.3  0.9  0.84 0.46 0.72 0.81 0.26 0.91 0.75\n",
      " 0.93 0.02 0.17 0.12 0.72 0.92 0.05 0.8  0.65 0.1  0.02 0.86 0.08 0.11\n",
      " 0.06 0.27]\n"
     ]
    }
   ],
   "source": [
    "#import the necessary libraries\n",
    "import matplotlib.pyplot as plt\n",
    "from sklearn.metrics import roc_curve, auc, roc_auc_score\n",
    "\n",
    "y_pred_prob=rf.predict_proba(x_test)[:,1]\n",
    "print(y_pred_prob)"
   ]
  },
  {
   "cell_type": "code",
   "execution_count": 74,
   "id": "5cca56ef",
   "metadata": {},
   "outputs": [],
   "source": [
    "fpr,tpr,thresholds=roc_curve(y_test,y_pred_prob)"
   ]
  },
  {
   "cell_type": "code",
   "execution_count": 75,
   "id": "930e11df",
   "metadata": {},
   "outputs": [
    {
     "data": {
      "image/png": "[encoded data removed]",
      "text/plain": [
       "<Figure size 432x288 with 1 Axes>"
      ]
     },
     "metadata": {
      "needs_background": "light"
     },
     "output_type": "display_data"
    }
   ],
   "source": [
    "plt.plot([0,1],[0,1],'k--')\n",
    "plt.plot(fpr,tpr,label='Logisitic Regression')\n",
    "plt.xlabel(\"False Positive Rate\")\n",
    "plt.ylabel(\"True Positive Rate\")\n",
    "plt.title(\"Random Forest Classifier\")\n",
    "plt.show()"
   ]
  },
  {
   "cell_type": "code",
   "execution_count": 76,
   "id": "afe30ece",
   "metadata": {},
   "outputs": [],
   "source": [
    "auc_score=roc_auc_score(y_test,rf.predict(x_test))"
   ]
  },
  {
   "cell_type": "code",
   "execution_count": 77,
   "id": "c3ab348c",
   "metadata": {},
   "outputs": [
    {
     "name": "stdout",
     "output_type": "stream",
     "text": [
      "AUC Score :  0.8395575716149879\n"
     ]
    }
   ],
   "source": [
    "print(\"AUC Score : \",auc_score)"
   ]
  },
  {
   "cell_type": "markdown",
   "id": "a0dbb13e",
   "metadata": {},
   "source": [
    "# Saving the Model"
   ]
  },
  {
   "cell_type": "code",
   "execution_count": 78,
   "id": "a3602157",
   "metadata": {},
   "outputs": [
    {
     "data": {
      "text/plain": [
       "['Loan Application Status Prediction.pkl']"
      ]
     },
     "execution_count": 78,
     "metadata": {},
     "output_type": "execute_result"
    }
   ],
   "source": [
    "import joblib\n",
    "joblib.dump(best_mod,\"Loan Application Status Prediction.pkl\")"
   ]
  },
  {
   "cell_type": "code",
   "execution_count": 79,
   "id": "8da09735",
   "metadata": {},
   "outputs": [
    {
     "name": "stdout",
     "output_type": "stream",
     "text": [
      "83.07086614173228\n"
     ]
    }
   ],
   "source": [
    "#Checking if the model is working\n",
    "model=joblib.load(\"Loan Application Status Prediction.pkl\")\n",
    "prediction=model.predict(x_test)\n",
    "print(accuracy_score(y_test,prediction)*100)"
   ]
  },
  {
   "cell_type": "markdown",
   "id": "e2048094",
   "metadata": {},
   "source": [
    "The accuracy score around 83% is very accuracy that is considerable but can be increase more, if more data featuring technique applied."
   ]
  }
 ],
 "metadata": {
  "kernelspec": {
   "display_name": "Python 3",
   "language": "python",
   "name": "python3"
  },
  "language_info": {
   "codemirror_mode": {
    "name": "ipython",
    "version": 3
   },
   "file_extension": ".py",
   "mimetype": "text/x-python",
   "name": "python",
   "nbconvert_exporter": "python",
   "pygments_lexer": "ipython3",
   "version": "3.6.2"
  }
 },
 "nbformat": 4,
 "nbformat_minor": 5
}
